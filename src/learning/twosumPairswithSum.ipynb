{
 "cells": [
  {
   "cell_type": "code",
   "execution_count": null,
   "metadata": {},
   "outputs": [],
   "source": [
    "\"\"\"Given an integer array arr, return all the unique pairs [arr[i], arr[j]] such that i != j and arr[i] + arr[j] == 0.\n",
    "\n",
    "Note: The pairs must be returned in sorted order, the solution array should also be sorted, and the answer must not contain any duplicate pairs.\"\"\""
   ]
  },
  {
   "cell_type": "code",
   "execution_count": 14,
   "metadata": {},
   "outputs": [
    {
     "name": "stdout",
     "output_type": "stream",
     "text": [
      "[(-1, 1)]\n"
     ]
    }
   ],
   "source": [
    "def find_unique_pairs(arr):\n",
    "    arr.sort()\n",
    "    seen=set()\n",
    "    unique_pairs= set()\n",
    "    \n",
    "    for num in arr:\n",
    "        complement = -num\n",
    "        if complement in seen:\n",
    "            unique_pairs.add(tuple(sorted((num, complement)))) \n",
    "        seen.add(num)    \n",
    "    return sorted(unique_pairs)\n",
    "\n",
    "\n",
    "arr = [-1, 0, 1, 2, -1, -4]\n",
    "print(find_unique_pairs(arr))\n",
    "    \n",
    "        "
   ]
  },
  {
   "cell_type": "code",
   "execution_count": null,
   "metadata": {},
   "outputs": [],
   "source": []
  }
 ],
 "metadata": {
  "kernelspec": {
   "display_name": "python-learning-vL-Vt3Db-py3.9",
   "language": "python",
   "name": "python3"
  },
  "language_info": {
   "codemirror_mode": {
    "name": "ipython",
    "version": 3
   },
   "file_extension": ".py",
   "mimetype": "text/x-python",
   "name": "python",
   "nbconvert_exporter": "python",
   "pygments_lexer": "ipython3",
   "version": "3.9.16"
  },
  "orig_nbformat": 4
 },
 "nbformat": 4,
 "nbformat_minor": 2
}
