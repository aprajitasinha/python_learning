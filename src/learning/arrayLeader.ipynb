{
 "cells": [
  {
   "cell_type": "code",
   "execution_count": 1,
   "metadata": {},
   "outputs": [
    {
     "data": {
      "text/plain": [
       "'You are given an array arr of positive integers. Your task is to find all the leaders in the array. An element is considered a leader if it is greater than or equal to all elements to its right. The rightmost element is always a leader.\\n\\nExamples:\\n\\nInput: arr = [16, 17, 4, 3, 5, 2]\\nOutput: [17, 5, 2]\\nExplanation: Note that there is nothing greater on the right side of 17, 5 and, 2.'"
      ]
     },
     "execution_count": 1,
     "metadata": {},
     "output_type": "execute_result"
    }
   ],
   "source": [
    "\"\"\"You are given an array arr of positive integers. Your task is to find all the leaders in the array. An element is considered a leader if it is greater than or equal to all elements to its right. The rightmost element is always a leader.\n",
    "\n",
    "Examples:\n",
    "\n",
    "Input: arr = [16, 17, 4, 3, 5, 2]\n",
    "Output: [17, 5, 2]\n",
    "Explanation: Note that there is nothing greater on the right side of 17, 5 and, 2.\"\"\""
   ]
  },
  {
   "cell_type": "code",
   "execution_count": 2,
   "metadata": {},
   "outputs": [
    {
     "data": {
      "text/plain": [
       "[43, 8]"
      ]
     },
     "execution_count": 2,
     "metadata": {},
     "output_type": "execute_result"
    }
   ],
   "source": [
    "def find_leder(arr):\n",
    "    n=len(arr)\n",
    "    leaders=[]\n",
    "    max_from_right = arr[-1]\n",
    "    leaders.append(max_from_right)\n",
    "    \n",
    "    for i in range(n-2,-1,-1):\n",
    "        if arr[i] >= max_from_right:\n",
    "            max_from_right=arr[i]\n",
    "            leaders.append(arr[i])\n",
    "    return leaders[::-1]\n",
    "\n",
    "arr= [13,43,4,6,8]\n",
    "find_leder(arr)   "
   ]
  }
 ],
 "metadata": {
  "kernelspec": {
   "display_name": "python-learning-vL-Vt3Db-py3.9",
   "language": "python",
   "name": "python3"
  },
  "language_info": {
   "codemirror_mode": {
    "name": "ipython",
    "version": 3
   },
   "file_extension": ".py",
   "mimetype": "text/x-python",
   "name": "python",
   "nbconvert_exporter": "python",
   "pygments_lexer": "ipython3",
   "version": "3.9.16"
  },
  "orig_nbformat": 4
 },
 "nbformat": 4,
 "nbformat_minor": 2
}
