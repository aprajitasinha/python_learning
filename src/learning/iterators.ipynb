{
 "cells": [
  {
   "cell_type": "code",
   "execution_count": 6,
   "metadata": {},
   "outputs": [
    {
     "name": "stdout",
     "output_type": "stream",
     "text": [
      "G\n",
      "F\n",
      "G\n"
     ]
    }
   ],
   "source": [
    "s = \"GFG\"\n",
    "it = iter(s)\n",
    "\n",
    "print(next(it))\n",
    "print(next(it))\n",
    "print(next(it))"
   ]
  },
  {
   "cell_type": "code",
   "execution_count": 8,
   "metadata": {},
   "outputs": [
    {
     "name": "stdout",
     "output_type": "stream",
     "text": [
      "2\n",
      "4\n",
      "6\n",
      "8\n",
      "10\n"
     ]
    }
   ],
   "source": [
    "class EvenNumbers:\n",
    "    def __iter__(self):\n",
    "        self.n = 2  # Start from the first even number\n",
    "        return self\n",
    "\n",
    "    def __next__(self):\n",
    "        x = self.n\n",
    "        self.n += 2  # Increment by 2 to get the next even number\n",
    "        return x\n",
    "\n",
    "# Create an instance of EvenNumbers\n",
    "even = EvenNumbers()\n",
    "it = iter(even)\n",
    "\n",
    "# Print the first five even numbers\n",
    "print(next(it))  \n",
    "print(next(it)) \n",
    "print(next(it))  \n",
    "print(next(it)) \n",
    "print(next(it))  \n"
   ]
  },
  {
   "cell_type": "code",
   "execution_count": 13,
   "metadata": {},
   "outputs": [
    {
     "name": "stdout",
     "output_type": "stream",
     "text": [
      "2\n",
      "4\n",
      "6\n",
      "8\n",
      "10\n",
      "12\n",
      "14\n"
     ]
    }
   ],
   "source": [
    "class EvenNumber:\n",
    "    def __iter__(self):\n",
    "        self.n=2\n",
    "        return self\n",
    "    def __next__(self):\n",
    "        x=self.n\n",
    "        self.n+=2\n",
    "        return x\n",
    "    \n",
    "even =EvenNumber()\n",
    "it=iter(even)\n",
    "    \n",
    "print(next(it))\n",
    "print(next(it))\n",
    "print(next(it))\n",
    "print(next(it))\n",
    "print(next(it))\n",
    "print(next(it))\n",
    "print(next(it))\n"
   ]
  },
  {
   "cell_type": "code",
   "execution_count": 22,
   "metadata": {},
   "outputs": [
    {
     "name": "stdout",
     "output_type": "stream",
     "text": [
      "100\n",
      "200\n",
      "300\n",
      "End of Iteration\n"
     ]
    }
   ],
   "source": [
    "li = [100, 200, 300]\n",
    "it = iter(li)\n",
    "while True:\n",
    "    try:\n",
    "        print(next(it))\n",
    "    except StopIteration:\n",
    "        print(\"End of Iteration\")\n",
    "        break #if we will not break loop will contine till infinite times\n",
    "        "
   ]
  }
 ],
 "metadata": {
  "kernelspec": {
   "display_name": "Django_Virtual",
   "language": "python",
   "name": "python3"
  },
  "language_info": {
   "codemirror_mode": {
    "name": "ipython",
    "version": 3
   },
   "file_extension": ".py",
   "mimetype": "text/x-python",
   "name": "python",
   "nbconvert_exporter": "python",
   "pygments_lexer": "ipython3",
   "version": "3.9.16"
  },
  "orig_nbformat": 4
 },
 "nbformat": 4,
 "nbformat_minor": 2
}
