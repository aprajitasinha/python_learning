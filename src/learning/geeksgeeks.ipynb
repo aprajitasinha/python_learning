{
 "cells": [
  {
   "cell_type": "code",
   "execution_count": 4,
   "metadata": {},
   "outputs": [
    {
     "data": {
      "text/plain": [
       "2"
      ]
     },
     "execution_count": 4,
     "metadata": {},
     "output_type": "execute_result"
    }
   ],
   "source": [
    "#Missing array\n",
    "def missingArray(arr):\n",
    "    n=len(arr)+1\n",
    "    total_sum=n*(n+1)//2\n",
    "    array_sum=sum(arr)\n",
    "    return (total_sum-array_sum)\n",
    "\n",
    "missingArray([1,3,4,5,6])\n",
    "    "
   ]
  },
  {
   "cell_type": "code",
   "execution_count": 11,
   "metadata": {},
   "outputs": [
    {
     "data": {
      "text/plain": [
       "34"
      ]
     },
     "execution_count": 11,
     "metadata": {},
     "output_type": "execute_result"
    }
   ],
   "source": [
    "#Second Largest\n",
    "arr= [12, 35, 1, 10, 34, 1]\n",
    "def secondLargest(arr):\n",
    "    n=len(arr)\n",
    "    firstNo=float('-inf')\n",
    "    secondNo=float('-inf')\n",
    "    for i in arr:\n",
    "        if i>firstNo:\n",
    "            secondNo=firstNo\n",
    "            firstNo=i\n",
    "        if i>secondNo and i<firstNo:\n",
    "            secondNo=i\n",
    "    return secondNo        \n",
    "    \n",
    "secondLargest(arr)"
   ]
  },
  {
   "cell_type": "code",
   "execution_count": 13,
   "metadata": {},
   "outputs": [
    {
     "data": {
      "text/plain": [
       "[17, 5, 2]"
      ]
     },
     "execution_count": 13,
     "metadata": {},
     "output_type": "execute_result"
    }
   ],
   "source": [
    "#Array Leaders\n",
    "def leaderArray(arr):\n",
    "    leader=[]\n",
    "    n=len(arr)\n",
    "    max_from_right=arr[-1]\n",
    "    leader.append(max_from_right)\n",
    "    for i in range(n-2,-1,-1):\n",
    "        if arr[i]>=max_from_right:\n",
    "            max_from_right=arr[i]\n",
    "            leader.append(max_from_right)\n",
    "    return leader[::-1]\n",
    "leaderArray([16, 17, 4, 3, 5, 2])"
   ]
  },
  {
   "cell_type": "code",
   "execution_count": 15,
   "metadata": {},
   "outputs": [
    {
     "data": {
      "text/plain": [
       "[2, 3]"
      ]
     },
     "execution_count": 15,
     "metadata": {},
     "output_type": "execute_result"
    }
   ],
   "source": [
    "#Array Duplicates\n",
    "def arrDuplicate(arr):\n",
    "    freq={}\n",
    "    duplicate=[]\n",
    "    for num in arr:\n",
    "        if num in freq:\n",
    "            freq[num]+=1\n",
    "        else:\n",
    "            freq[num]=1\n",
    "    for key, value in freq.items():\n",
    "        if value >1:\n",
    "            duplicate.append(key)\n",
    "    return duplicate\n",
    "arrDuplicate( [2, 3, 1, 2, 3])\n",
    "       \n",
    "    "
   ]
  },
  {
   "cell_type": "code",
   "execution_count": 19,
   "metadata": {},
   "outputs": [
    {
     "data": {
      "text/plain": [
       "True"
      ]
     },
     "execution_count": 19,
     "metadata": {},
     "output_type": "execute_result"
    }
   ],
   "source": [
    "#Parenthesis Checker\n",
    "def parenthesisChecker(s):\n",
    "    stack= []\n",
    "    bracket_map= { ')': '(',  '}': '{' , ']' :'[' }\n",
    "    for  chars in s:\n",
    "        if chars in bracket_map:\n",
    "            top_element=stack.pop() if stack else '#'\n",
    "            if bracket_map[chars]!=top_element:\n",
    "                return False\n",
    "        else:\n",
    "            stack.append(chars)\n",
    "    return not stack\n",
    "parenthesisChecker(\"[{()}]\")\n",
    "\n"
   ]
  },
  {
   "cell_type": "code",
   "execution_count": 22,
   "metadata": {},
   "outputs": [
    {
     "data": {
      "text/plain": [
       "2"
      ]
     },
     "execution_count": 22,
     "metadata": {},
     "output_type": "execute_result"
    }
   ],
   "source": [
    "#Equilibrium Point\n",
    "def equilibriumPoint(arr):\n",
    "    n=len(arr)\n",
    "    total_sum=sum(arr)\n",
    "    left_sum=0\n",
    "    for i in range(n):\n",
    "        right_sum=total_sum-left_sum-arr[i]\n",
    "        if left_sum==right_sum:\n",
    "            return i\n",
    "        left_sum+=arr[i]\n",
    "    return -1\n",
    "equilibriumPoint([1, 2, 0, 3])\n",
    "    "
   ]
  },
  {
   "cell_type": "code",
   "execution_count": 24,
   "metadata": {},
   "outputs": [
    {
     "data": {
      "text/plain": [
       "[1, 5]"
      ]
     },
     "execution_count": 24,
     "metadata": {},
     "output_type": "execute_result"
    }
   ],
   "source": [
    "#Missing And Repeating\n",
    "def missingAndRepeating(arr):\n",
    "    repeating=-1\n",
    "    seen=set()\n",
    "    n=len(arr)\n",
    "    actual_sum=0\n",
    "    for num in arr:\n",
    "        if num  in seen:\n",
    "            repeating=num\n",
    "        else:\n",
    "            seen.add(num)\n",
    "            actual_sum+=num\n",
    "        excepted_sum=n*(n+1)//2\n",
    "        missing_num=excepted_sum-actual_sum\n",
    "    return [repeating,missing_num]\n",
    "missingAndRepeating([4, 3, 6, 2, 1, 1])\n"
   ]
  },
  {
   "cell_type": "code",
   "execution_count": 29,
   "metadata": {},
   "outputs": [
    {
     "data": {
      "text/plain": [
       "3"
      ]
     },
     "execution_count": 29,
     "metadata": {},
     "output_type": "execute_result"
    }
   ],
   "source": [
    "#binarySearch\n",
    "def binarysearch( arr, k):\n",
    "    n=len(arr)\n",
    "    for i in range(n):\n",
    "        if k==arr[i]:\n",
    "            return i\n",
    "    return -1      \n",
    "binarysearch( [1, 2, 3, 4, 5], 4)  "
   ]
  },
  {
   "cell_type": "code",
   "execution_count": 31,
   "metadata": {},
   "outputs": [
    {
     "data": {
      "text/plain": [
       "[(-1, 1)]"
      ]
     },
     "execution_count": 31,
     "metadata": {},
     "output_type": "execute_result"
    }
   ],
   "source": [
    "#Two sum -Pairs with 0 Sum\n",
    "def getPair(arr):\n",
    "    arr.sort()\n",
    "    seen=set()\n",
    "    uniquie_pairs=set()\n",
    "    for num in arr:\n",
    "        complement =- num\n",
    "        if complement in seen:\n",
    "            uniquie_pairs.add(tuple(sorted((num, complement)))) \n",
    "        seen.add(num)\n",
    "    return sorted(uniquie_pairs)\n",
    "\n",
    "getPair( [-1, 0, 1, 2, -1, -4])\n",
    "    "
   ]
  },
  {
   "cell_type": "code",
   "execution_count": 33,
   "metadata": {},
   "outputs": [
    {
     "data": {
      "text/plain": [
       "2"
      ]
     },
     "execution_count": 33,
     "metadata": {},
     "output_type": "execute_result"
    }
   ],
   "source": [
    "#Count Digits\n",
    "def countDigits(n):\n",
    "    count=0\n",
    "    for digit in str(n):\n",
    "        d=int(digit)\n",
    "        if d!=0and n%d==0:\n",
    "            count+=1\n",
    "    return count\n",
    "countDigits(12)"
   ]
  },
  {
   "cell_type": "code",
   "execution_count": 36,
   "metadata": {},
   "outputs": [
    {
     "data": {
      "text/plain": [
       "90"
      ]
     },
     "execution_count": 36,
     "metadata": {},
     "output_type": "execute_result"
    }
   ],
   "source": [
    "#Largest Element in Array\n",
    "def largestElement(arr):\n",
    "    arr.sort()\n",
    "    for i in arr:\n",
    "        return arr[-1]\n",
    "largestElement([1, 8, 7, 56, 90,4])"
   ]
  },
  {
   "cell_type": "code",
   "execution_count": 38,
   "metadata": {},
   "outputs": [
    {
     "name": "stdout",
     "output_type": "stream",
     "text": [
      "15\n"
     ]
    }
   ],
   "source": [
    "#Sum of Natural Numbers\n",
    "def sumOfNaturalNo(n):\n",
    "    sum_=n*(n+1)//2\n",
    "    print(sum_)\n",
    "    \n",
    "sumOfNaturalNo(5)\n",
    "    \n"
   ]
  },
  {
   "cell_type": "code",
   "execution_count": 40,
   "metadata": {},
   "outputs": [
    {
     "data": {
      "text/plain": [
       "2"
      ]
     },
     "execution_count": 40,
     "metadata": {},
     "output_type": "execute_result"
    }
   ],
   "source": [
    "#Array Search\n",
    "def arraySearch(arr,x):\n",
    "    n=len(arr)\n",
    "    for i in range(n):\n",
    "        if arr[i] == x:\n",
    "            return i\n",
    "    return -1\n",
    "arraySearch([1, 2, 3, 4],  3)\n",
    "\n"
   ]
  },
  {
   "cell_type": "code",
   "execution_count": 42,
   "metadata": {},
   "outputs": [
    {
     "data": {
      "text/plain": [
       "5"
      ]
     },
     "execution_count": 42,
     "metadata": {},
     "output_type": "execute_result"
    }
   ],
   "source": [
    "#union of array\n",
    "a = [1, 2, 3, 4, 5]\n",
    "b= [1, 2, 3]\n",
    "def unionOfArray(a,b):\n",
    "   len_arr=set(a).union(set(b))\n",
    "   return len(len_arr)\n",
    "unionOfArray(a,b)\n",
    "    "
   ]
  },
  {
   "cell_type": "code",
   "execution_count": 44,
   "metadata": {},
   "outputs": [
    {
     "data": {
      "text/plain": [
       "True"
      ]
     },
     "execution_count": 44,
     "metadata": {},
     "output_type": "execute_result"
    }
   ],
   "source": [
    "#Array Subset\n",
    "def arrSubset(a,b):\n",
    "    freq={}\n",
    "    for num in a:\n",
    "        freq[num]=freq.get(num,0)+1\n",
    "    for num in b:\n",
    "        if freq.get(num,0)==0:\n",
    "            return False\n",
    "        freq[num]=-1\n",
    "    return True\n",
    "\n",
    "arrSubset([11, 7, 1, 13, 21, 3, 7, 3], [11, 3, 7, 1, 7])\n",
    "        "
   ]
  },
  {
   "cell_type": "code",
   "execution_count": 46,
   "metadata": {},
   "outputs": [
    {
     "data": {
      "text/plain": [
       "True"
      ]
     },
     "execution_count": 46,
     "metadata": {},
     "output_type": "execute_result"
    }
   ],
   "source": [
    "#Power of 2:\n",
    "def isPowerOfTwo(n):\n",
    "    if n<=0:\n",
    "        return False\n",
    "    return (n &(n-1))==0\n",
    "\n",
    "isPowerOfTwo(8)\n",
    "\n",
    "    "
   ]
  },
  {
   "cell_type": "code",
   "execution_count": 49,
   "metadata": {},
   "outputs": [
    {
     "data": {
      "text/plain": [
       "[20, 80]"
      ]
     },
     "execution_count": 49,
     "metadata": {},
     "output_type": "execute_result"
    }
   ],
   "source": [
    "#Common in 3 Sorted Arrays\n",
    "a=[1, 5, 10, 20, 40, 80] \n",
    "b = [6, 7, 20, 80, 100] \n",
    "c = [3, 4, 15, 20, 30, 70, 80, 120]\n",
    "def commonInSortedArray(a,b,c):\n",
    "    common=set(a)&set(b)&set(c)\n",
    "    return sorted(common) if common else [-1]\n",
    "commonInSortedArray(a,b,c)"
   ]
  },
  {
   "cell_type": "code",
   "execution_count": 51,
   "metadata": {},
   "outputs": [
    {
     "data": {
      "text/plain": [
       "'skeeg'"
      ]
     },
     "execution_count": 51,
     "metadata": {},
     "output_type": "execute_result"
    }
   ],
   "source": [
    "#Reverse a String\n",
    "def reverseString(s):\n",
    "    return s[::-1]\n",
    "reverseString(\"geeks\")\n",
    "\n"
   ]
  },
  {
   "cell_type": "code",
   "execution_count": 55,
   "metadata": {},
   "outputs": [
    {
     "data": {
      "text/plain": [
       "True"
      ]
     },
     "execution_count": 55,
     "metadata": {},
     "output_type": "execute_result"
    }
   ],
   "source": [
    "#Anagram\n",
    "def anagram(s1,s2):\n",
    "    if len(s1)!=len(s2):\n",
    "        return False\n",
    "    return sorted(s1)==sorted(s2)\n",
    "anagram(\"geeks\",\"seegk\")"
   ]
  },
  {
   "cell_type": "code",
   "execution_count": 58,
   "metadata": {},
   "outputs": [
    {
     "data": {
      "text/plain": [
       "True"
      ]
     },
     "execution_count": 58,
     "metadata": {},
     "output_type": "execute_result"
    }
   ],
   "source": [
    "#Palindrome String\n",
    "def palindrome(s):\n",
    "    return s==s[::-1]\n",
    "palindrome(\"abba\")"
   ]
  },
  {
   "cell_type": "code",
   "execution_count": 59,
   "metadata": {},
   "outputs": [
    {
     "data": {
      "text/plain": [
       "True"
      ]
     },
     "execution_count": 59,
     "metadata": {},
     "output_type": "execute_result"
    }
   ],
   "source": [
    "#Check Equal Arrays\n",
    "def checkEqualArray(arr1,arr2):\n",
    "    if len(arr1)!=len(arr2):\n",
    "        return False\n",
    "    arr1.sort()\n",
    "    arr2.sort()\n",
    "    for i in range(len(arr1)):\n",
    "        if arr1[i]!=arr2[i]:\n",
    "            return False\n",
    "    return True\n",
    "checkEqualArray([1, 2, 5, 4, 0],[2, 4, 5, 0, 1])\n",
    "    \n"
   ]
  },
  {
   "cell_type": "code",
   "execution_count": 62,
   "metadata": {},
   "outputs": [
    {
     "data": {
      "text/plain": [
       "'much very program this like i'"
      ]
     },
     "execution_count": 62,
     "metadata": {},
     "output_type": "execute_result"
    }
   ],
   "source": [
    "#Reverse Words\n",
    "def reverseWords(s):\n",
    "    return ' '.join(s.split()[::-1])\n",
    "reverseWords( \" i like this program very much \")"
   ]
  },
  {
   "cell_type": "code",
   "execution_count": 71,
   "metadata": {},
   "outputs": [
    {
     "name": "stdout",
     "output_type": "stream",
     "text": [
      "The middle element is: 3\n"
     ]
    }
   ],
   "source": [
    "#Middle of a Linked List\n",
    "class Solution:\n",
    "    def __init__(self,data):\n",
    "        self.data=data\n",
    "        self.next=None\n",
    "    @staticmethod   \n",
    "    def getMiddle(head):\n",
    "        if head is None:\n",
    "            return -1\n",
    "        slow =head\n",
    "        fast=head\n",
    "        while fast and fast.next:\n",
    "            slow=slow.next\n",
    "            fast=fast.next.next\n",
    "        return slow.data\n",
    "    \n",
    "def create_linked_list(elements):\n",
    "    if not elements:\n",
    "        return None\n",
    "    head = Solution(elements[0])\n",
    "    current = head\n",
    "    for value in elements[1:]:\n",
    "        current.next = Solution(value)\n",
    "        current = current.next\n",
    "    return head\n",
    "elements = [1, 2, 3, 4, 5]  # Elements of the linked list\n",
    "head = create_linked_list(elements)  # Create the linked list\n",
    "result = Solution.getMiddle(head)   # Call the getMiddle method\n",
    "print(\"The middle element is:\", result)"
   ]
  },
  {
   "cell_type": "code",
   "execution_count": 73,
   "metadata": {},
   "outputs": [
    {
     "data": {
      "text/plain": [
       "True"
      ]
     },
     "execution_count": 73,
     "metadata": {},
     "output_type": "execute_result"
    }
   ],
   "source": [
    "#Two Sum - Pair with Given Sum\n",
    "arr=[1, 4, 45, 6, 10, 8]\n",
    "target = 16\n",
    "def twoSum(arr,target):\n",
    "    seen=set()\n",
    "    for i in arr:\n",
    "        number=target-i\n",
    "        if number in seen:\n",
    "            return True\n",
    "        seen.add(i)\n",
    "    return False    \n",
    "twoSum(arr,target)\n",
    "\n"
   ]
  },
  {
   "cell_type": "code",
   "execution_count": 78,
   "metadata": {},
   "outputs": [
    {
     "data": {
      "text/plain": [
       "[0, 2, 2, 0, 1]"
      ]
     },
     "execution_count": 78,
     "metadata": {},
     "output_type": "execute_result"
    }
   ],
   "source": [
    "#Frequencies in a Limited Array\n",
    "def  frequencyCount(arr):\n",
    "    n=len(arr)\n",
    "    result=[0]*n\n",
    "    for num in arr:\n",
    "        if 1<=num<=n:\n",
    "            result[num-1]+=1\n",
    "    return result\n",
    "\n",
    "frequencyCount([2, 3, 2, 3, 5])\n",
    "\n",
    "        "
   ]
  },
  {
   "cell_type": "code",
   "execution_count": 80,
   "metadata": {},
   "outputs": [
    {
     "data": {
      "text/plain": [
       "5"
      ]
     },
     "execution_count": 80,
     "metadata": {},
     "output_type": "execute_result"
    }
   ],
   "source": [
    "#Nth Fibonacci Number\n",
    "def fibonacciNumber(n):\n",
    "    if n==0:\n",
    "        return 0\n",
    "    if n==1:\n",
    "        return 1\n",
    "    a=0\n",
    "    b=1\n",
    "    for i in range(2,n+1):\n",
    "        a,b=b,a+b\n",
    "    return b\n",
    "fibonacciNumber(5)"
   ]
  },
  {
   "cell_type": "code",
   "execution_count": 90,
   "metadata": {},
   "outputs": [
    {
     "name": "stdout",
     "output_type": "stream",
     "text": [
      "[3, 2, 1, 5, 4]\n"
     ]
    }
   ],
   "source": [
    "#Reverse array in groups\n",
    "arr=[1, 2, 3, 4, 5]\n",
    "k = 3\n",
    "def reverseArray(arr,k):\n",
    "    n=len(arr)\n",
    "    for i in range(0,n,k):\n",
    "        left=i\n",
    "        right = min(i + k - 1, n - 1)  \n",
    "        while left<right:\n",
    "            arr[left],arr[right]=arr[right],arr[left]\n",
    "            left+=1\n",
    "            right-=1\n",
    "    print(arr)\n",
    "reverseArray(arr,3)    "
   ]
  },
  {
   "cell_type": "code",
   "execution_count": 94,
   "metadata": {},
   "outputs": [
    {
     "name": "stdout",
     "output_type": "stream",
     "text": [
      "Original List:\n",
      "1 -> 2 -> 3 -> 4 -> 5\n",
      "Reversed List:\n",
      "5 -> 4 -> 3 -> 2 -> 1\n"
     ]
    }
   ],
   "source": [
    "#Reverse a linked list\n",
    "class Solution:\n",
    "    def __init__(self, val):\n",
    "        self.data = val\n",
    "        self.next = None\n",
    "\n",
    "    @staticmethod\n",
    "    def reverseList(head):\n",
    "        prev = None\n",
    "        current = head\n",
    "        while current:\n",
    "            next_node = current.next\n",
    "            current.next = prev\n",
    "            prev = current\n",
    "            current = next_node\n",
    "        return prev\n",
    "\n",
    "def create_linked_list(values):\n",
    "    if not values:\n",
    "        return None\n",
    "    head = Solution(values[0])\n",
    "    current = head\n",
    "    for val in values[1:]:\n",
    "        current.next = Solution(val)\n",
    "        current = current.next\n",
    "    return head\n",
    "\n",
    "def print_linked_list(head):\n",
    "    current = head\n",
    "    while current:\n",
    "        print(current.data, end=\" -> \" if current.next else \"\\n\")\n",
    "        current = current.next\n",
    "\n",
    "# Test it\n",
    "arr = [1, 2, 3, 4, 5]\n",
    "head = create_linked_list(arr)\n",
    "print(\"Original List:\")\n",
    "print_linked_list(head)\n",
    "\n",
    "reversed_head = Solution.reverseList(head)\n",
    "print(\"Reversed List:\")\n",
    "print_linked_list(reversed_head)\n"
   ]
  },
  {
   "cell_type": "code",
   "execution_count": 96,
   "metadata": {},
   "outputs": [
    {
     "data": {
      "text/plain": [
       "[1, 100]"
      ]
     },
     "execution_count": 96,
     "metadata": {},
     "output_type": "execute_result"
    }
   ],
   "source": [
    "#Min and Max in Array\n",
    "def minMax(arr):\n",
    "    arr.sort()\n",
    "    for i in arr:\n",
    "        minimun=arr[0]\n",
    "        maximun=arr[-1]\n",
    "    return [minimun,maximun]\n",
    "minMax([1,45,2,6,100])"
   ]
  },
  {
   "cell_type": "code",
   "execution_count": 98,
   "metadata": {},
   "outputs": [
    {
     "data": {
      "text/plain": [
       "3"
      ]
     },
     "execution_count": 98,
     "metadata": {},
     "output_type": "execute_result"
    }
   ],
   "source": [
    "#Number of occurrence\n",
    "def noOfOccurance(arr,target=2):\n",
    "    count=0\n",
    "    for i in arr:\n",
    "        if i ==target:\n",
    "            count+=1\n",
    "    return count\n",
    "noOfOccurance([0,0,2,2,3,2,3])"
   ]
  },
  {
   "cell_type": "code",
   "execution_count": 101,
   "metadata": {},
   "outputs": [
    {
     "data": {
      "text/plain": [
       "3"
      ]
     },
     "execution_count": 101,
     "metadata": {},
     "output_type": "execute_result"
    }
   ],
   "source": [
    "#Square Root\n",
    "import math \n",
    "def squareRoot(n):\n",
    "    return math.floor(math.sqrt(n))\n",
    "squareRoot(11)"
   ]
  },
  {
   "cell_type": "code",
   "execution_count": 103,
   "metadata": {},
   "outputs": [
    {
     "name": "stdout",
     "output_type": "stream",
     "text": [
      "[3, 2, 2, 0, 0, 0]\n"
     ]
    }
   ],
   "source": [
    "#Move All Zeroes to End\n",
    "def pushZeroToEnd(arr):\n",
    "    j=0\n",
    "    for i in range(len(arr)):\n",
    "        if arr[i]!=0:\n",
    "            arr[i],arr[j]=arr[j],arr[i]\n",
    "            j+=1\n",
    "    print(arr)\n",
    "pushZeroToEnd([0,0,3,2,0,2])"
   ]
  },
  {
   "cell_type": "code",
   "execution_count": null,
   "metadata": {},
   "outputs": [],
   "source": [
    "#Remove Duplicates from a Sorted Linked List\n"
   ]
  },
  {
   "cell_type": "code",
   "execution_count": 104,
   "metadata": {},
   "outputs": [
    {
     "name": "stdout",
     "output_type": "stream",
     "text": [
      "[5, 1, 2, 3, 4]\n"
     ]
    }
   ],
   "source": [
    "#Rotate Array by One\n",
    "arr = [1, 2, 3, 4, 5]\n",
    "def rotataArr(arr):\n",
    "    n=len(arr)\n",
    "    last_element=arr.pop()\n",
    "    arr.insert(0,last_element)\n",
    "    print(arr)\n",
    "rotataArr(arr)\n",
    "        \n"
   ]
  }
 ],
 "metadata": {
  "kernelspec": {
   "display_name": "Django_Virtual",
   "language": "python",
   "name": "python3"
  },
  "language_info": {
   "codemirror_mode": {
    "name": "ipython",
    "version": 3
   },
   "file_extension": ".py",
   "mimetype": "text/x-python",
   "name": "python",
   "nbconvert_exporter": "python",
   "pygments_lexer": "ipython3",
   "version": "3.9.16"
  },
  "orig_nbformat": 4
 },
 "nbformat": 4,
 "nbformat_minor": 2
}
