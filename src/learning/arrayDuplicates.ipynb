{
 "cells": [
  {
   "cell_type": "code",
   "execution_count": null,
   "metadata": {},
   "outputs": [],
   "source": [
    "\"\"\"Given an array arr of integers, find all the elements that occur more than once in the array. If no element repeats, return an empty array.\n",
    "\n",
    "Examples:\n",
    "\n",
    "Input: arr[] = [2, 3, 1, 2, 3]\n",
    "Output: [2, 3] \n",
    "Explanation: 2 and 3 occur more than once in the given array.\"\"\""
   ]
  },
  {
   "cell_type": "code",
   "execution_count": 7,
   "metadata": {},
   "outputs": [
    {
     "data": {
      "text/plain": [
       "[3]"
      ]
     },
     "execution_count": 7,
     "metadata": {},
     "output_type": "execute_result"
    }
   ],
   "source": [
    "\n",
    "def find_duplicates(arr):\n",
    "    freq_map = {}\n",
    "    duplicates = []\n",
    "\n",
    "    for num in arr:\n",
    "        \n",
    "       if num in freq_map:\n",
    "            freq_map[num] += 1\n",
    "       else:\n",
    "            freq_map[num] = 1 \n",
    "    for key , value in freq_map.items():\n",
    "        if value>1:\n",
    "            duplicates.append(key) \n",
    "    \n",
    "            \n",
    "    return duplicates\n",
    "\n",
    "arr =[1,3,4,3,3,2]\n",
    "find_duplicates(arr)\n",
    "\n"
   ]
  },
  {
   "cell_type": "code",
   "execution_count": null,
   "metadata": {},
   "outputs": [],
   "source": []
  }
 ],
 "metadata": {
  "kernelspec": {
   "display_name": "python-learning-vL-Vt3Db-py3.9",
   "language": "python",
   "name": "python3"
  },
  "language_info": {
   "codemirror_mode": {
    "name": "ipython",
    "version": 3
   },
   "file_extension": ".py",
   "mimetype": "text/x-python",
   "name": "python",
   "nbconvert_exporter": "python",
   "pygments_lexer": "ipython3",
   "version": "3.9.16"
  },
  "orig_nbformat": 4
 },
 "nbformat": 4,
 "nbformat_minor": 2
}
