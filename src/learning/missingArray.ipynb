{
 "cells": [
  {
   "cell_type": "code",
   "execution_count": 5,
   "metadata": {},
   "outputs": [
    {
     "data": {
      "text/plain": [
       "'You are given an array arr of size n - 1 that contains distinct integers in the range from 1 to n (inclusive). This\\narray represents a permutation of the integers from 1 to n with one element missing. Your task is to identify and return\\nthe missing element.'"
      ]
     },
     "execution_count": 5,
     "metadata": {},
     "output_type": "execute_result"
    }
   ],
   "source": [
    "\"\"\"You are given an array arr of size n - 1 that contains distinct integers in the range from 1 to n (inclusive). This\n",
    "array represents a permutation of the integers from 1 to n with one element missing. Your task is to identify and return\n",
    "the missing element.\n",
    "\n",
    "Input: arr[] = [1, 2, 3, 5]\n",
    "Output: 4\n",
    "Explanation: All the numbers from 1 to 5 are present except 4.\n",
    "\"\"\"\n",
    "\n",
    "\n"
   ]
  },
  {
   "cell_type": "code",
   "execution_count": 9,
   "metadata": {},
   "outputs": [
    {
     "data": {
      "text/plain": [
       "6"
      ]
     },
     "execution_count": 9,
     "metadata": {},
     "output_type": "execute_result"
    }
   ],
   "source": [
    "arr=[1,2,3,4,5]\n",
    "def find_missing_numbers(arr):\n",
    "    n=len(arr)+1\n",
    "    total_sum=n*(n+1)//2\n",
    "    arr_sum=sum(arr)\n",
    "    return (total_sum-arr_sum)\n",
    "\n",
    "find_missing_numbers(arr)\n",
    "    "
   ]
  }
 ],
 "metadata": {
  "kernelspec": {
   "display_name": "python-learning-vL-Vt3Db-py3.9",
   "language": "python",
   "name": "python3"
  },
  "language_info": {
   "codemirror_mode": {
    "name": "ipython",
    "version": 3
   },
   "file_extension": ".py",
   "mimetype": "text/x-python",
   "name": "python",
   "nbconvert_exporter": "python",
   "pygments_lexer": "ipython3",
   "version": "3.9.16"
  },
  "orig_nbformat": 4
 },
 "nbformat": 4,
 "nbformat_minor": 2
}
