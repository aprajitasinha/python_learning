{
 "cells": [
  {
   "cell_type": "code",
   "execution_count": 10,
   "metadata": {},
   "outputs": [],
   "source": [
    "import requests"
   ]
  },
  {
   "cell_type": "code",
   "execution_count": 22,
   "metadata": {},
   "outputs": [],
   "source": [
    "data = requests.get('https://groww.in/v1/api/charting_service/v4/chart/exchange/BSE/segment/CASH/530525?endTimeInMillis=1744648577776&intervalInMinutes=5&startTimeInMillis=1742927400000')"
   ]
  },
  {
   "cell_type": "code",
   "execution_count": 23,
   "metadata": {},
   "outputs": [],
   "source": [
    "data_json = data.json()"
   ]
  },
  {
   "cell_type": "code",
   "execution_count": 24,
   "metadata": {},
   "outputs": [],
   "source": [
    "data_candles = data_json['candles']"
   ]
  },
  {
   "cell_type": "code",
   "execution_count": 25,
   "metadata": {},
   "outputs": [],
   "source": [
    "data_list = []\n",
    "for each_data in data_candles:\n",
    "    temp_dict = {}\n",
    "    temp_dict['timestamp'] = each_data[0]\n",
    "    temp_dict['open'] = each_data[1]\n",
    "    temp_dict['high'] = each_data[2]\n",
    "    temp_dict['low'] = each_data[3]\n",
    "    temp_dict['close'] = each_data[4]\n",
    "    temp_dict['volume'] = each_data[5]\n",
    "    data_list.append(temp_dict)"
   ]
  },
  {
   "cell_type": "code",
   "execution_count": 16,
   "metadata": {},
   "outputs": [],
   "source": [
    "import pandas as pd"
   ]
  },
  {
   "cell_type": "code",
   "execution_count": 17,
   "metadata": {},
   "outputs": [
    {
     "data": {
      "text/html": [
       "<div>\n",
       "<style scoped>\n",
       "    .dataframe tbody tr th:only-of-type {\n",
       "        vertical-align: middle;\n",
       "    }\n",
       "\n",
       "    .dataframe tbody tr th {\n",
       "        vertical-align: top;\n",
       "    }\n",
       "\n",
       "    .dataframe thead th {\n",
       "        text-align: right;\n",
       "    }\n",
       "</style>\n",
       "<table border=\"1\" class=\"dataframe\">\n",
       "  <thead>\n",
       "    <tr style=\"text-align: right;\">\n",
       "      <th></th>\n",
       "      <th>timestamp</th>\n",
       "      <th>open</th>\n",
       "      <th>high</th>\n",
       "      <th>low</th>\n",
       "      <th>close</th>\n",
       "      <th>volume</th>\n",
       "    </tr>\n",
       "  </thead>\n",
       "  <tbody>\n",
       "    <tr>\n",
       "      <th>0</th>\n",
       "      <td>1742960700</td>\n",
       "      <td>7.82</td>\n",
       "      <td>7.82</td>\n",
       "      <td>7.80</td>\n",
       "      <td>7.80</td>\n",
       "      <td>10427</td>\n",
       "    </tr>\n",
       "    <tr>\n",
       "      <th>1</th>\n",
       "      <td>1742961000</td>\n",
       "      <td>7.82</td>\n",
       "      <td>7.82</td>\n",
       "      <td>7.80</td>\n",
       "      <td>7.82</td>\n",
       "      <td>12569</td>\n",
       "    </tr>\n",
       "    <tr>\n",
       "      <th>2</th>\n",
       "      <td>1742961300</td>\n",
       "      <td>7.80</td>\n",
       "      <td>7.80</td>\n",
       "      <td>7.79</td>\n",
       "      <td>7.79</td>\n",
       "      <td>16139</td>\n",
       "    </tr>\n",
       "    <tr>\n",
       "      <th>3</th>\n",
       "      <td>1742961600</td>\n",
       "      <td>7.79</td>\n",
       "      <td>7.79</td>\n",
       "      <td>7.75</td>\n",
       "      <td>7.75</td>\n",
       "      <td>19733</td>\n",
       "    </tr>\n",
       "    <tr>\n",
       "      <th>4</th>\n",
       "      <td>1742961900</td>\n",
       "      <td>7.75</td>\n",
       "      <td>7.75</td>\n",
       "      <td>7.60</td>\n",
       "      <td>7.75</td>\n",
       "      <td>23587</td>\n",
       "    </tr>\n",
       "    <tr>\n",
       "      <th>...</th>\n",
       "      <td>...</td>\n",
       "      <td>...</td>\n",
       "      <td>...</td>\n",
       "      <td>...</td>\n",
       "      <td>...</td>\n",
       "      <td>...</td>\n",
       "    </tr>\n",
       "    <tr>\n",
       "      <th>731</th>\n",
       "      <td>1744364220</td>\n",
       "      <td>7.18</td>\n",
       "      <td>7.19</td>\n",
       "      <td>7.18</td>\n",
       "      <td>7.19</td>\n",
       "      <td>85321</td>\n",
       "    </tr>\n",
       "    <tr>\n",
       "      <th>732</th>\n",
       "      <td>1744364520</td>\n",
       "      <td>7.19</td>\n",
       "      <td>7.20</td>\n",
       "      <td>7.18</td>\n",
       "      <td>7.18</td>\n",
       "      <td>87038</td>\n",
       "    </tr>\n",
       "    <tr>\n",
       "      <th>733</th>\n",
       "      <td>1744364880</td>\n",
       "      <td>7.28</td>\n",
       "      <td>7.28</td>\n",
       "      <td>7.11</td>\n",
       "      <td>7.20</td>\n",
       "      <td>91300</td>\n",
       "    </tr>\n",
       "    <tr>\n",
       "      <th>734</th>\n",
       "      <td>1744365240</td>\n",
       "      <td>7.20</td>\n",
       "      <td>7.25</td>\n",
       "      <td>7.20</td>\n",
       "      <td>7.25</td>\n",
       "      <td>92358</td>\n",
       "    </tr>\n",
       "    <tr>\n",
       "      <th>735</th>\n",
       "      <td>1744365540</td>\n",
       "      <td>7.22</td>\n",
       "      <td>7.22</td>\n",
       "      <td>7.22</td>\n",
       "      <td>7.22</td>\n",
       "      <td>92424</td>\n",
       "    </tr>\n",
       "  </tbody>\n",
       "</table>\n",
       "<p>736 rows × 6 columns</p>\n",
       "</div>"
      ],
      "text/plain": [
       "      timestamp  open  high   low  close  volume\n",
       "0    1742960700  7.82  7.82  7.80   7.80   10427\n",
       "1    1742961000  7.82  7.82  7.80   7.82   12569\n",
       "2    1742961300  7.80  7.80  7.79   7.79   16139\n",
       "3    1742961600  7.79  7.79  7.75   7.75   19733\n",
       "4    1742961900  7.75  7.75  7.60   7.75   23587\n",
       "..          ...   ...   ...   ...    ...     ...\n",
       "731  1744364220  7.18  7.19  7.18   7.19   85321\n",
       "732  1744364520  7.19  7.20  7.18   7.18   87038\n",
       "733  1744364880  7.28  7.28  7.11   7.20   91300\n",
       "734  1744365240  7.20  7.25  7.20   7.25   92358\n",
       "735  1744365540  7.22  7.22  7.22   7.22   92424\n",
       "\n",
       "[736 rows x 6 columns]"
      ]
     },
     "execution_count": 17,
     "metadata": {},
     "output_type": "execute_result"
    }
   ],
   "source": [
    "pd.DataFrame(data_list)"
   ]
  },
  {
   "cell_type": "code",
   "execution_count": 26,
   "metadata": {},
   "outputs": [],
   "source": [
    "keys = ['timestamp' , 'open' , 'high' , 'low' , 'close' , 'volume']\n",
    "\n"
   ]
  },
  {
   "cell_type": "code",
   "execution_count": 32,
   "metadata": {},
   "outputs": [
    {
     "data": {
      "text/plain": [
       "736"
      ]
     },
     "execution_count": 32,
     "metadata": {},
     "output_type": "execute_result"
    }
   ],
   "source": []
  },
  {
   "cell_type": "code",
   "execution_count": 27,
   "metadata": {},
   "outputs": [
    {
     "data": {
      "text/html": [
       "<div>\n",
       "<style scoped>\n",
       "    .dataframe tbody tr th:only-of-type {\n",
       "        vertical-align: middle;\n",
       "    }\n",
       "\n",
       "    .dataframe tbody tr th {\n",
       "        vertical-align: top;\n",
       "    }\n",
       "\n",
       "    .dataframe thead th {\n",
       "        text-align: right;\n",
       "    }\n",
       "</style>\n",
       "<table border=\"1\" class=\"dataframe\">\n",
       "  <thead>\n",
       "    <tr style=\"text-align: right;\">\n",
       "      <th></th>\n",
       "      <th>timestamp</th>\n",
       "      <th>open</th>\n",
       "      <th>high</th>\n",
       "      <th>low</th>\n",
       "      <th>close</th>\n",
       "      <th>volume</th>\n",
       "    </tr>\n",
       "  </thead>\n",
       "  <tbody>\n",
       "    <tr>\n",
       "      <th>0</th>\n",
       "      <td>1742960700</td>\n",
       "      <td>7.82</td>\n",
       "      <td>7.82</td>\n",
       "      <td>7.80</td>\n",
       "      <td>7.80</td>\n",
       "      <td>10427</td>\n",
       "    </tr>\n",
       "    <tr>\n",
       "      <th>1</th>\n",
       "      <td>1742961000</td>\n",
       "      <td>7.82</td>\n",
       "      <td>7.82</td>\n",
       "      <td>7.80</td>\n",
       "      <td>7.82</td>\n",
       "      <td>12569</td>\n",
       "    </tr>\n",
       "    <tr>\n",
       "      <th>2</th>\n",
       "      <td>1742961300</td>\n",
       "      <td>7.80</td>\n",
       "      <td>7.80</td>\n",
       "      <td>7.79</td>\n",
       "      <td>7.79</td>\n",
       "      <td>16139</td>\n",
       "    </tr>\n",
       "    <tr>\n",
       "      <th>3</th>\n",
       "      <td>1742961600</td>\n",
       "      <td>7.79</td>\n",
       "      <td>7.79</td>\n",
       "      <td>7.75</td>\n",
       "      <td>7.75</td>\n",
       "      <td>19733</td>\n",
       "    </tr>\n",
       "    <tr>\n",
       "      <th>4</th>\n",
       "      <td>1742961900</td>\n",
       "      <td>7.75</td>\n",
       "      <td>7.75</td>\n",
       "      <td>7.60</td>\n",
       "      <td>7.75</td>\n",
       "      <td>23587</td>\n",
       "    </tr>\n",
       "    <tr>\n",
       "      <th>...</th>\n",
       "      <td>...</td>\n",
       "      <td>...</td>\n",
       "      <td>...</td>\n",
       "      <td>...</td>\n",
       "      <td>...</td>\n",
       "      <td>...</td>\n",
       "    </tr>\n",
       "    <tr>\n",
       "      <th>731</th>\n",
       "      <td>1744364220</td>\n",
       "      <td>7.18</td>\n",
       "      <td>7.19</td>\n",
       "      <td>7.18</td>\n",
       "      <td>7.19</td>\n",
       "      <td>85321</td>\n",
       "    </tr>\n",
       "    <tr>\n",
       "      <th>732</th>\n",
       "      <td>1744364520</td>\n",
       "      <td>7.19</td>\n",
       "      <td>7.20</td>\n",
       "      <td>7.18</td>\n",
       "      <td>7.18</td>\n",
       "      <td>87038</td>\n",
       "    </tr>\n",
       "    <tr>\n",
       "      <th>733</th>\n",
       "      <td>1744364880</td>\n",
       "      <td>7.28</td>\n",
       "      <td>7.28</td>\n",
       "      <td>7.11</td>\n",
       "      <td>7.20</td>\n",
       "      <td>91300</td>\n",
       "    </tr>\n",
       "    <tr>\n",
       "      <th>734</th>\n",
       "      <td>1744365240</td>\n",
       "      <td>7.20</td>\n",
       "      <td>7.25</td>\n",
       "      <td>7.20</td>\n",
       "      <td>7.25</td>\n",
       "      <td>92358</td>\n",
       "    </tr>\n",
       "    <tr>\n",
       "      <th>735</th>\n",
       "      <td>1744365540</td>\n",
       "      <td>7.22</td>\n",
       "      <td>7.22</td>\n",
       "      <td>7.22</td>\n",
       "      <td>7.22</td>\n",
       "      <td>92424</td>\n",
       "    </tr>\n",
       "  </tbody>\n",
       "</table>\n",
       "<p>736 rows × 6 columns</p>\n",
       "</div>"
      ],
      "text/plain": [
       "      timestamp  open  high   low  close  volume\n",
       "0    1742960700  7.82  7.82  7.80   7.80   10427\n",
       "1    1742961000  7.82  7.82  7.80   7.82   12569\n",
       "2    1742961300  7.80  7.80  7.79   7.79   16139\n",
       "3    1742961600  7.79  7.79  7.75   7.75   19733\n",
       "4    1742961900  7.75  7.75  7.60   7.75   23587\n",
       "..          ...   ...   ...   ...    ...     ...\n",
       "731  1744364220  7.18  7.19  7.18   7.19   85321\n",
       "732  1744364520  7.19  7.20  7.18   7.18   87038\n",
       "733  1744364880  7.28  7.28  7.11   7.20   91300\n",
       "734  1744365240  7.20  7.25  7.20   7.25   92358\n",
       "735  1744365540  7.22  7.22  7.22   7.22   92424\n",
       "\n",
       "[736 rows x 6 columns]"
      ]
     },
     "execution_count": 27,
     "metadata": {},
     "output_type": "execute_result"
    }
   ],
   "source": [
    "pd.DataFrame([ dict(zip(keys,each_candle)) for each_candle in data_candles ])"
   ]
  },
  {
   "cell_type": "code",
   "execution_count": 119,
   "metadata": {},
   "outputs": [],
   "source": [
    "from datetime import datetime\n",
    "endtime = datetime(2025, 4, 15, 12, 30, 0)\n",
    "endtime = endtime.timestamp()\n",
    "\n",
    "#url = f\"https://groww.in/v1/api/charting_service/v4/chart/exchange/NSE/segment/CASH/MOTHERSON?endTimeInMillis={endtime}&intervalInMinutes={interval}&startTimeInMillis={starttime}\""
   ]
  },
  {
   "cell_type": "code",
   "execution_count": 121,
   "metadata": {},
   "outputs": [],
   "source": [
    "from datetime import datetime, timedelta\n",
    "\n",
    "def iterate_dates(start_date, end_date):\n",
    "    current_date = start_date\n",
    "    while current_date <= end_date:\n",
    "        yield current_date , current_date + timedelta(hours = 6 , minutes = 15)\n",
    "        current_date += timedelta(days=1)\n",
    "\n",
    "end = datetime(2025, 4, 15 , 3 , 30 , 00)\n",
    "start = datetime(2025, 4, 5 , 9 , 15 , 00)"
   ]
  },
  {
   "cell_type": "code",
   "execution_count": 122,
   "metadata": {},
   "outputs": [],
   "source": [
    "data = []\n",
    "for start , end_date in iterate_dates(start , end):\n",
    "    endtime = end_date.timestamp() * 1000\n",
    "    starttime = start.timestamp() * 1000\n",
    "    interval = 1\n",
    "    sym_ticker = 'GRSE'\n",
    "    url = f\"https://groww.in/v1/api/charting_service/v4/chart/exchange/NSE/segment/CASH/{sym_ticker}?endTimeInMillis={endtime}&intervalInMinutes={interval}&startTimeInMillis={starttime}\"\n",
    "    \n",
    "    response = requests.get(url)\n",
    "    response = response.json()\n",
    "    data.extend(response['candles'])"
   ]
  },
  {
   "cell_type": "code",
   "execution_count": 128,
   "metadata": {},
   "outputs": [
    {
     "name": "stdout",
     "output_type": "stream",
     "text": [
      "       timestamp     open     high      low    close   volume\n",
      "1495  1744365300  1613.55  1613.55  1611.90  1613.40  1147602\n",
      "1496  1744365360  1613.00  1614.00  1612.75  1614.00  1150901\n",
      "1497  1744365420  1614.60  1616.20  1614.00  1615.65  1156978\n",
      "1498  1744365480  1616.00  1619.00  1615.05  1618.00  1162109\n",
      "1499  1744365540  1619.85  1619.85  1606.30  1617.00  1168960\n"
     ]
    }
   ],
   "source": [
    "df=pd.DataFrame([ dict(zip(keys,each_candle)) for each_candle in data ])\n",
    "print(df.tail())\n"
   ]
  },
  {
   "cell_type": "code",
   "execution_count": 131,
   "metadata": {},
   "outputs": [
    {
     "name": "stdout",
     "output_type": "stream",
     "text": [
      "      name  age         city\n",
      "0    Alice   25     New York\n",
      "1      Bob   30  Los Angeles\n",
      "2  Charlie   35      Chicago\n"
     ]
    }
   ],
   "source": [
    "data = [\n",
    "    {\"name\": \"Alice\", \"age\": 25, \"city\": \"New York\"},\n",
    "    {\"name\": \"Bob\", \"age\": 30, \"city\": \"Los Angeles\"},\n",
    "    {\"name\": \"Charlie\", \"age\": 35, \"city\": \"Chicago\"}\n",
    "]\n",
    "\n",
    "df=pd.DataFrame(data)\n",
    "print(df)"
   ]
  },
  {
   "cell_type": "code",
   "execution_count": 139,
   "metadata": {},
   "outputs": [
    {
     "name": "stdout",
     "output_type": "stream",
     "text": [
      "    name    fg   as     city       we   age\n",
      "0  Alice  25.0  NaN      NaN      NaN   NaN\n",
      "1    NaN   NaN  Bob       LA      NaN   NaN\n",
      "2    NaN   NaN  NaN  Chicago  Charlie  35.0\n",
      "5\n"
     ]
    }
   ],
   "source": [
    "data = [\n",
    "    {\"name\": \"Alice\", \"fg\": 25},\n",
    "    {\"as\": \"Bob\", \"city\": \"LA\"},\n",
    "    {\"we\": \"Charlie\", \"age\": 35, \"city\": \"Chicago\"}\n",
    "]\n",
    "df=pd.DataFrame(data)\n",
    "print(df)\n"
   ]
  },
  {
   "cell_type": "code",
   "execution_count": 140,
   "metadata": {},
   "outputs": [
    {
     "name": "stdout",
     "output_type": "stream",
     "text": [
      "5\n"
     ]
    }
   ],
   "source": [
    "print(len(\"Hello\")) "
   ]
  },
  {
   "cell_type": "code",
   "execution_count": 142,
   "metadata": {},
   "outputs": [
    {
     "name": "stdout",
     "output_type": "stream",
     "text": [
      "3\n"
     ]
    }
   ],
   "source": [
    "print(len([1, 2, 3]))"
   ]
  },
  {
   "cell_type": "code",
   "execution_count": 144,
   "metadata": {},
   "outputs": [
    {
     "name": "stdout",
     "output_type": "stream",
     "text": [
      "3\n"
     ]
    }
   ],
   "source": [
    "print(max(1, 3, 2)) "
   ]
  },
  {
   "cell_type": "code",
   "execution_count": 146,
   "metadata": {},
   "outputs": [
    {
     "name": "stdout",
     "output_type": "stream",
     "text": [
      "z\n"
     ]
    }
   ],
   "source": [
    "print(max(\"a\", \"z\", \"m\"))"
   ]
  },
  {
   "cell_type": "code",
   "execution_count": 148,
   "metadata": {},
   "outputs": [
    {
     "data": {
      "text/plain": [
       "4"
      ]
     },
     "execution_count": 148,
     "metadata": {},
     "output_type": "execute_result"
    }
   ],
   "source": [
    "def add(a,b):\n",
    "    return a+b\n",
    "\n",
    "add(1,3)"
   ]
  },
  {
   "cell_type": "code",
   "execution_count": 150,
   "metadata": {},
   "outputs": [
    {
     "name": "stdout",
     "output_type": "stream",
     "text": [
      "Hello, World!\n",
      "[1, 2, 3, 4]\n"
     ]
    }
   ],
   "source": [
    "print(add(\"Hello, \", \"World!\"))\n",
    "print(add([1, 2], [3, 4])) "
   ]
  },
  {
   "cell_type": "code",
   "execution_count": 152,
   "metadata": {},
   "outputs": [
    {
     "name": "stdout",
     "output_type": "stream",
     "text": [
      "Area: 6\n",
      "Area: 78.5\n"
     ]
    }
   ],
   "source": [
    "class Shape:\n",
    "    def area(self):\n",
    "        return \"Undefined\"\n",
    "\n",
    "class Rectangle(Shape):\n",
    "    def __init__(self, length, width):\n",
    "        self.length = length\n",
    "        self.width = width\n",
    "\n",
    "    def area(self):\n",
    "        return self.length * self.width\n",
    "\n",
    "class Circle(Shape):\n",
    "    def __init__(self, radius):\n",
    "        self.radius = radius\n",
    "\n",
    "    def area(self):\n",
    "        return 3.14 * self.radius ** 2\n",
    "\n",
    "shapes = [Rectangle(2, 3), Circle(5)]\n",
    "for shape in shapes:\n",
    "    print(f\"Area: {shape.area()}\")\n"
   ]
  },
  {
   "cell_type": "code",
   "execution_count": 154,
   "metadata": {},
   "outputs": [],
   "source": [
    "import pandas as pd"
   ]
  },
  {
   "cell_type": "code",
   "execution_count": 190,
   "metadata": {},
   "outputs": [
    {
     "name": "stdout",
     "output_type": "stream",
     "text": [
      "   id     name    test\n",
      "0   1    Alice  [1, 2]\n",
      "1   2      Bob  [3, 4]\n",
      "2   3  Charlie  [4, 5]\n"
     ]
    }
   ],
   "source": [
    "# Left table\n",
    "df1 = pd.DataFrame({\n",
    "    'id': [1, 2, 3],\n",
    "    'name': ['Alice', 'Bob', 'Charlie'],\n",
    "    'test':[[1,2],[3,4],[4,5]]\n",
    "})\n",
    "print(df1)\n",
    "\n"
   ]
  },
  {
   "cell_type": "code",
   "execution_count": 191,
   "metadata": {},
   "outputs": [
    {
     "name": "stdout",
     "output_type": "stream",
     "text": [
      "   id  score    test\n",
      "0   1     85  [1, 2]\n",
      "1   2     90  [3, 4]\n",
      "2   4     95  [5, 6]\n"
     ]
    }
   ],
   "source": [
    "# Right table\n",
    "df2 = pd.DataFrame({\n",
    "    'id': [1, 2, 4],\n",
    "    'score': [85, 90, 95],\n",
    "    'test':[[1,2],[3,4],[5,6]]\n",
    "})\n",
    "print(df2)"
   ]
  },
  {
   "cell_type": "code",
   "execution_count": 177,
   "metadata": {},
   "outputs": [
    {
     "name": "stdout",
     "output_type": "stream",
     "text": [
      "   id   name    test  score\n",
      "0   1  Alice  (1, 2)     85\n",
      "1   2    Bob  (3, 4)     90\n"
     ]
    }
   ],
   "source": [
    "inner=pd.merge(df1,df2 , on=['id','test'],how='inner')\n",
    "print(inner)\n"
   ]
  },
  {
   "cell_type": "code",
   "execution_count": 178,
   "metadata": {},
   "outputs": [
    {
     "name": "stdout",
     "output_type": "stream",
     "text": [
      "   id     name    test  score\n",
      "0   1    Alice  (1, 2)   85.0\n",
      "1   2      Bob  (3, 4)   90.0\n",
      "2   3  Charlie  (4, 5)    NaN\n"
     ]
    }
   ],
   "source": [
    "leftjoin=pd.merge(df1,df2,on=['id','test'],how='left')\n",
    "print(leftjoin)"
   ]
  },
  {
   "cell_type": "code",
   "execution_count": 179,
   "metadata": {},
   "outputs": [
    {
     "name": "stdout",
     "output_type": "stream",
     "text": [
      "   id   name    test  score\n",
      "0   1  Alice  (1, 2)     85\n",
      "1   2    Bob  (3, 4)     90\n",
      "2   4    NaN  (5, 6)     95\n"
     ]
    }
   ],
   "source": [
    "rightjoin=pd.merge(df1,df2,on=['id','test'],how='right')\n",
    "print(rightjoin)"
   ]
  },
  {
   "cell_type": "code",
   "execution_count": 181,
   "metadata": {},
   "outputs": [
    {
     "name": "stdout",
     "output_type": "stream",
     "text": [
      "   id     name    test  score\n",
      "0   1    Alice  (1, 2)   85.0\n",
      "1   2      Bob  (3, 4)   90.0\n",
      "2   3  Charlie  (4, 5)    NaN\n",
      "3   4      NaN  (5, 6)   95.0\n"
     ]
    }
   ],
   "source": [
    "rightjoin=pd.merge(df1,df2,on=['id','test'],how='outer')\n",
    "print(rightjoin)"
   ]
  },
  {
   "cell_type": "code",
   "execution_count": 185,
   "metadata": {},
   "outputs": [
    {
     "data": {
      "text/plain": [
       "False"
      ]
     },
     "execution_count": 185,
     "metadata": {},
     "output_type": "execute_result"
    }
   ],
   "source": [
    "frozenset([1,2]) is frozenset([2,1]) "
   ]
  },
  {
   "cell_type": "code",
   "execution_count": 192,
   "metadata": {},
   "outputs": [],
   "source": [
    "df1['test'] = df1.test.apply(lambda x : frozenset(x))\n"
   ]
  },
  {
   "cell_type": "code",
   "execution_count": 194,
   "metadata": {},
   "outputs": [
    {
     "data": {
      "text/html": [
       "<div>\n",
       "<style scoped>\n",
       "    .dataframe tbody tr th:only-of-type {\n",
       "        vertical-align: middle;\n",
       "    }\n",
       "\n",
       "    .dataframe tbody tr th {\n",
       "        vertical-align: top;\n",
       "    }\n",
       "\n",
       "    .dataframe thead th {\n",
       "        text-align: right;\n",
       "    }\n",
       "</style>\n",
       "<table border=\"1\" class=\"dataframe\">\n",
       "  <thead>\n",
       "    <tr style=\"text-align: right;\">\n",
       "      <th></th>\n",
       "      <th>id</th>\n",
       "      <th>name</th>\n",
       "      <th>test</th>\n",
       "    </tr>\n",
       "  </thead>\n",
       "  <tbody>\n",
       "    <tr>\n",
       "      <th>0</th>\n",
       "      <td>1</td>\n",
       "      <td>Alice</td>\n",
       "      <td>(1, 2)</td>\n",
       "    </tr>\n",
       "    <tr>\n",
       "      <th>1</th>\n",
       "      <td>2</td>\n",
       "      <td>Bob</td>\n",
       "      <td>(3, 4)</td>\n",
       "    </tr>\n",
       "    <tr>\n",
       "      <th>2</th>\n",
       "      <td>3</td>\n",
       "      <td>Charlie</td>\n",
       "      <td>(4, 5)</td>\n",
       "    </tr>\n",
       "  </tbody>\n",
       "</table>\n",
       "</div>"
      ],
      "text/plain": [
       "   id     name    test\n",
       "0   1    Alice  (1, 2)\n",
       "1   2      Bob  (3, 4)\n",
       "2   3  Charlie  (4, 5)"
      ]
     },
     "execution_count": 194,
     "metadata": {},
     "output_type": "execute_result"
    }
   ],
   "source": [
    "df1"
   ]
  },
  {
   "cell_type": "code",
   "execution_count": 196,
   "metadata": {},
   "outputs": [],
   "source": [
    "df2['test']=df2.test.apply(lambda x: frozenset(x))"
   ]
  },
  {
   "cell_type": "code",
   "execution_count": 199,
   "metadata": {},
   "outputs": [
    {
     "data": {
      "text/plain": [
       "frozenset({1, 2})"
      ]
     },
     "execution_count": 199,
     "metadata": {},
     "output_type": "execute_result"
    }
   ],
   "source": [
    "df2.test.iloc[0]"
   ]
  },
  {
   "cell_type": "code",
   "execution_count": 205,
   "metadata": {},
   "outputs": [
    {
     "name": "stdout",
     "output_type": "stream",
     "text": [
      "   id   name    test  score\n",
      "0   1  Alice  (1, 2)     85\n",
      "1   2    Bob  (3, 4)     90\n"
     ]
    }
   ],
   "source": [
    "inneejoin=pd.merge(df1,df2,on=['id','test'],how='inner')\n",
    "print(inneejoin)"
   ]
  },
  {
   "cell_type": "code",
   "execution_count": 206,
   "metadata": {},
   "outputs": [
    {
     "name": "stdout",
     "output_type": "stream",
     "text": [
      "   id     name    test  score\n",
      "0   1    Alice  (1, 2)   85.0\n",
      "1   2      Bob  (3, 4)   90.0\n",
      "2   3  Charlie  (4, 5)    NaN\n",
      "3   4      NaN  (5, 6)   95.0\n"
     ]
    }
   ],
   "source": [
    "outerjoin=pd.merge(df1,df2, on=['id','test'],how='outer')\n",
    "print(outerjoin)"
   ]
  },
  {
   "cell_type": "code",
   "execution_count": 209,
   "metadata": {},
   "outputs": [
    {
     "name": "stdout",
     "output_type": "stream",
     "text": [
      "   id   name    test  score\n",
      "0   1  Alice  (1, 2)     85\n",
      "1   2    Bob  (3, 4)     90\n",
      "2   4    NaN  (5, 6)     95\n"
     ]
    }
   ],
   "source": [
    "rightJoin=pd.merge(df1,df2, on=['id','test'],how='right')\n",
    "print(rightJoin)"
   ]
  },
  {
   "cell_type": "code",
   "execution_count": 210,
   "metadata": {},
   "outputs": [
    {
     "name": "stdout",
     "output_type": "stream",
     "text": [
      "   id     name    test  score\n",
      "0   1    Alice  (1, 2)   85.0\n",
      "1   2      Bob  (3, 4)   90.0\n",
      "2   3  Charlie  (4, 5)    NaN\n"
     ]
    }
   ],
   "source": [
    "leftJoin=pd.merge(df1,df2, on=['id','test'],how='left')\n",
    "print(leftJoin)\n"
   ]
  },
  {
   "cell_type": "code",
   "execution_count": 231,
   "metadata": {},
   "outputs": [],
   "source": [
    "numbers = [5, 4, 3, 2, 1, 0]\n",
    "target = 14"
   ]
  },
  {
   "cell_type": "code",
   "execution_count": 244,
   "metadata": {},
   "outputs": [
    {
     "data": {
      "text/plain": [
       "[[2, 2, 5, 5],\n",
       " [1, 3, 5, 5],\n",
       " [1, 4, 4, 5],\n",
       " [3, 3, 3, 5],\n",
       " [2, 3, 4, 5],\n",
       " [2, 4, 4, 4],\n",
       " [0, 4, 5, 5],\n",
       " [3, 3, 4, 4]]"
      ]
     },
     "execution_count": 244,
     "metadata": {},
     "output_type": "execute_result"
    }
   ],
   "source": [
    "from itertools import product\n",
    "def find_target(numbers,target):\n",
    "    result=set()\n",
    "    for num in product(numbers,repeat=4):\n",
    "        if sum (num)==target:\n",
    "            result.add(tuple(sorted(num)))\n",
    "    return [list(r) for r in result]\n",
    "\n",
    "find_target(numbers,target)\n",
    "\n"
   ]
  },
  {
   "cell_type": "code",
   "execution_count": null,
   "metadata": {},
   "outputs": [],
   "source": []
  },
  {
   "cell_type": "markdown",
   "metadata": {},
   "source": []
  },
  {
   "cell_type": "code",
   "execution_count": 246,
   "metadata": {},
   "outputs": [
    {
     "data": {
      "text/plain": [
       "[[0, 2, 3, 4, 5]]"
      ]
     },
     "execution_count": 246,
     "metadata": {},
     "output_type": "execute_result"
    }
   ],
   "source": [
    "from itertools import combinations\n",
    "\n",
    "def find_combos(numbers, target):\n",
    "    result = []\n",
    "    for combo in combinations(numbers, 5):  # picks 4 unique numbers\n",
    "        if sum(combo) == target:\n",
    "            result.append(sorted(combo))\n",
    "    return result\n",
    "\n",
    "find_combos(numbers,target)\n",
    "\n"
   ]
  },
  {
   "cell_type": "code",
   "execution_count": null,
   "metadata": {},
   "outputs": [],
   "source": []
  },
  {
   "cell_type": "code",
   "execution_count": null,
   "metadata": {},
   "outputs": [],
   "source": []
  }
 ],
 "metadata": {
  "kernelspec": {
   "display_name": "Django_Virtual",
   "language": "python",
   "name": "python3"
  },
  "language_info": {
   "codemirror_mode": {
    "name": "ipython",
    "version": 3
   },
   "file_extension": ".py",
   "mimetype": "text/x-python",
   "name": "python",
   "nbconvert_exporter": "python",
   "pygments_lexer": "ipython3",
   "version": "3.9.16"
  },
  "orig_nbformat": 4
 },
 "nbformat": 4,
 "nbformat_minor": 2
}
