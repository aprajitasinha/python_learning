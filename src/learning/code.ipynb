{
 "cells": [
  {
   "cell_type": "code",
   "execution_count": 3,
   "metadata": {},
   "outputs": [],
   "source": [
    "import requests"
   ]
  },
  {
   "cell_type": "code",
   "execution_count": 4,
   "metadata": {},
   "outputs": [],
   "source": [
    "data = requests.get('https://groww.in/v1/api/charting_service/v4/chart/exchange/BSE/segment/CASH/530525?endTimeInMillis=1744648577776&intervalInMinutes=5&startTimeInMillis=1742927400000')"
   ]
  },
  {
   "cell_type": "code",
   "execution_count": 7,
   "metadata": {},
   "outputs": [],
   "source": [
    "data_json = data.json()"
   ]
  },
  {
   "cell_type": "code",
   "execution_count": 10,
   "metadata": {},
   "outputs": [],
   "source": [
    "data_candles = data_json['candles']"
   ]
  },
  {
   "cell_type": "code",
   "execution_count": 15,
   "metadata": {},
   "outputs": [],
   "source": [
    "data_list = []\n",
    "for each_data in data_candles:\n",
    "    temp_dict = {}\n",
    "    temp_dict['timestamp'] = each_data[0]\n",
    "    temp_dict['open'] = each_data[1]\n",
    "    temp_dict['high'] = each_data[2]\n",
    "    temp_dict['low'] = each_data[3]\n",
    "    temp_dict['close'] = each_data[4]\n",
    "    temp_dict['volume'] = each_data[5]\n",
    "    data_list.append(temp_dict)"
   ]
  },
  {
   "cell_type": "code",
   "execution_count": 16,
   "metadata": {},
   "outputs": [],
   "source": [
    "import pandas as pd"
   ]
  },
  {
   "cell_type": "code",
   "execution_count": 17,
   "metadata": {},
   "outputs": [
    {
     "data": {
      "text/html": [
       "<div>\n",
       "<style scoped>\n",
       "    .dataframe tbody tr th:only-of-type {\n",
       "        vertical-align: middle;\n",
       "    }\n",
       "\n",
       "    .dataframe tbody tr th {\n",
       "        vertical-align: top;\n",
       "    }\n",
       "\n",
       "    .dataframe thead th {\n",
       "        text-align: right;\n",
       "    }\n",
       "</style>\n",
       "<table border=\"1\" class=\"dataframe\">\n",
       "  <thead>\n",
       "    <tr style=\"text-align: right;\">\n",
       "      <th></th>\n",
       "      <th>timestamp</th>\n",
       "      <th>open</th>\n",
       "      <th>high</th>\n",
       "      <th>low</th>\n",
       "      <th>close</th>\n",
       "      <th>volume</th>\n",
       "    </tr>\n",
       "  </thead>\n",
       "  <tbody>\n",
       "    <tr>\n",
       "      <th>0</th>\n",
       "      <td>1742960700</td>\n",
       "      <td>7.82</td>\n",
       "      <td>7.82</td>\n",
       "      <td>7.80</td>\n",
       "      <td>7.80</td>\n",
       "      <td>10427</td>\n",
       "    </tr>\n",
       "    <tr>\n",
       "      <th>1</th>\n",
       "      <td>1742961000</td>\n",
       "      <td>7.82</td>\n",
       "      <td>7.82</td>\n",
       "      <td>7.80</td>\n",
       "      <td>7.82</td>\n",
       "      <td>12569</td>\n",
       "    </tr>\n",
       "    <tr>\n",
       "      <th>2</th>\n",
       "      <td>1742961300</td>\n",
       "      <td>7.80</td>\n",
       "      <td>7.80</td>\n",
       "      <td>7.79</td>\n",
       "      <td>7.79</td>\n",
       "      <td>16139</td>\n",
       "    </tr>\n",
       "    <tr>\n",
       "      <th>3</th>\n",
       "      <td>1742961600</td>\n",
       "      <td>7.79</td>\n",
       "      <td>7.79</td>\n",
       "      <td>7.75</td>\n",
       "      <td>7.75</td>\n",
       "      <td>19733</td>\n",
       "    </tr>\n",
       "    <tr>\n",
       "      <th>4</th>\n",
       "      <td>1742961900</td>\n",
       "      <td>7.75</td>\n",
       "      <td>7.75</td>\n",
       "      <td>7.60</td>\n",
       "      <td>7.75</td>\n",
       "      <td>23587</td>\n",
       "    </tr>\n",
       "    <tr>\n",
       "      <th>...</th>\n",
       "      <td>...</td>\n",
       "      <td>...</td>\n",
       "      <td>...</td>\n",
       "      <td>...</td>\n",
       "      <td>...</td>\n",
       "      <td>...</td>\n",
       "    </tr>\n",
       "    <tr>\n",
       "      <th>731</th>\n",
       "      <td>1744364220</td>\n",
       "      <td>7.18</td>\n",
       "      <td>7.19</td>\n",
       "      <td>7.18</td>\n",
       "      <td>7.19</td>\n",
       "      <td>85321</td>\n",
       "    </tr>\n",
       "    <tr>\n",
       "      <th>732</th>\n",
       "      <td>1744364520</td>\n",
       "      <td>7.19</td>\n",
       "      <td>7.20</td>\n",
       "      <td>7.18</td>\n",
       "      <td>7.18</td>\n",
       "      <td>87038</td>\n",
       "    </tr>\n",
       "    <tr>\n",
       "      <th>733</th>\n",
       "      <td>1744364880</td>\n",
       "      <td>7.28</td>\n",
       "      <td>7.28</td>\n",
       "      <td>7.11</td>\n",
       "      <td>7.20</td>\n",
       "      <td>91300</td>\n",
       "    </tr>\n",
       "    <tr>\n",
       "      <th>734</th>\n",
       "      <td>1744365240</td>\n",
       "      <td>7.20</td>\n",
       "      <td>7.25</td>\n",
       "      <td>7.20</td>\n",
       "      <td>7.25</td>\n",
       "      <td>92358</td>\n",
       "    </tr>\n",
       "    <tr>\n",
       "      <th>735</th>\n",
       "      <td>1744365540</td>\n",
       "      <td>7.22</td>\n",
       "      <td>7.22</td>\n",
       "      <td>7.22</td>\n",
       "      <td>7.22</td>\n",
       "      <td>92424</td>\n",
       "    </tr>\n",
       "  </tbody>\n",
       "</table>\n",
       "<p>736 rows × 6 columns</p>\n",
       "</div>"
      ],
      "text/plain": [
       "      timestamp  open  high   low  close  volume\n",
       "0    1742960700  7.82  7.82  7.80   7.80   10427\n",
       "1    1742961000  7.82  7.82  7.80   7.82   12569\n",
       "2    1742961300  7.80  7.80  7.79   7.79   16139\n",
       "3    1742961600  7.79  7.79  7.75   7.75   19733\n",
       "4    1742961900  7.75  7.75  7.60   7.75   23587\n",
       "..          ...   ...   ...   ...    ...     ...\n",
       "731  1744364220  7.18  7.19  7.18   7.19   85321\n",
       "732  1744364520  7.19  7.20  7.18   7.18   87038\n",
       "733  1744364880  7.28  7.28  7.11   7.20   91300\n",
       "734  1744365240  7.20  7.25  7.20   7.25   92358\n",
       "735  1744365540  7.22  7.22  7.22   7.22   92424\n",
       "\n",
       "[736 rows x 6 columns]"
      ]
     },
     "execution_count": 17,
     "metadata": {},
     "output_type": "execute_result"
    }
   ],
   "source": [
    "pd.DataFrame(data_list)"
   ]
  },
  {
   "cell_type": "code",
   "execution_count": 18,
   "metadata": {},
   "outputs": [
    {
     "data": {
      "text/plain": [
       "<zip at 0x11a539340>"
      ]
     },
     "execution_count": 18,
     "metadata": {},
     "output_type": "execute_result"
    }
   ],
   "source": [
    "keys = ['timestamp' , 'open' , 'high' , 'low' , 'close' , 'volume']\n",
    "\n"
   ]
  },
  {
   "cell_type": "code",
   "execution_count": 32,
   "metadata": {},
   "outputs": [
    {
     "data": {
      "text/plain": [
       "736"
      ]
     },
     "execution_count": 32,
     "metadata": {},
     "output_type": "execute_result"
    }
   ],
   "source": []
  },
  {
   "cell_type": "code",
   "execution_count": 35,
   "metadata": {},
   "outputs": [
    {
     "data": {
      "text/html": [
       "<div>\n",
       "<style scoped>\n",
       "    .dataframe tbody tr th:only-of-type {\n",
       "        vertical-align: middle;\n",
       "    }\n",
       "\n",
       "    .dataframe tbody tr th {\n",
       "        vertical-align: top;\n",
       "    }\n",
       "\n",
       "    .dataframe thead th {\n",
       "        text-align: right;\n",
       "    }\n",
       "</style>\n",
       "<table border=\"1\" class=\"dataframe\">\n",
       "  <thead>\n",
       "    <tr style=\"text-align: right;\">\n",
       "      <th></th>\n",
       "      <th>timestamp</th>\n",
       "      <th>open</th>\n",
       "      <th>high</th>\n",
       "      <th>low</th>\n",
       "      <th>close</th>\n",
       "      <th>volume</th>\n",
       "    </tr>\n",
       "  </thead>\n",
       "  <tbody>\n",
       "    <tr>\n",
       "      <th>0</th>\n",
       "      <td>1742960700</td>\n",
       "      <td>7.82</td>\n",
       "      <td>7.82</td>\n",
       "      <td>7.80</td>\n",
       "      <td>7.80</td>\n",
       "      <td>10427</td>\n",
       "    </tr>\n",
       "    <tr>\n",
       "      <th>1</th>\n",
       "      <td>1742961000</td>\n",
       "      <td>7.82</td>\n",
       "      <td>7.82</td>\n",
       "      <td>7.80</td>\n",
       "      <td>7.82</td>\n",
       "      <td>12569</td>\n",
       "    </tr>\n",
       "    <tr>\n",
       "      <th>2</th>\n",
       "      <td>1742961300</td>\n",
       "      <td>7.80</td>\n",
       "      <td>7.80</td>\n",
       "      <td>7.79</td>\n",
       "      <td>7.79</td>\n",
       "      <td>16139</td>\n",
       "    </tr>\n",
       "    <tr>\n",
       "      <th>3</th>\n",
       "      <td>1742961600</td>\n",
       "      <td>7.79</td>\n",
       "      <td>7.79</td>\n",
       "      <td>7.75</td>\n",
       "      <td>7.75</td>\n",
       "      <td>19733</td>\n",
       "    </tr>\n",
       "    <tr>\n",
       "      <th>4</th>\n",
       "      <td>1742961900</td>\n",
       "      <td>7.75</td>\n",
       "      <td>7.75</td>\n",
       "      <td>7.60</td>\n",
       "      <td>7.75</td>\n",
       "      <td>23587</td>\n",
       "    </tr>\n",
       "    <tr>\n",
       "      <th>...</th>\n",
       "      <td>...</td>\n",
       "      <td>...</td>\n",
       "      <td>...</td>\n",
       "      <td>...</td>\n",
       "      <td>...</td>\n",
       "      <td>...</td>\n",
       "    </tr>\n",
       "    <tr>\n",
       "      <th>731</th>\n",
       "      <td>1744364220</td>\n",
       "      <td>7.18</td>\n",
       "      <td>7.19</td>\n",
       "      <td>7.18</td>\n",
       "      <td>7.19</td>\n",
       "      <td>85321</td>\n",
       "    </tr>\n",
       "    <tr>\n",
       "      <th>732</th>\n",
       "      <td>1744364520</td>\n",
       "      <td>7.19</td>\n",
       "      <td>7.20</td>\n",
       "      <td>7.18</td>\n",
       "      <td>7.18</td>\n",
       "      <td>87038</td>\n",
       "    </tr>\n",
       "    <tr>\n",
       "      <th>733</th>\n",
       "      <td>1744364880</td>\n",
       "      <td>7.28</td>\n",
       "      <td>7.28</td>\n",
       "      <td>7.11</td>\n",
       "      <td>7.20</td>\n",
       "      <td>91300</td>\n",
       "    </tr>\n",
       "    <tr>\n",
       "      <th>734</th>\n",
       "      <td>1744365240</td>\n",
       "      <td>7.20</td>\n",
       "      <td>7.25</td>\n",
       "      <td>7.20</td>\n",
       "      <td>7.25</td>\n",
       "      <td>92358</td>\n",
       "    </tr>\n",
       "    <tr>\n",
       "      <th>735</th>\n",
       "      <td>1744365540</td>\n",
       "      <td>7.22</td>\n",
       "      <td>7.22</td>\n",
       "      <td>7.22</td>\n",
       "      <td>7.22</td>\n",
       "      <td>92424</td>\n",
       "    </tr>\n",
       "  </tbody>\n",
       "</table>\n",
       "<p>736 rows × 6 columns</p>\n",
       "</div>"
      ],
      "text/plain": [
       "      timestamp  open  high   low  close  volume\n",
       "0    1742960700  7.82  7.82  7.80   7.80   10427\n",
       "1    1742961000  7.82  7.82  7.80   7.82   12569\n",
       "2    1742961300  7.80  7.80  7.79   7.79   16139\n",
       "3    1742961600  7.79  7.79  7.75   7.75   19733\n",
       "4    1742961900  7.75  7.75  7.60   7.75   23587\n",
       "..          ...   ...   ...   ...    ...     ...\n",
       "731  1744364220  7.18  7.19  7.18   7.19   85321\n",
       "732  1744364520  7.19  7.20  7.18   7.18   87038\n",
       "733  1744364880  7.28  7.28  7.11   7.20   91300\n",
       "734  1744365240  7.20  7.25  7.20   7.25   92358\n",
       "735  1744365540  7.22  7.22  7.22   7.22   92424\n",
       "\n",
       "[736 rows x 6 columns]"
      ]
     },
     "execution_count": 35,
     "metadata": {},
     "output_type": "execute_result"
    }
   ],
   "source": [
    "pd.DataFrame([ dict(zip(keys,each_candle)) for each_candle in data_candles ])"
   ]
  },
  {
   "cell_type": "code",
   "execution_count": 41,
   "metadata": {},
   "outputs": [],
   "source": [
    "from datetime import datetime\n",
    "endtime = datetime(2025, 4, 14, 12, 30, 0)\n",
    "endtime = endtime.timestamp()\n",
    "\n",
    "#url = f\"https://groww.in/v1/api/charting_service/v4/chart/exchange/NSE/segment/CASH/MOTHERSON?endTimeInMillis={endtime}&intervalInMinutes={interval}&startTimeInMillis={starttime}\""
   ]
  },
  {
   "cell_type": "code",
   "execution_count": 53,
   "metadata": {},
   "outputs": [],
   "source": [
    "from datetime import datetime, timedelta\n",
    "\n",
    "def iterate_dates(start_date, end_date):\n",
    "    current_date = start_date\n",
    "    while current_date <= end_date:\n",
    "        yield current_date , end_date\n",
    "        current_date += timedelta(days=1)\n",
    "\n",
    "end = datetime(2025, 4, 14 , 3 , 30 , 00)\n",
    "start = datetime(2025, 4, 10 , 9 , 15 , 00)"
   ]
  },
  {
   "cell_type": "code",
   "execution_count": 55,
   "metadata": {},
   "outputs": [
    {
     "name": "stdout",
     "output_type": "stream",
     "text": [
      "2025-04-10 09:15:00\n",
      "2025-04-10 09:15:00\n",
      "2025-04-10 09:15:00\n",
      "2025-04-11 09:15:00\n",
      "2025-04-10 09:15:00\n",
      "2025-04-12 09:15:00\n",
      "2025-04-10 09:15:00\n",
      "2025-04-13 09:15:00\n"
     ]
    }
   ],
   "source": [
    "for start , current_date in iterate_dates(start , end):\n",
    "    print(start)\n",
    "    print(current_date)"
   ]
  }
 ],
 "metadata": {
  "kernelspec": {
   "display_name": "Django_Virtual",
   "language": "python",
   "name": "python3"
  },
  "language_info": {
   "codemirror_mode": {
    "name": "ipython",
    "version": 3
   },
   "file_extension": ".py",
   "mimetype": "text/x-python",
   "name": "python",
   "nbconvert_exporter": "python",
   "pygments_lexer": "ipython3",
   "version": "3.9.16"
  },
  "orig_nbformat": 4
 },
 "nbformat": 4,
 "nbformat_minor": 2
}
