{
 "cells": [
  {
   "cell_type": "code",
   "execution_count": 64,
   "metadata": {},
   "outputs": [
    {
     "data": {
      "text/plain": [
       "'Given an array arr[], check whether it is sorted in non-decreasing order. Return true if it is sorted otherwise false.\\n\\nExamples:\\n\\nInput: arr[] = [10, 20, 30, 40, 50]\\nOutput: true\\nExplanation: The given array is sorted.'"
      ]
     },
     "execution_count": 64,
     "metadata": {},
     "output_type": "execute_result"
    }
   ],
   "source": [
    "\"\"\"Given an array arr[], check whether it is sorted in non-decreasing order. Return true if it is sorted otherwise false.\n",
    "\n",
    "Examples:\n",
    "\n",
    "Input: arr[] = [10, 20, 30, 40, 50]\n",
    "Output: true\n",
    "Explanation: The given array is sorted.\"\"\"\n",
    "\n"
   ]
  },
  {
   "cell_type": "code",
   "execution_count": 65,
   "metadata": {},
   "outputs": [
    {
     "data": {
      "text/plain": [
       "False"
      ]
     },
     "execution_count": 65,
     "metadata": {},
     "output_type": "execute_result"
    }
   ],
   "source": [
    "def sorted_array(arr):\n",
    "    for i in range(len(arr)-1):\n",
    "        if arr[i]>arr[i+1]:\n",
    "         return False\n",
    "    return True\n",
    "\n",
    "sorted_array([50,40,50])\n"
   ]
  },
  {
   "cell_type": "code",
   "execution_count": 66,
   "metadata": {},
   "outputs": [
    {
     "data": {
      "text/plain": [
       "'Given an array arr. Your task is to find the minimum and maximum elements in the array.\\n\\nNote: Return a Pair that contains two elements the first one will be a minimum element and the second will be a maximum.\\n\\n'"
      ]
     },
     "execution_count": 66,
     "metadata": {},
     "output_type": "execute_result"
    }
   ],
   "source": [
    "\"\"\"Given an array arr. Your task is to find the minimum and maximum elements in the array.\n",
    "\n",
    "Note: Return a Pair that contains two elements the first one will be a minimum element and the second will be a maximum.\n",
    "\n",
    "\"\"\""
   ]
  },
  {
   "cell_type": "code",
   "execution_count": 67,
   "metadata": {},
   "outputs": [
    {
     "data": {
      "text/plain": [
       "(2, 9)"
      ]
     },
     "execution_count": 67,
     "metadata": {},
     "output_type": "execute_result"
    }
   ],
   "source": [
    "def find_min_max(arr):\n",
    "    if not arr:\n",
    "        return None\n",
    "    min_val=arr[0]\n",
    "    max_val=arr[0]\n",
    "    \n",
    "    for num in arr:\n",
    "        if num<min_val:\n",
    "            min_val=num\n",
    "        if num >max_val:\n",
    "            max_val=num\n",
    "    return(min_val, max_val)\n",
    "\n",
    "find_min_max([3,4,6,2,9])\n",
    "\n",
    "     "
   ]
  },
  {
   "cell_type": "code",
   "execution_count": 68,
   "metadata": {},
   "outputs": [
    {
     "data": {
      "text/plain": [
       "'Given an array arr, rotate the array by one position in clockwise direction.\\n\\nExamples:\\n\\nInput: arr[] = [1, 2, 3, 4, 5]\\nOutput: [5, 1, 2, 3, 4]\\nExplanation: If we rotate arr by one position in clockwise 5 come to the front and remaining those are shifted to the end.'"
      ]
     },
     "execution_count": 68,
     "metadata": {},
     "output_type": "execute_result"
    }
   ],
   "source": [
    "\"\"\"Given an array arr, rotate the array by one position in clockwise direction.\n",
    "\n",
    "Examples:\n",
    "\n",
    "Input: arr[] = [1, 2, 3, 4, 5]\n",
    "Output: [5, 1, 2, 3, 4]\n",
    "Explanation: If we rotate arr by one position in clockwise 5 come to the front and remaining those are shifted to the end.\"\"\"\n"
   ]
  },
  {
   "cell_type": "code",
   "execution_count": 69,
   "metadata": {},
   "outputs": [
    {
     "data": {
      "text/plain": [
       "[5, 1, 3, 4]"
      ]
     },
     "execution_count": 69,
     "metadata": {},
     "output_type": "execute_result"
    }
   ],
   "source": [
    "def rotate_arr(arr):\n",
    "    if not arr: \n",
    "        return []\n",
    "    return [arr[-1]]+ arr[:-1]\n",
    "    \n",
    "    \n",
    "    \n",
    "    \n",
    "rotate_arr([1,3,4,5])"
   ]
  },
  {
   "cell_type": "code",
   "execution_count": 70,
   "metadata": {},
   "outputs": [
    {
     "data": {
      "text/plain": [
       "'Given an array arr[], find the first repeating element. The element should occur more than once and the index of its first occurrence should be the smallest.\\n\\nNote:- The position you return should be according to 1-based indexing. \\n\\nExamples:\\n\\nInput: arr[] = [1, 5, 3, 4, 3, 5, 6]\\nOutput: 2\\nExplanation: 5 appears twice and its first appearance is at index 2 which is less than 3 whose first the occurring index is 3.\\n'"
      ]
     },
     "execution_count": 70,
     "metadata": {},
     "output_type": "execute_result"
    }
   ],
   "source": [
    "\"\"\"Given an array arr[], find the first repeating element. The element should occur more than once and the index of its first occurrence should be the smallest.\n",
    "\n",
    "Note:- The position you return should be according to 1-based indexing. \n",
    "\n",
    "Examples:\n",
    "\n",
    "Input: arr[] = [1, 5, 3, 4, 3, 5, 6]\n",
    "Output: 2\n",
    "Explanation: 5 appears twice and its first appearance is at index 2 which is less than 3 whose first the occurring index is 3.\n",
    "\"\"\""
   ]
  },
  {
   "cell_type": "code",
   "execution_count": 71,
   "metadata": {},
   "outputs": [
    {
     "data": {
      "text/plain": [
       "2"
      ]
     },
     "execution_count": 71,
     "metadata": {},
     "output_type": "execute_result"
    }
   ],
   "source": [
    "def first_repeating_element(arr):\n",
    "    seen ={}\n",
    "    min_index=float('inf')\n",
    "    \n",
    "    for i , num in  enumerate(arr):\n",
    "        if num in seen:\n",
    "            min_index=min(min_index,seen[num])\n",
    "        else:\n",
    "            seen[num]=i+1\n",
    "    return min_index if min_index !=float('inf')    else -1\n",
    "\n",
    "\n",
    "\n",
    "first_repeating_element([1,5,3,4,3,5,6])  \n",
    "        \n",
    "        "
   ]
  },
  {
   "cell_type": "code",
   "execution_count": 72,
   "metadata": {},
   "outputs": [
    {
     "data": {
      "text/plain": [
       "\"Given an array arr of positive integers. Reverse every sub-array group of size k.\\n\\nNote: If at any instance, k is greater or equal to the array size, then reverse the entire array. You shouldn't return any array, modify the given array in place.\""
      ]
     },
     "execution_count": 72,
     "metadata": {},
     "output_type": "execute_result"
    }
   ],
   "source": [
    "\"\"\"Given an array arr of positive integers. Reverse every sub-array group of size k.\n",
    "\n",
    "Note: If at any instance, k is greater or equal to the array size, then reverse the entire array. You shouldn't return any array, modify the given array in place.\"\"\""
   ]
  },
  {
   "cell_type": "code",
   "execution_count": 73,
   "metadata": {},
   "outputs": [
    {
     "name": "stdout",
     "output_type": "stream",
     "text": [
      "[4, 3, 1, 7, 6, 5]\n"
     ]
    }
   ],
   "source": [
    "def reverse_in_group(arr,k):\n",
    "    n=len(arr)\n",
    "    for i in range(0,n,k):\n",
    "        left=i\n",
    "        right= min(i+k-1,n-1)\n",
    "        \n",
    "        while left<right:\n",
    "            arr[left],arr[right]= arr[right],arr[left]\n",
    "            left +=1\n",
    "            right-=1\n",
    "    print(arr)\n",
    "            \n",
    "            \n",
    "reverse_in_group([1,3,4,5,6,7],3)\n",
    "            "
   ]
  },
  {
   "cell_type": "code",
   "execution_count": 74,
   "metadata": {},
   "outputs": [
    {
     "data": {
      "text/plain": [
       "'You are given an array arr[] of non-negative integers. Your task is to move all the zeros in the array to the right end while maintaining the relative order of the non-zero elements. The operation must be performed in place, meaning you should not use extra space for another array.'"
      ]
     },
     "execution_count": 74,
     "metadata": {},
     "output_type": "execute_result"
    }
   ],
   "source": [
    "\"\"\"You are given an array arr[] of non-negative integers. Your task is to move all the zeros in the array to the right end while maintaining the relative order of the non-zero elements. The operation must be performed in place, meaning you should not use extra space for another array.\"\"\""
   ]
  },
  {
   "cell_type": "code",
   "execution_count": 75,
   "metadata": {},
   "outputs": [
    {
     "name": "stdout",
     "output_type": "stream",
     "text": [
      "[1, 3, 4, 9, 7, 0]\n"
     ]
    }
   ],
   "source": [
    "def moveZerosToEnd(arr):\n",
    "    n = len(arr)\n",
    "    j = 0 \n",
    "    \n",
    "    for i in range(n):\n",
    "        if arr[i] != 0:\n",
    "            arr[i], arr[j] = arr[j], arr[i]  \n",
    "            j += 1  \n",
    "    print(arr)\n",
    "            \n",
    "moveZerosToEnd([1,3,4,9,0,7])"
   ]
  },
  {
   "cell_type": "code",
   "execution_count": 76,
   "metadata": {},
   "outputs": [
    {
     "data": {
      "text/plain": [
       "\"Given an array arr. Your task is to find the elements whose value is equal to that of its index value ( Consider 1-based indexing ).\\n\\nNote: There can be more than one element in the array which have the same value as its index. You need to include every such element's index. Follows 1-based indexing of the array.\\n\\nExamples:\\n\\nInput: arr[] = [15, 2, 45, 4 , 7]\\nOutput: [2, 4]\\nExplanation: Here, arr[2] = 2 exists here and arr[4] = 4 exists here.\\n\""
      ]
     },
     "execution_count": 76,
     "metadata": {},
     "output_type": "execute_result"
    }
   ],
   "source": [
    "\"\"\"Given an array arr. Your task is to find the elements whose value is equal to that of its index value ( Consider 1-based indexing ).\n",
    "\n",
    "Note: There can be more than one element in the array which have the same value as its index. You need to include every such element's index. Follows 1-based indexing of the array.\n",
    "\n",
    "Examples:\n",
    "\n",
    "Input: arr[] = [15, 2, 45, 4 , 7]\n",
    "Output: [2, 4]\n",
    "Explanation: Here, arr[2] = 2 exists here and arr[4] = 4 exists here.\n",
    "\"\"\""
   ]
  },
  {
   "cell_type": "code",
   "execution_count": 77,
   "metadata": {},
   "outputs": [
    {
     "data": {
      "text/plain": [
       "[1, 3, 5]"
      ]
     },
     "execution_count": 77,
     "metadata": {},
     "output_type": "execute_result"
    }
   ],
   "source": [
    "def valueEqualToIndex(arr):\n",
    "    result = []\n",
    "    \n",
    "    # Iterate over the array with index\n",
    "    for index, value in enumerate(arr):\n",
    "        if value == index + 1:  # 1-based index check\n",
    "            result.append(index + 1)  # Store the 1-based index\n",
    "    \n",
    "    return result\n",
    "\n",
    "valueEqualToIndex([1,4,3,5,5])"
   ]
  },
  {
   "cell_type": "code",
   "execution_count": 78,
   "metadata": {},
   "outputs": [
    {
     "data": {
      "text/plain": [
       "'Given an array arr[] of positive integers. Return true if all the array elements are palindrome otherwise, return false.\\n\\nExamples:\\n\\nInput: arr[] = [111, 222, 333, 444, 555]\\nOutput: true\\nExplanation:\\narr[0] = 111, which is a palindrome number.'"
      ]
     },
     "execution_count": 78,
     "metadata": {},
     "output_type": "execute_result"
    }
   ],
   "source": [
    "\"\"\"Given an array arr[] of positive integers. Return true if all the array elements are palindrome otherwise, return false.\n",
    "\n",
    "Examples:\n",
    "\n",
    "Input: arr[] = [111, 222, 333, 444, 555]\n",
    "Output: true\n",
    "Explanation:\n",
    "arr[0] = 111, which is a palindrome number.\"\"\"\n"
   ]
  },
  {
   "cell_type": "code",
   "execution_count": 79,
   "metadata": {},
   "outputs": [
    {
     "name": "stdout",
     "output_type": "stream",
     "text": [
      "True\n"
     ]
    }
   ],
   "source": [
    "def is_all_palindrome(arr):\n",
    "    for num in arr:\n",
    "        if str(num) != str(num)[::-1]:  # Check if number is not a palindrome\n",
    "            return False \n",
    "    return True  \n",
    "\n",
    "\n",
    "arr1 = [111, 222, 333, 444, 555]\n",
    "print(is_all_palindrome(arr1)) \n"
   ]
  },
  {
   "cell_type": "code",
   "execution_count": 80,
   "metadata": {},
   "outputs": [
    {
     "data": {
      "text/plain": [
       "'Given an integer array arr. For each element in the array, check whether the right adjacent element (on the next immediate position) of the array is smaller. If the next element is smaller, update the current index to that element. If not, then update to -1.\\n\\nNote: Update the array in itself.'"
      ]
     },
     "execution_count": 80,
     "metadata": {},
     "output_type": "execute_result"
    }
   ],
   "source": [
    "\"\"\"Given an integer array arr. For each element in the array, check whether the right adjacent element (on the next immediate position) of the array is smaller. If the next element is smaller, update the current index to that element. If not, then update to -1.\n",
    "\n",
    "Note: Update the array in itself.\"\"\"\n"
   ]
  },
  {
   "cell_type": "code",
   "execution_count": 81,
   "metadata": {},
   "outputs": [
    {
     "name": "stdout",
     "output_type": "stream",
     "text": [
      "[-1, -1, 3, 2, -1]\n"
     ]
    }
   ],
   "source": [
    "def updateArray(arr):\n",
    "        n = len(arr)\n",
    "        for i in range(n - 1):  \n",
    "            if arr[i + 1] < arr[i]:  \n",
    "                arr[i] = arr[i + 1]  # Update with next smaller element\n",
    "            else:\n",
    "                arr[i] = -1 \n",
    "        arr[-1] = -1\n",
    "        print(arr)\n",
    "\n",
    "updateArray([1,3,4,3,2])"
   ]
  },
  {
   "cell_type": "code",
   "execution_count": 82,
   "metadata": {},
   "outputs": [
    {
     "data": {
      "text/plain": [
       "'Given two arrays a[] and b[] of equal size, the task is to find whether the elements in the arrays are equal.\\n\\nTwo arrays are said to be equal if both contain the same set of elements, arrangements (or permutations) of elements may be different though.\\n\\nNote: If there are repetitions, then counts of repeated elements must also be the same for two arrays to be equal.\\n\\n'"
      ]
     },
     "execution_count": 82,
     "metadata": {},
     "output_type": "execute_result"
    }
   ],
   "source": [
    "\"\"\"Given two arrays a[] and b[] of equal size, the task is to find whether the elements in the arrays are equal.\n",
    "\n",
    "Two arrays are said to be equal if both contain the same set of elements, arrangements (or permutations) of elements may be different though.\n",
    "\n",
    "Note: If there are repetitions, then counts of repeated elements must also be the same for two arrays to be equal.\n",
    "\n",
    "\"\"\""
   ]
  },
  {
   "cell_type": "code",
   "execution_count": 83,
   "metadata": {},
   "outputs": [
    {
     "data": {
      "text/plain": [
       "True"
      ]
     },
     "execution_count": 83,
     "metadata": {},
     "output_type": "execute_result"
    }
   ],
   "source": [
    "from collections import Counter\n",
    "\n",
    "def areArrayEqual(a,b):\n",
    "    return Counter(a) == Counter (b)\n",
    "\n",
    "\n",
    "areArrayEqual([1,2,3,4,5],[1,2,3,4,5])"
   ]
  },
  {
   "cell_type": "code",
   "execution_count": 84,
   "metadata": {},
   "outputs": [
    {
     "data": {
      "text/plain": [
       "'You are given a string s. Your task is to determine if the string is a palindrome. A string is considered a palindrome if it reads the same forwards and backwards.\\n\\n'"
      ]
     },
     "execution_count": 84,
     "metadata": {},
     "output_type": "execute_result"
    }
   ],
   "source": [
    "\"\"\"You are given a string s. Your task is to determine if the string is a palindrome. A string is considered a palindrome if it reads the same forwards and backwards.\n",
    "\n",
    "\"\"\""
   ]
  },
  {
   "cell_type": "code",
   "execution_count": 85,
   "metadata": {},
   "outputs": [
    {
     "data": {
      "text/plain": [
       "True"
      ]
     },
     "execution_count": 85,
     "metadata": {},
     "output_type": "execute_result"
    }
   ],
   "source": [
    "def isPalindrome(s):\n",
    "    return s == s[::-1]\n",
    "\n",
    "isPalindrome(\"radar\")"
   ]
  },
  {
   "cell_type": "code",
   "execution_count": 86,
   "metadata": {},
   "outputs": [],
   "source": [
    "def isValid():\n",
    "    pass"
   ]
  },
  {
   "cell_type": "code",
   "execution_count": 87,
   "metadata": {},
   "outputs": [
    {
     "data": {
      "text/plain": [
       "'Given an array, arr of integers. Your task is to write a program to find the maximum value of ∑arr[i]*i, where i = 0, 1, 2,., n-1. You are allowed to rearrange the elements of the array.\\nNote: Since the output could be large, print the answer modulo 109+7.\\n\\n'"
      ]
     },
     "execution_count": 87,
     "metadata": {},
     "output_type": "execute_result"
    }
   ],
   "source": [
    "\"\"\"Given an array, arr of integers. Your task is to write a program to find the maximum value of ∑arr[i]*i, where i = 0, 1, 2,., n-1. You are allowed to rearrange the elements of the array.\n",
    "Note: Since the output could be large, print the answer modulo 109+7.\n",
    "\n",
    "\"\"\""
   ]
  },
  {
   "cell_type": "code",
   "execution_count": 88,
   "metadata": {},
   "outputs": [
    {
     "data": {
      "text/plain": [
       "23"
      ]
     },
     "execution_count": 88,
     "metadata": {},
     "output_type": "execute_result"
    }
   ],
   "source": [
    "def maxSum(arr):\n",
    "    MOD = 10**9 +7\n",
    "    arr.sort()\n",
    "    max_sum=0\n",
    "    \n",
    "    for i in range(len(arr)):\n",
    "        max_sum= (max_sum+ arr[i]*i) % MOD\n",
    "    return max_sum\n",
    "\n",
    "maxSum([5,3,2,1])"
   ]
  },
  {
   "cell_type": "code",
   "execution_count": 89,
   "metadata": {},
   "outputs": [
    {
     "data": {
      "text/plain": [
       "\"Given a sorted array arr. Return the size of the modified array which contains only distinct elements.\\nNote:\\n1. Don't use set or HashMap to solve the problem.\\n2. You must return the modified array size only where distinct elements are present and modify the original array such that all the distinct elements come at the beginning of the original array.\\n\\n\""
      ]
     },
     "execution_count": 89,
     "metadata": {},
     "output_type": "execute_result"
    }
   ],
   "source": [
    "\"\"\"Given a sorted array arr. Return the size of the modified array which contains only distinct elements.\n",
    "Note:\n",
    "1. Don't use set or HashMap to solve the problem.\n",
    "2. You must return the modified array size only where distinct elements are present and modify the original array such that all the distinct elements come at the beginning of the original array.\n",
    "\n",
    "\"\"\""
   ]
  },
  {
   "cell_type": "code",
   "execution_count": 90,
   "metadata": {},
   "outputs": [
    {
     "name": "stdout",
     "output_type": "stream",
     "text": [
      "[1, 2]\n"
     ]
    }
   ],
   "source": [
    "def removeDuplicates(arr):\n",
    "        if not arr:  \n",
    "            return 0\n",
    "\n",
    "        i = 0  # Unique element pointer\n",
    "\n",
    "        for j in range(1, len(arr)):  # Start checking from second element\n",
    "            if arr[j] != arr[i]:  # If a new unique element is found\n",
    "                i += 1  # Move pointer\n",
    "                arr[i] = arr[j]  # Replace element at i with new unique element\n",
    "\n",
    "        return i + 1\n",
    "  \n",
    "arr=[1,2,2,2,2]\n",
    "size=removeDuplicates(arr)\n",
    "print(arr[:size])\n"
   ]
  },
  {
   "cell_type": "code",
   "execution_count": 91,
   "metadata": {},
   "outputs": [
    {
     "data": {
      "text/plain": [
       "'You are given an array of integers arr[]. Your task is to reverse the given array.\\n\\nNote: Modify the array in place.\\n\\nExamples:\\n\\nInput: arr = [1, 4, 3, 2, 6, 5]\\nOutput: [5, 6, 2, 3, 4, 1]\\nExplanation: The elements of the array are 1 4 3 2 6 5. After reversing the array, the first element goes to the last position, the second element goes to the second last position and so on. Hence, the answer is 5 6 2 3 4 1.'"
      ]
     },
     "execution_count": 91,
     "metadata": {},
     "output_type": "execute_result"
    }
   ],
   "source": [
    "\"\"\"You are given an array of integers arr[]. Your task is to reverse the given array.\n",
    "\n",
    "Note: Modify the array in place.\n",
    "\n",
    "Examples:\n",
    "\n",
    "Input: arr = [1, 4, 3, 2, 6, 5]\n",
    "Output: [5, 6, 2, 3, 4, 1]\n",
    "Explanation: The elements of the array are 1 4 3 2 6 5. After reversing the array, the first element goes to the last position, the second element goes to the second last position and so on. Hence, the answer is 5 6 2 3 4 1.\"\"\""
   ]
  },
  {
   "cell_type": "code",
   "execution_count": 92,
   "metadata": {},
   "outputs": [
    {
     "name": "stdout",
     "output_type": "stream",
     "text": [
      "[3, 4, 2, 1]\n"
     ]
    }
   ],
   "source": [
    "def reversArray(arr):\n",
    "    reversed_array=arr[::-1]\n",
    "    print(reversed_array)\n",
    "\n",
    "reversArray([1,2,4,3])\n",
    "    "
   ]
  },
  {
   "cell_type": "code",
   "execution_count": 93,
   "metadata": {},
   "outputs": [
    {
     "data": {
      "text/plain": [
       "'Given an integer k and array arr. Your task is to return the position of the first occurrence of k in the given array and if element k is not present in the array then return -1.\\n\\nNote: 1-based indexing is followed here.\\n\\nExamples:\\n\\nInput: k = 16 , arr = [9, 7, 16, 16, 4]\\nOutput: 3\\nExplanation: The value 16 is found in the given array at positions 3 and 4, with position 3 being the first occurrence.'"
      ]
     },
     "execution_count": 93,
     "metadata": {},
     "output_type": "execute_result"
    }
   ],
   "source": [
    "\"\"\"Given an integer k and array arr. Your task is to return the position of the first occurrence of k in the given array and if element k is not present in the array then return -1.\n",
    "\n",
    "Note: 1-based indexing is followed here.\n",
    "\n",
    "Examples:\n",
    "\n",
    "Input: k = 16 , arr = [9, 7, 16, 16, 4]\n",
    "Output: 3\n",
    "Explanation: The value 16 is found in the given array at positions 3 and 4, with position 3 being the first occurrence.\"\"\""
   ]
  },
  {
   "cell_type": "code",
   "execution_count": 94,
   "metadata": {},
   "outputs": [
    {
     "data": {
      "text/plain": [
       "3"
      ]
     },
     "execution_count": 94,
     "metadata": {},
     "output_type": "execute_result"
    }
   ],
   "source": [
    "def firstOccurance(arr,k):\n",
    "    for i in range(len(arr)):\n",
    "        if arr[i] ==k:\n",
    "            return i+1\n",
    "    return -1\n",
    "\n",
    "firstOccurance([9,7,8,9],8)"
   ]
  },
  {
   "cell_type": "code",
   "execution_count": 95,
   "metadata": {},
   "outputs": [
    {
     "data": {
      "text/plain": [
       "'Given an array arr[] of positive integers and another integer target. Determine if there exists two distinct indices such that the sum of there elements is equals to target.'"
      ]
     },
     "execution_count": 95,
     "metadata": {},
     "output_type": "execute_result"
    }
   ],
   "source": [
    "\"\"\"Given an array arr[] of positive integers and another integer target. Determine if there exists two distinct indices such that the sum of there elements is equals to target.\"\"\""
   ]
  },
  {
   "cell_type": "code",
   "execution_count": 96,
   "metadata": {},
   "outputs": [
    {
     "data": {
      "text/plain": [
       "[1, 0, 1, 1, 0, 1, 1]"
      ]
     },
     "execution_count": 96,
     "metadata": {},
     "output_type": "execute_result"
    }
   ],
   "source": [
    "def countFrequency(arr):\n",
    "        if not arr:\n",
    "            return []\n",
    "        n = max(arr)\n",
    "        result = [0] * n  # Initialize result array with zeros\n",
    "\n",
    "        for num in arr:\n",
    "            result[num - 1] += 1  # Increment the count at index (num - 1)\n",
    "        \n",
    "        return result\n",
    "    \n",
    "countFrequency([1,3,4,6,7])"
   ]
  },
  {
   "cell_type": "code",
   "execution_count": 97,
   "metadata": {},
   "outputs": [
    {
     "data": {
      "text/plain": [
       "'Given two strings s1 and s2 consisting of lowercase characters. The task is to check whether two given strings are an anagram of each other or not. An anagram of a string is another string that contains the same characters, only the order of characters can be different. For example, \"act\" and \"tac\" are an anagram of each other. Strings s1 and s2 can only contain lowercase alphabets.\\n\\nNote: You can assume both the strings s1 & s2 are non-empty.\\n\\nExamples :\\n\\nInput: s1 = \"geeks\", s2 = \"kseeg\"\\nOutput: true\\nExplanation: Both the string have same characters with same frequency. So, they are anagrams.\\nInput: s1 = \"allergy\", s2 = \"allergic\"\\nOutput: false\\nExplanation: Characters in both the strings are not same, so they are not anagrams.\\n'"
      ]
     },
     "execution_count": 97,
     "metadata": {},
     "output_type": "execute_result"
    }
   ],
   "source": [
    "\"\"\"Given two strings s1 and s2 consisting of lowercase characters. The task is to check whether two given strings are an anagram of each other or not. An anagram of a string is another string that contains the same characters, only the order of characters can be different. For example, \"act\" and \"tac\" are an anagram of each other. Strings s1 and s2 can only contain lowercase alphabets.\n",
    "\n",
    "Note: You can assume both the strings s1 & s2 are non-empty.\n",
    "\n",
    "Examples :\n",
    "\n",
    "Input: s1 = \"geeks\", s2 = \"kseeg\"\n",
    "Output: true\n",
    "Explanation: Both the string have same characters with same frequency. So, they are anagrams.\n",
    "Input: s1 = \"allergy\", s2 = \"allergic\"\n",
    "Output: false\n",
    "Explanation: Characters in both the strings are not same, so they are not anagrams.\n",
    "\"\"\""
   ]
  },
  {
   "cell_type": "code",
   "execution_count": 98,
   "metadata": {},
   "outputs": [
    {
     "data": {
      "text/plain": [
       "True"
      ]
     },
     "execution_count": 98,
     "metadata": {},
     "output_type": "execute_result"
    }
   ],
   "source": [
    "def isAnagram(s1:str,s2:str)-> bool:\n",
    "    if len(s1) != len(s2):\n",
    "        return False\n",
    "    return sorted(s1) == sorted(s2)\n",
    "\n",
    "isAnagram(str(\"geeks\"),str(\"segke\"))"
   ]
  },
  {
   "cell_type": "code",
   "execution_count": 99,
   "metadata": {},
   "outputs": [
    {
     "data": {
      "text/plain": [
       "'Given a string s without spaces, the task is to remove all duplicate characters from it, keeping only the first occurrence.\\n\\nNote: The original order of characters must be kept the same. \\n\\nExamples :\\n\\nInput: s = \"zvvo\"\\nOutput: \"zvo\"\\nExplanation: Only keep the first occurrence'"
      ]
     },
     "execution_count": 99,
     "metadata": {},
     "output_type": "execute_result"
    }
   ],
   "source": [
    "\"\"\"Given a string s without spaces, the task is to remove all duplicate characters from it, keeping only the first occurrence.\n",
    "\n",
    "Note: The original order of characters must be kept the same. \n",
    "\n",
    "Examples :\n",
    "\n",
    "Input: s = \"zvvo\"\n",
    "Output: \"zvo\"\n",
    "Explanation: Only keep the first occurrence\"\"\""
   ]
  },
  {
   "cell_type": "code",
   "execution_count": 100,
   "metadata": {},
   "outputs": [
    {
     "name": "stdout",
     "output_type": "stream",
     "text": [
      "aprjit\n"
     ]
    }
   ],
   "source": [
    "def removeDuplicates(s: str) -> str:\n",
    "    seen = set()  # Track seen characters\n",
    "    result = []   # Store characters in order\n",
    "    \n",
    "    for char in s:\n",
    "        if char not in seen:\n",
    "            seen.add(char)\n",
    "            result.append(char)\n",
    "    \n",
    "    return \"\".join(result)\n",
    "\n",
    "print(removeDuplicates(\"aprajita\"))  "
   ]
  },
  {
   "cell_type": "code",
   "execution_count": 101,
   "metadata": {},
   "outputs": [
    {
     "data": {
      "text/plain": [
       "\"Given an increasing sorted rotated array arr of distinct integers. The array is right-rotated k times. Find the value of k.\\nLet's suppose we have an array arr = [2, 4, 6, 9], so if we rotate it by 2 times so that it will look like this:\\nAfter 1st Rotation : [9, 2, 4, 6]\\nAfter 2nd Rotation : [6, 9, 2, 4]\""
      ]
     },
     "execution_count": 101,
     "metadata": {},
     "output_type": "execute_result"
    }
   ],
   "source": [
    "\"\"\"Given an increasing sorted rotated array arr of distinct integers. The array is right-rotated k times. Find the value of k.\n",
    "Let's suppose we have an array arr = [2, 4, 6, 9], so if we rotate it by 2 times so that it will look like this:\n",
    "After 1st Rotation : [9, 2, 4, 6]\n",
    "After 2nd Rotation : [6, 9, 2, 4]\"\"\""
   ]
  },
  {
   "cell_type": "code",
   "execution_count": 102,
   "metadata": {},
   "outputs": [
    {
     "data": {
      "text/plain": [
       "4"
      ]
     },
     "execution_count": 102,
     "metadata": {},
     "output_type": "execute_result"
    }
   ],
   "source": [
    "def findKRotation( arr):\n",
    "        # code here\n",
    "        low, high = 0, len(arr) - 1\n",
    "\n",
    "        while low < high:\n",
    "            mid = (low + high) // 2\n",
    "\n",
    "            if arr[mid] > arr[high]: \n",
    "                low = mid + 1\n",
    "            else:  \n",
    "                 high = mid\n",
    "\n",
    "        return low \n",
    "\n",
    "findKRotation( [2,3,4,6,1])    "
   ]
  },
  {
   "cell_type": "code",
   "execution_count": 103,
   "metadata": {},
   "outputs": [
    {
     "data": {
      "text/plain": [
       "'Given an array, arr of positive integers. Find the third largest element in it. Return -1 if the third largest element is not found.\\n\\nExamples:\\n\\nInput: arr[] = [2, 4, 1, 3, 5]\\nOutput: 3'"
      ]
     },
     "execution_count": 103,
     "metadata": {},
     "output_type": "execute_result"
    }
   ],
   "source": [
    "\"\"\"Given an array, arr of positive integers. Find the third largest element in it. Return -1 if the third largest element is not found.\n",
    "\n",
    "Examples:\n",
    "\n",
    "Input: arr[] = [2, 4, 1, 3, 5]\n",
    "Output: 3\"\"\""
   ]
  },
  {
   "cell_type": "code",
   "execution_count": 104,
   "metadata": {},
   "outputs": [
    {
     "data": {
      "text/plain": [
       "2"
      ]
     },
     "execution_count": 104,
     "metadata": {},
     "output_type": "execute_result"
    }
   ],
   "source": [
    "def third_largest(arr):\n",
    "    unique_sorted = sorted(set(arr), reverse=True)\n",
    "    return unique_sorted[2] if len(unique_sorted) >= 3 else -1\n",
    "\n",
    "\n",
    "arr = [2, 4, 1, 5]\n",
    "third_largest(arr)"
   ]
  },
  {
   "cell_type": "code",
   "execution_count": 105,
   "metadata": {},
   "outputs": [
    {
     "data": {
      "text/plain": [
       "'Given a string s without spaces, the task is to remove all duplicate characters from it, keeping only the first occurrence.\\n\\nNote: The original order of characters must be kept the same. \\n\\nExamples :\\n\\nInput: s = \"zvvo\"\\nOutput: \"zvo\"\\nExplanation: Only keep the first occurrence'"
      ]
     },
     "execution_count": 105,
     "metadata": {},
     "output_type": "execute_result"
    }
   ],
   "source": [
    "\"\"\"Given a string s without spaces, the task is to remove all duplicate characters from it, keeping only the first occurrence.\n",
    "\n",
    "Note: The original order of characters must be kept the same. \n",
    "\n",
    "Examples :\n",
    "\n",
    "Input: s = \"zvvo\"\n",
    "Output: \"zvo\"\n",
    "Explanation: Only keep the first occurrence\"\"\"\n"
   ]
  },
  {
   "cell_type": "code",
   "execution_count": 106,
   "metadata": {},
   "outputs": [
    {
     "name": "stdout",
     "output_type": "stream",
     "text": [
      "zvo\n"
     ]
    }
   ],
   "source": [
    "def removeDuplicates(s):\n",
    "    seen = set()  \n",
    "    result = []  \n",
    "\n",
    "    for char in s:\n",
    "        if char not in seen:  \n",
    "            seen.add(char)\n",
    "            result.append(char)\n",
    "\n",
    "    return ''.join(result)  \n",
    "\n",
    "print(removeDuplicates(\"zvvo\"))\n"
   ]
  },
  {
   "cell_type": "code",
   "execution_count": 107,
   "metadata": {},
   "outputs": [
    {
     "data": {
      "text/plain": [
       "'Element with left side smaller and right side greater\\nDifficulty: EasyAccuracy: 21.83%Submissions: 136K+Points: 2Average Time: 20m\\nGiven an unsorted array of arr. Find the first element in an array such that all of its left elements are smaller and all right elements of its are greater than it.\\n\\nNote: Return -1 if there is no such element.\\n\\n'"
      ]
     },
     "execution_count": 107,
     "metadata": {},
     "output_type": "execute_result"
    }
   ],
   "source": [
    "\"\"\"Element with left side smaller and right side greater\n",
    "Difficulty: EasyAccuracy: 21.83%Submissions: 136K+Points: 2Average Time: 20m\n",
    "Given an unsorted array of arr. Find the first element in an array such that all of its left elements are smaller and all right elements of its are greater than it.\n",
    "\n",
    "Note: Return -1 if there is no such element.\n",
    "\n",
    "\"\"\""
   ]
  },
  {
   "cell_type": "code",
   "execution_count": 108,
   "metadata": {},
   "outputs": [
    {
     "data": {
      "text/plain": [
       "5"
      ]
     },
     "execution_count": 108,
     "metadata": {},
     "output_type": "execute_result"
    }
   ],
   "source": [
    "def findElement(arr):\n",
    "    n = len(arr)\n",
    "    if n < 3:\n",
    "        return -1\n",
    "    \n",
    "    prefix_max=[0]* n\n",
    "    suffix_min =[0] *n\n",
    "    \n",
    "    prefix_max[0] =float('-inf')\n",
    "    for i in range(1,n):\n",
    "        prefix_max[i] =max(prefix_max[i-1],arr[i-1])\n",
    "        \n",
    "    suffix_min[n-1]=float('inf')\n",
    "    for i in range(n-2, -1,-1):\n",
    "        suffix_min[i] =min(suffix_min[i+1],arr[i+1])\n",
    "        \n",
    "    for i in range(1,n-1):\n",
    "        if prefix_max[i]<arr[i] <suffix_min[i]:\n",
    "            return arr[i]\n",
    "    return -1\n",
    "\n",
    "findElement([3,5,6])"
   ]
  },
  {
   "cell_type": "code",
   "execution_count": 109,
   "metadata": {},
   "outputs": [
    {
     "data": {
      "text/plain": [
       "'Given a string in Roman number format (s), your task is to convert it to an integer. Various symbols and their values are given below.\\nNote: I = 1, V = 5, X = 10, L = 50, C = 100, D = 500, M = 1000\\n\\n'"
      ]
     },
     "execution_count": 109,
     "metadata": {},
     "output_type": "execute_result"
    }
   ],
   "source": [
    "\"\"\"Given a string in Roman number format (s), your task is to convert it to an integer. Various symbols and their values are given below.\n",
    "Note: I = 1, V = 5, X = 10, L = 50, C = 100, D = 500, M = 1000\n",
    "\n",
    "\"\"\""
   ]
  },
  {
   "cell_type": "code",
   "execution_count": 110,
   "metadata": {},
   "outputs": [
    {
     "data": {
      "text/plain": [
       "9"
      ]
     },
     "execution_count": 110,
     "metadata": {},
     "output_type": "execute_result"
    }
   ],
   "source": [
    "def romanToDecimal(s): \n",
    "        # code here\n",
    "        roman_values = {'I': 1, 'V': 5, 'X': 10, 'L': 50, 'C': 100, 'D': 500, 'M': 1000}\n",
    "        total=0\n",
    "        prev_value=0\n",
    "        for char in reversed(s):\n",
    "            current_value=roman_values[char]\n",
    "            if current_value < prev_value:\n",
    "                total -= current_value\n",
    "            else:\n",
    "                total += current_value\n",
    "                prev_value = current_value\n",
    "\n",
    "        return total\n",
    "\n",
    "romanToDecimal(\"IX\")"
   ]
  },
  {
   "cell_type": "code",
   "execution_count": 111,
   "metadata": {},
   "outputs": [
    {
     "name": "stdout",
     "output_type": "stream",
     "text": [
      "Hello, Alice!\n"
     ]
    }
   ],
   "source": [
    "def greet(name):\n",
    "    return f\"Hello, {name}!\"\n",
    "\n",
    "def process_function(func, value):\n",
    "    return func(value)\n",
    "\n",
    "# Passing the greet function as an argument\n",
    "result = process_function(greet, \"Alice\")\n",
    "print(result)  # Output: Hello, Alice!\n"
   ]
  },
  {
   "cell_type": "code",
   "execution_count": 112,
   "metadata": {},
   "outputs": [
    {
     "name": "stdout",
     "output_type": "stream",
     "text": [
      "36\n"
     ]
    }
   ],
   "source": [
    "def fun(func, arg):\n",
    "    return func(arg)\n",
    "\n",
    "def square(x):\n",
    "    return x**2\n",
    "\n",
    "res = fun(square,6)\n",
    "print(res)"
   ]
  },
  {
   "cell_type": "code",
   "execution_count": 113,
   "metadata": {},
   "outputs": [
    {
     "name": "stdout",
     "output_type": "stream",
     "text": [
      "2\n",
      "3\n",
      "5\n",
      "7\n",
      "11\n",
      "13\n",
      "17\n",
      "19\n",
      "23\n",
      "29\n"
     ]
    }
   ],
   "source": [
    "def fun(n):\n",
    "    x=2\n",
    "    count=0\n",
    "    while count<n:\n",
    "        for d in range(2, int(x**0.5)+1):\n",
    "            if x%d==0:\n",
    "                break\n",
    "        else:\n",
    "            print(x)\n",
    "            count +=1\n",
    "        x +=1\n",
    "        \n",
    "fun(10)\n",
    "            "
   ]
  },
  {
   "cell_type": "code",
   "execution_count": 114,
   "metadata": {},
   "outputs": [
    {
     "name": "stdout",
     "output_type": "stream",
     "text": [
      "NmaeAlice and Age 30. \n",
      "Name Liash Age 24.\n"
     ]
    }
   ],
   "source": [
    "class Person:\n",
    "    def __init__(self,name,age):\n",
    "        self.name=name\n",
    "        self.age=age\n",
    "        \n",
    "    def greet(self):\n",
    "        print (f\"Nmae{self.name} and Age {self.age}. \")\n",
    "    \n",
    "    def greeting(self):\n",
    "        print(f\"Name {self.name} Age {self.age}.\")  \n",
    "    \n",
    "p1 = Person(\"Alice\", 30)\n",
    "p1.greet()\n",
    "\n",
    "p2=Person(\"Liash\",24)\n",
    "p2.greeting()\n",
    "\n",
    "\n"
   ]
  },
  {
   "cell_type": "code",
   "execution_count": 115,
   "metadata": {},
   "outputs": [
    {
     "name": "stdout",
     "output_type": "stream",
     "text": [
      "1\n",
      "2\n",
      "3\n",
      "4\n",
      "5\n",
      "6\n",
      "7\n",
      "8\n",
      "9\n",
      "10\n"
     ]
    }
   ],
   "source": [
    "i = 0\n",
    "while i < 10:\n",
    "    pass  # Placeholder for future code\n",
    "    i += 1\n",
    "    print(i)\n",
    "for i in range(5):\n",
    "    pass  # Placeholder for future code\n"
   ]
  },
  {
   "cell_type": "code",
   "execution_count": 116,
   "metadata": {},
   "outputs": [
    {
     "data": {
      "text/plain": [
       "('Alice', 30)"
      ]
     },
     "execution_count": 116,
     "metadata": {},
     "output_type": "execute_result"
    }
   ],
   "source": [
    "def fun():\n",
    "    name = \"Alice\"\n",
    "    age = 30\n",
    "    return name, age\n",
    "\n",
    "fun()"
   ]
  },
  {
   "cell_type": "code",
   "execution_count": 117,
   "metadata": {},
   "outputs": [
    {
     "name": "stdout",
     "output_type": "stream",
     "text": [
      "[9, 27]\n"
     ]
    }
   ],
   "source": [
    "def fun(n):\n",
    "    return [n**2, n**3]\n",
    "\n",
    "res = fun(3)\n",
    "print(res)  "
   ]
  },
  {
   "cell_type": "code",
   "execution_count": 118,
   "metadata": {},
   "outputs": [
    {
     "name": "stdout",
     "output_type": "stream",
     "text": [
      "Message: Hello, World!\n"
     ]
    }
   ],
   "source": [
    "def fun1(msg):\n",
    "    def fun2():\n",
    "        return f\"Message: {msg}\"\n",
    "    return fun2\n",
    "\n",
    "\n",
    "# Getting the inner function\n",
    "fun3 = fun1(\"Hello, World!\")\n",
    "\n",
    "# Calling the inner function\n",
    "print(fun3()) "
   ]
  },
  {
   "cell_type": "code",
   "execution_count": 119,
   "metadata": {},
   "outputs": [
    {
     "name": "stdout",
     "output_type": "stream",
     "text": [
      "I love Geeksforgeeks\n"
     ]
    }
   ],
   "source": [
    "def f():\n",
    "    \n",
    "    # local variable\n",
    "    s = \"I love Geeksforgeeks\"\n",
    "    print(s)\n",
    "\n",
    "\n",
    "# Driver code\n",
    "f()"
   ]
  },
  {
   "cell_type": "code",
   "execution_count": 120,
   "metadata": {},
   "outputs": [
    {
     "name": "stdout",
     "output_type": "stream",
     "text": [
      "Inside Function GFG\n"
     ]
    }
   ],
   "source": [
    "def f():\n",
    "    s = 'GFG'\n",
    "    print(\"Inside Function\", s)\n",
    "\n",
    "\n",
    "# Global scope\n",
    "s = \"I love Geeksforgeeks\"\n",
    "f()"
   ]
  },
  {
   "cell_type": "code",
   "execution_count": 121,
   "metadata": {},
   "outputs": [
    {
     "name": "stdout",
     "output_type": "stream",
     "text": [
      "Python is great! GFG\n",
      "Look for Geeksforgeeks Python Section\n",
      "Look for Geeksforgeeks Python Section\n"
     ]
    }
   ],
   "source": [
    "def f():\n",
    "    global s\n",
    "    s += ' GFG'\n",
    "    print(s)\n",
    "    s = \"Look for Geeksforgeeks Python Section\"\n",
    "    print(s) \n",
    "\n",
    "# Global Scope\n",
    "s = \"Python is great!\" \n",
    "f()\n",
    "print(s)\n"
   ]
  },
  {
   "cell_type": "code",
   "execution_count": 122,
   "metadata": {},
   "outputs": [
    {
     "data": {
      "text/plain": [
       "120"
      ]
     },
     "execution_count": 122,
     "metadata": {},
     "output_type": "execute_result"
    }
   ],
   "source": [
    "def factorial(n):\n",
    "    if n ==1:\n",
    "        return 1\n",
    "    else:\n",
    "        return n* factorial(n-1)\n",
    "    \n",
    "factorial(5)"
   ]
  },
  {
   "cell_type": "code",
   "execution_count": 123,
   "metadata": {},
   "outputs": [
    {
     "name": "stdout",
     "output_type": "stream",
     "text": [
      "2\n"
     ]
    }
   ],
   "source": [
    "def fibonacci(n):\n",
    "    # Base cases\n",
    "    if n == 0:\n",
    "        return 0\n",
    "    elif n == 1:\n",
    "        return 1\n",
    "    # Recursive case\n",
    "    else:\n",
    "        return fibonacci(n-1) + fibonacci(n-2)\n",
    "\n",
    "# Example usage\n",
    "print(fibonacci(3))  "
   ]
  },
  {
   "cell_type": "code",
   "execution_count": 124,
   "metadata": {},
   "outputs": [
    {
     "name": "stdout",
     "output_type": "stream",
     "text": [
      "120\n",
      "120\n"
     ]
    }
   ],
   "source": [
    "def tail_fact(n,acc=1):\n",
    "    # Base case\n",
    "    if n == 0:\n",
    "        return acc\n",
    "    # Tail recursive call with an accumulator\n",
    "    else:\n",
    "        return tail_fact(n-1, acc * n)\n",
    "\n",
    "def nontail_fact(n):\n",
    "    # Base case\n",
    "    if n == 1:\n",
    "        return 1\n",
    "    # Non-tail recursive call because the multiplication happens after the call\n",
    "    else:\n",
    "        return n * nontail_fact(n-1)\n",
    "\n",
    "# Example usage\n",
    "print(tail_fact(5))  \n",
    "print(nontail_fact(5))"
   ]
  },
  {
   "cell_type": "code",
   "execution_count": 125,
   "metadata": {},
   "outputs": [
    {
     "ename": "ValueError",
     "evalue": "could not convert string to float: 'ee'",
     "output_type": "error",
     "traceback": [
      "\u001b[0;31m---------------------------------------------------------------------------\u001b[0m",
      "\u001b[0;31mValueError\u001b[0m                                Traceback (most recent call last)",
      "\u001b[1;32m/Users/aryanpatel/Desktop/Python/python_learning/src/learning/arrays.ipynb Cell 62\u001b[0m line \u001b[0;36m1\n\u001b[0;32m----> <a href='vscode-notebook-cell:/Users/aryanpatel/Desktop/Python/python_learning/src/learning/arrays.ipynb#Y115sZmlsZQ%3D%3D?line=0'>1</a>\u001b[0m price \u001b[39m=\u001b[39m \u001b[39mfloat\u001b[39;49m(\u001b[39minput\u001b[39;49m(\u001b[39m\"\u001b[39;49m\u001b[39mPrice of each rose?: \u001b[39;49m\u001b[39m\"\u001b[39;49m))\n\u001b[1;32m      <a href='vscode-notebook-cell:/Users/aryanpatel/Desktop/Python/python_learning/src/learning/arrays.ipynb#Y115sZmlsZQ%3D%3D?line=1'>2</a>\u001b[0m \u001b[39mprint\u001b[39m(price)\n",
      "\u001b[0;31mValueError\u001b[0m: could not convert string to float: 'ee'"
     ]
    }
   ],
   "source": [
    "price = float(input(\"Price of each rose?: \"))\n",
    "print(price)\n"
   ]
  },
  {
   "cell_type": "code",
   "execution_count": null,
   "metadata": {},
   "outputs": [
    {
     "name": "stdout",
     "output_type": "stream",
     "text": [
      "10 5\n"
     ]
    }
   ],
   "source": [
    "a, b = 5, 10\n",
    "a, b = b, a\n",
    "print(a, b)  \n"
   ]
  },
  {
   "cell_type": "code",
   "execution_count": null,
   "metadata": {},
   "outputs": [
    {
     "name": "stdout",
     "output_type": "stream",
     "text": [
      "Length of the word: 6\n"
     ]
    }
   ],
   "source": [
    "word = \"Python\"\n",
    "length = len(word)\n",
    "print(\"Length of the word:\", length) "
   ]
  },
  {
   "cell_type": "code",
   "execution_count": null,
   "metadata": {},
   "outputs": [
    {
     "name": "stdout",
     "output_type": "stream",
     "text": [
      "Addition: 19\n",
      "Subtraction: 11\n",
      "Multiplication: 60\n",
      "Division: 3.75\n",
      "Floor Division: 3\n",
      "Modulus: 3\n",
      "Exponentiation: 50625\n"
     ]
    }
   ],
   "source": [
    "a = 15\n",
    "b = 4\n",
    "\n",
    "# Addition\n",
    "print(\"Addition:\", a + b)  \n",
    "\n",
    "# Subtraction\n",
    "print(\"Subtraction:\", a - b) \n",
    "\n",
    "# Multiplication\n",
    "print(\"Multiplication:\", a * b)  \n",
    "\n",
    "# Division\n",
    "print(\"Division:\", a / b) \n",
    "\n",
    "# Floor Division\n",
    "print(\"Floor Division:\", a // b)  \n",
    "\n",
    "# Modulus\n",
    "print(\"Modulus:\", a % b) \n",
    "\n",
    "# Exponentiation\n",
    "print(\"Exponentiation:\", a ** b) "
   ]
  },
  {
   "cell_type": "code",
   "execution_count": null,
   "metadata": {},
   "outputs": [
    {
     "name": "stdout",
     "output_type": "stream",
     "text": [
      "name: Alice\n",
      "age: 30\n",
      "city: New York\n"
     ]
    }
   ],
   "source": [
    "def fun(**kwargs):\n",
    "    for k, val in kwargs.items():\n",
    "        print(f\"{k}: {val}\")\n",
    "\n",
    "# Calling the function with keyword arguments\n",
    "fun(name=\"Alice\", age=30, city=\"New York\")"
   ]
  },
  {
   "cell_type": "code",
   "execution_count": null,
   "metadata": {},
   "outputs": [
    {
     "name": "stdout",
     "output_type": "stream",
     "text": [
      "GEEKSFORGEEKS\n"
     ]
    }
   ],
   "source": [
    "s1 = 'GeeksforGeeks'\n",
    "\n",
    "s2 = lambda func: func.upper()\n",
    "print(s2(s1))\n"
   ]
  },
  {
   "cell_type": "code",
   "execution_count": null,
   "metadata": {},
   "outputs": [
    {
     "data": {
      "text/plain": [
       "9"
      ]
     },
     "execution_count": 288,
     "metadata": {},
     "output_type": "execute_result"
    }
   ],
   "source": [
    "def square(x):\n",
    "    return x ** 2\n",
    "\n",
    "square(3)"
   ]
  },
  {
   "cell_type": "code",
   "execution_count": null,
   "metadata": {},
   "outputs": [
    {
     "name": "stdout",
     "output_type": "stream",
     "text": [
      "[1, 4, 9, 16]\n"
     ]
    }
   ],
   "source": [
    "def square(x):\n",
    "    return x ** 2\n",
    "\n",
    "def process_list(lst):\n",
    "    return list(map(square, lst))  # Applying `square()` function to each element\n",
    "\n",
    "numbers = [1, 2, 3, 4]\n",
    "squared_numbers = process_list(numbers)\n",
    "print(squared_numbers)"
   ]
  },
  {
   "cell_type": "code",
   "execution_count": null,
   "metadata": {},
   "outputs": [
    {
     "name": "stdout",
     "output_type": "stream",
     "text": [
      "[1, 4, 9, 16]\n"
     ]
    }
   ],
   "source": [
    "numbers = [1, 2, 3, 4]\n",
    "squared = list(map(lambda x: x ** 2, numbers))\n",
    "print(squared)"
   ]
  },
  {
   "cell_type": "code",
   "execution_count": null,
   "metadata": {},
   "outputs": [
    {
     "ename": "ValueError",
     "evalue": "invalid literal for int() with base 10: '2 4 5'",
     "output_type": "error",
     "traceback": [
      "\u001b[0;31m---------------------------------------------------------------------------\u001b[0m",
      "\u001b[0;31mValueError\u001b[0m                                Traceback (most recent call last)",
      "\u001b[1;32m/Users/aryanpatel/Desktop/Python/python_learning/src/learning/arrays.ipynb Cell 71\u001b[0m line \u001b[0;36m2\n\u001b[1;32m      <a href='vscode-notebook-cell:/Users/aryanpatel/Desktop/Python/python_learning/src/learning/arrays.ipynb#Y140sZmlsZQ%3D%3D?line=0'>1</a>\u001b[0m \u001b[39mif\u001b[39;00m \u001b[39m__name__\u001b[39m \u001b[39m==\u001b[39m \u001b[39m'\u001b[39m\u001b[39m__main__\u001b[39m\u001b[39m'\u001b[39m:\n\u001b[0;32m----> <a href='vscode-notebook-cell:/Users/aryanpatel/Desktop/Python/python_learning/src/learning/arrays.ipynb#Y140sZmlsZQ%3D%3D?line=1'>2</a>\u001b[0m     n \u001b[39m=\u001b[39m \u001b[39mint\u001b[39;49m(\u001b[39minput\u001b[39;49m())\n\u001b[1;32m      <a href='vscode-notebook-cell:/Users/aryanpatel/Desktop/Python/python_learning/src/learning/arrays.ipynb#Y140sZmlsZQ%3D%3D?line=2'>3</a>\u001b[0m     student_marks \u001b[39m=\u001b[39m {}\n\u001b[1;32m      <a href='vscode-notebook-cell:/Users/aryanpatel/Desktop/Python/python_learning/src/learning/arrays.ipynb#Y140sZmlsZQ%3D%3D?line=3'>4</a>\u001b[0m     \u001b[39mfor\u001b[39;00m _ \u001b[39min\u001b[39;00m \u001b[39mrange\u001b[39m(n):\n",
      "\u001b[0;31mValueError\u001b[0m: invalid literal for int() with base 10: '2 4 5'"
     ]
    }
   ],
   "source": [
    "if __name__ == '__main__':\n",
    "    n = int(input())\n",
    "    student_marks = {}\n",
    "    for _ in range(n):\n",
    "        name, *line = input().split()\n",
    "        scores = list(map(float, line))\n",
    "        student_marks[name] = scores\n",
    "    query_name = input()\n",
    "    average_marks = sum(student_marks[query_name]) / len(student_marks[query_name])\n",
    "    print(f\"{average_marks:.2f}\") \n",
    "\n"
   ]
  },
  {
   "cell_type": "code",
   "execution_count": null,
   "metadata": {},
   "outputs": [
    {
     "data": {
      "text/plain": [
       "'f'"
      ]
     },
     "execution_count": 301,
     "metadata": {},
     "output_type": "execute_result"
    }
   ],
   "source": [
    "from collections import OrderedDict\n",
    "\n",
    "def firstNonRepeatingCharacter(s: str) -> str:\n",
    "    char_count=OrderedDict()\n",
    "    for ch in s:\n",
    "        char_count[ch]=char_count.get(ch,0)+1\n",
    "    for ch in char_count: \n",
    "        if char_count[ch]==1:\n",
    "            return ch\n",
    "    return '$'\n",
    "            \n",
    "        \n",
    "        \n",
    "\n",
    "firstNonRepeatingCharacter(\"geeksforgeeks\")"
   ]
  },
  {
   "cell_type": "code",
   "execution_count": null,
   "metadata": {},
   "outputs": [
    {
     "data": {
      "text/plain": [
       "True"
      ]
     },
     "execution_count": 305,
     "metadata": {},
     "output_type": "execute_result"
    }
   ],
   "source": [
    "def isRotated(s1: str, s2: str) -> bool:\n",
    "    if len(s1) != len(s2):\n",
    "        return False  # Different lengths, can't be a rotation\n",
    "    \n",
    "    # Compute clockwise and anti-clockwise rotations\n",
    "    clockwise = s1[-2:] + s1[:-2]   # Last 2 characters moved to the front\n",
    "    anti_clockwise = s1[2:] + s1[:2]  # First 2 characters moved to the end\n",
    "    \n",
    "    # Check if s2 matches either rotation\n",
    "    return s2 == clockwise or s2 == anti_clockwise\n",
    "\n",
    "isRotated(\"amazon\",\"azonam\")"
   ]
  },
  {
   "cell_type": "code",
   "execution_count": null,
   "metadata": {},
   "outputs": [
    {
     "name": "stdout",
     "output_type": "stream",
     "text": [
      "amaz\n",
      "amazo\n",
      "azon\n",
      "m\n",
      "['a', 'm', 'a', 'z', 'o', 'n']\n"
     ]
    }
   ],
   "source": [
    "s1 = \"amazon\"\n",
    "print(s1[:-2] )\n",
    "print(s1[:-1])\n",
    "print(s1[2:] )\n",
    "print(s1[1:2])\n",
    "d={}\n",
    "[5,9,8]\n",
    "s2=list(s1)\n",
    "print(s2)"
   ]
  },
  {
   "cell_type": "code",
   "execution_count": null,
   "metadata": {},
   "outputs": [
    {
     "name": "stdout",
     "output_type": "stream",
     "text": [
      "5\n"
     ]
    },
    {
     "data": {
      "text/plain": [
       "3"
      ]
     },
     "execution_count": 355,
     "metadata": {},
     "output_type": "execute_result"
    }
   ],
   "source": [
    "def missing_array(arr):\n",
    "    n=len(arr)+1\n",
    "    print(n)\n",
    "    total_array=n*(n+1)//2\n",
    "    arr_sum=sum(arr)\n",
    "    return (total_array - arr_sum)\n",
    "    \n",
    "missing_array([1,2,4,5])"
   ]
  },
  {
   "cell_type": "code",
   "execution_count": null,
   "metadata": {},
   "outputs": [
    {
     "data": {
      "text/plain": [
       "34"
      ]
     },
     "execution_count": 362,
     "metadata": {},
     "output_type": "execute_result"
    }
   ],
   "source": [
    "arr=[12,35,1,10,34,1]\n",
    "\n",
    "def secondlargest(arr):\n",
    "    first= float('-inf')\n",
    "    second=float('-inf')\n",
    "    \n",
    "    for num in arr:\n",
    "        if num > first:\n",
    "            second=first\n",
    "            first=num          \n",
    "        elif num >second and num<first:\n",
    "            second=num\n",
    "    return second if second != float('-inf') else \"No second largest\"\n",
    "\n",
    "secondlargest(arr)\n",
    "\n",
    "    \n",
    "        "
   ]
  },
  {
   "cell_type": "code",
   "execution_count": null,
   "metadata": {},
   "outputs": [
    {
     "data": {
      "text/plain": [
       "[15, 6, 5]"
      ]
     },
     "execution_count": 379,
     "metadata": {},
     "output_type": "execute_result"
    }
   ],
   "source": [
    "\n",
    "def arrayLeader(arr):\n",
    "    n=len(arr)\n",
    "    leader=[]\n",
    "    max_from_right=arr[-1]\n",
    "    leader.append(max_from_right)\n",
    "\n",
    "    for x in range(n-2,-1,-1):\n",
    "        if arr[x] >=max_from_right:\n",
    "            max_from_right=arr[x]\n",
    "            leader.append(max_from_right)\n",
    "    return leader[::-1]\n",
    "\n",
    "arr= [15,6,4,3,5]\n",
    "arrayLeader(arr)\n",
    "        \n",
    "        \n",
    "        "
   ]
  },
  {
   "cell_type": "code",
   "execution_count": null,
   "metadata": {},
   "outputs": [
    {
     "data": {
      "text/plain": [
       "[1, 2, 3]"
      ]
     },
     "execution_count": 385,
     "metadata": {},
     "output_type": "execute_result"
    }
   ],
   "source": [
    "arr= [1,2, 3, 1,1, 2, 3]\n",
    "\n",
    "def findDuplicates(arr):\n",
    "    duplicates=[]\n",
    "    freq_map={}\n",
    "    for num in arr:\n",
    "        if num in freq_map:\n",
    "            freq_map[num]+=1\n",
    "        else:\n",
    "            freq_map[num]=1\n",
    "    for key, value in freq_map.items():\n",
    "        if   value >1:\n",
    "            duplicates.append(key)\n",
    "    return duplicates\n",
    "\n",
    "findDuplicates(arr)     \n",
    "\n"
   ]
  },
  {
   "cell_type": "code",
   "execution_count": null,
   "metadata": {},
   "outputs": [
    {
     "name": "stdout",
     "output_type": "stream",
     "text": [
      "Hello\n",
      "Calling function say_hello\n",
      "Hello!\n",
      "Function say_hello executed\n"
     ]
    }
   ],
   "source": [
    "def fun1(msg): # outer function\n",
    "    \n",
    "    def fun2(): # inner function\n",
    "        print(msg)\n",
    "    fun2()\n",
    "\n",
    "fun1(\"Hello\")\n",
    "def log_decorator(func):\n",
    "    def wrapper():\n",
    "        print(f\"Calling function {func.__name__}\")\n",
    "        func()\n",
    "        print(f\"Function {func.__name__} executed\")\n",
    "    return wrapper\n",
    "\n",
    "@log_decorator\n",
    "def say_hello():\n",
    "    print(\"Hello!\")\n",
    "\n",
    "say_hello()"
   ]
  },
  {
   "cell_type": "code",
   "execution_count": null,
   "metadata": {},
   "outputs": [
    {
     "name": "stdout",
     "output_type": "stream",
     "text": [
      "Before function call\n",
      "Hello!\n",
      "After function call\n"
     ]
    }
   ],
   "source": [
    "def decorator(func):  \n",
    "    def wrapper():\n",
    "        print(\"Before function call\")\n",
    "        func()\n",
    "        print(\"After function call\")\n",
    "    return wrapper\n",
    "\n",
    "@decorator  # This will appear in a different color because it's an annotation\n",
    "def greet():\n",
    "    print(\"Hello!\")\n",
    "\n",
    "greet()\n"
   ]
  },
  {
   "cell_type": "code",
   "execution_count": null,
   "metadata": {},
   "outputs": [
    {
     "name": "stdout",
     "output_type": "stream",
     "text": [
      "[1, 2, 4]\n",
      "[1, 0, 0, 0]\n"
     ]
    }
   ],
   "source": [
    "def plusOne(digits):\n",
    "        \"\"\"\n",
    "        :type digits: List[int]\n",
    "        :rtype: List[int]\n",
    "        \"\"\"\n",
    "        n=len(digits)\n",
    "        for i in range(n-1,-1,-1):\n",
    "            if digits[i]< 9:\n",
    "                digits[i] +=1\n",
    "                return digits\n",
    "            digits[i]=0\n",
    "        return [1]+digits\n",
    "\n",
    "print(plusOne([1, 2, 3]))  \n",
    "print(plusOne([9, 9, 9]))"
   ]
  },
  {
   "cell_type": "code",
   "execution_count": null,
   "metadata": {},
   "outputs": [
    {
     "name": "stdout",
     "output_type": "stream",
     "text": [
      "[9, 4]\n"
     ]
    }
   ],
   "source": [
    "def intersection(nums1, nums2):\n",
    "    return list(set(nums1) & set(nums2))\n",
    "\n",
    "nums1 = [4, 9, 5]\n",
    "nums2 = [9, 4, 9, 8, 4]\n",
    "print(intersection(nums1,nums2))\n"
   ]
  },
  {
   "cell_type": "code",
   "execution_count": null,
   "metadata": {},
   "outputs": [
    {
     "data": {
      "text/plain": [
       "1"
      ]
     },
     "execution_count": 410,
     "metadata": {},
     "output_type": "execute_result"
    }
   ],
   "source": [
    "arr =[1,4,3,2]\n",
    "max([1,1,0,1,1,1])"
   ]
  },
  {
   "cell_type": "code",
   "execution_count": null,
   "metadata": {},
   "outputs": [
    {
     "name": "stdout",
     "output_type": "stream",
     "text": [
      "er\n",
      "er is barking\n"
     ]
    }
   ],
   "source": [
    "class Dog: \n",
    "    sound =\"bark\"\n",
    "    \n",
    "    def __init__(self,sound) -> None:\n",
    "        self.sound=sound\n",
    "    def bark(self):\n",
    "        print(f\"{self.sound} is barking\")\n",
    "\n",
    "dog1= Dog(\"er\")\n",
    "print(dog1.sound)\n",
    "dog1.bark()"
   ]
  },
  {
   "cell_type": "code",
   "execution_count": null,
   "metadata": {},
   "outputs": [],
   "source": [
    "class Dog():\n",
    "    def __init__(self,name,age) -> None:\n",
    "        self.name=name\n",
    "        self.age=age\n",
    "    def __str__(self) -> str:\n",
    "        return f\"{self.name} is {self.age} years old.\"\n",
    "    "
   ]
  },
  {
   "cell_type": "code",
   "execution_count": null,
   "metadata": {},
   "outputs": [
    {
     "name": "stdout",
     "output_type": "stream",
     "text": [
      "Buddy is barking\n"
     ]
    }
   ],
   "source": [
    "#parent class\n",
    "class Animal():\n",
    "    def __init__(self,name):\n",
    "        self.name=name\n",
    "    \n",
    "    def speak(self):\n",
    "        pass\n",
    "        \n",
    "\n",
    "#child class\n",
    "class Dog(Animal):\n",
    "    def speak(self):\n",
    "        return f\"{self.name} is barking\"\n",
    "\n",
    "dog1=Dog(\"Buddy\")\n",
    "print(dog1.speak())"
   ]
  },
  {
   "cell_type": "code",
   "execution_count": null,
   "metadata": {},
   "outputs": [],
   "source": [
    "class Person:\n",
    "    def __init__(self, name, idnumber):\n",
    "        self.name = name\n",
    "        self.idnumber = idnumber\n",
    "\n",
    "    def display(self):\n",
    "        print(self.name)\n",
    "        print(self.idnumber)\n",
    "\n",
    "# Child Class: Employee\n",
    "class Employee(Person):\n",
    "    def __init__(self, name, idnumber, salary, post):\n",
    "        super().__init__(name, idnumber)  # Using super() to call Person's __init__()\n",
    "        self.salary = salary\n",
    "        self.post = post"
   ]
  },
  {
   "cell_type": "code",
   "execution_count": null,
   "metadata": {},
   "outputs": [
    {
     "name": "stdout",
     "output_type": "stream",
     "text": [
      "John 40000\n",
      "Alice 50000\n",
      "Bob 60000 HR\n",
      "Charlie 45000 10\n",
      "David 70000 Finance 20\n"
     ]
    }
   ],
   "source": [
    "# 1. Single Inheritance\n",
    "class Person:\n",
    "    def __init__(self, name):\n",
    "        self.name = name\n",
    "\n",
    "class Employee(Person):  # Employee inherits from Person\n",
    "    def __init__(self, name, salary):\n",
    "        super().__init__(name)\n",
    "        self.salary = salary\n",
    "\n",
    "# 2. Multiple Inheritance\n",
    "class Job:\n",
    "    def __init__(self, salary):\n",
    "        self.salary = salary\n",
    "\n",
    "class EmployeePersonJob(Employee, Job):  # Inherits from both Employee and Job\n",
    "    def __init__(self, name, salary):\n",
    "        Employee.__init__(self, name, salary)  # Initialize Employee\n",
    "        Job.__init__(self, salary)            # Initialize Job\n",
    "\n",
    "# 3. Multilevel Inheritance\n",
    "class Manager(EmployeePersonJob):  # Inherits from EmployeePersonJob\n",
    "    def __init__(self, name, salary, department):\n",
    "        EmployeePersonJob.__init__(self, name, salary)  # Explicitly initialize EmployeePersonJob\n",
    "        self.department = department\n",
    "\n",
    "# 4. Hierarchical Inheritance\n",
    "class AssistantManager(EmployeePersonJob):  # Inherits from EmployeePersonJob\n",
    "\n",
    "    def __init__(self, name, salary, team_size):\n",
    "        EmployeePersonJob.__init__(self, name, salary)  # Explicitly initialize EmployeePersonJob\n",
    "        self.team_size = team_size\n",
    "\n",
    "# 5. Hybrid Inheritance (Multiple + Multilevel)\n",
    "class SeniorManager(Manager, AssistantManager):  # Inherits from both Manager and AssistantManager\n",
    "    def __init__(self, name, salary, department, team_size):\n",
    "        Manager.__init__(self, name, salary, department)        # Initialize Manager\n",
    "        AssistantManager.__init__(self, name, salary, team_size)  # Initialize AssistantManager\n",
    "\n",
    "# Creating objects to show inheritance\n",
    "\n",
    "# Single Inheritance\n",
    "emp = Employee(\"John\", 40000)\n",
    "print(emp.name, emp.salary)\n",
    "\n",
    "# Multiple Inheritance\n",
    "emp2 = EmployeePersonJob(\"Alice\", 50000)\n",
    "print(emp2.name, emp2.salary)\n",
    "\n",
    "# Multilevel Inheritance\n",
    "mgr = Manager(\"Bob\", 60000, \"HR\")\n",
    "print(mgr.name, mgr.salary, mgr.department)\n",
    "\n",
    "# Hierarchical Inheritance\n",
    "asst_mgr = AssistantManager(\"Charlie\", 45000, 10)\n",
    "print(asst_mgr.name, asst_mgr.salary, asst_mgr.team_size)\n",
    "\n",
    "# Hybrid Inheritance\n",
    "sen_mgr = SeniorManager(\"David\", 70000, \"Finance\", 20)\n",
    "print(sen_mgr.name, sen_mgr.salary, sen_mgr.department, sen_mgr.team_size)\n"
   ]
  },
  {
   "cell_type": "code",
   "execution_count": null,
   "metadata": {},
   "outputs": [
    {
     "name": "stdout",
     "output_type": "stream",
     "text": [
      "2\n",
      "4\n"
     ]
    }
   ],
   "source": [
    "class EvenNumbers:\n",
    "    def __iter__(self):\n",
    "        self.n = 2  # Start from the first even number\n",
    "        return self\n",
    "\n",
    "    def __next__(self):\n",
    "        x = self.n\n",
    "        self.n += 2  # Increment by 2 to get the next even number\n",
    "        return x\n",
    "\n",
    "# Create an instance of EvenNumbers\n",
    "even = EvenNumbers()\n",
    "it = iter(even)\n",
    "print(next(it))  \n",
    "print(next(it)) \n"
   ]
  },
  {
   "cell_type": "code",
   "execution_count": null,
   "metadata": {},
   "outputs": [
    {
     "name": "stdout",
     "output_type": "stream",
     "text": [
      "Can't be divided by zero!\n"
     ]
    }
   ],
   "source": [
    "n = 10\n",
    "try:\n",
    "    res = n / 0  # This will raise a ZeroDivisionError\n",
    "    \n",
    "except ZeroDivisionError:\n",
    "    print(\"Can't be divided by zero!\")"
   ]
  },
  {
   "cell_type": "code",
   "execution_count": null,
   "metadata": {},
   "outputs": [
    {
     "name": "stdout",
     "output_type": "stream",
     "text": [
      "Not Valid!\n"
     ]
    }
   ],
   "source": [
    "try:\n",
    "    x = int(\"str\")  # This will cause ValueError\n",
    "    \n",
    "    #inverse\n",
    "    inv = 1 / x\n",
    "    \n",
    "except ValueError:\n",
    "    print(\"Not Valid!\")\n",
    "    \n",
    "except ZeroDivisionError:\n",
    "    print(\"Zero has no inverse!\")\n"
   ]
  },
  {
   "cell_type": "code",
   "execution_count": null,
   "metadata": {},
   "outputs": [
    {
     "data": {
      "text/plain": [
       "2"
      ]
     },
     "execution_count": 3,
     "metadata": {},
     "output_type": "execute_result"
    }
   ],
   "source": [
    "def third_largets(arr):\n",
    "    unique_sort=sorted(set(arr), reverse=True)\n",
    "    return unique_sort[2] if len(unique_sort)>=3 else -1\n",
    "    \n",
    "    \n",
    "third_largets([1,3,4,2,2])"
   ]
  },
  {
   "cell_type": "code",
   "execution_count": null,
   "metadata": {},
   "outputs": [
    {
     "name": "stdout",
     "output_type": "stream",
     "text": [
      "a: 1, b: 2\n",
      "args: (3, 4)\n",
      "kwargs: {'x': 10, 'y': 20}\n"
     ]
    }
   ],
   "source": [
    "def example_function(a, b, *args, **kwargs):\n",
    "    print(f\"a: {a}, b: {b}\")\n",
    "    print(f\"args: {args}\")\n",
    "    print(f\"kwargs: {kwargs}\")\n",
    "\n",
    "example_function(1, 2, 3, 4, x=10, y=20)"
   ]
  },
  {
   "cell_type": "code",
   "execution_count": 127,
   "metadata": {},
   "outputs": [
    {
     "name": "stdout",
     "output_type": "stream",
     "text": [
      "Hello ww is\n"
     ]
    }
   ],
   "source": [
    "name= input(\"Enter your name\")\n",
    "print(\"Hello\", name, \"is\")"
   ]
  },
  {
   "cell_type": "code",
   "execution_count": 132,
   "metadata": {},
   "outputs": [
    {
     "name": "stdout",
     "output_type": "stream",
     "text": [
      "The sum is 71\n"
     ]
    }
   ],
   "source": [
    "# Taking input from the user\n",
    "num = int(input(\"Enter a value: \"))\n",
    "\n",
    "add = num + 5\n",
    "\n",
    "# Output\n",
    "print(\"The sum is %d\" %add)\n",
    "\n"
   ]
  },
  {
   "cell_type": "code",
   "execution_count": 136,
   "metadata": {},
   "outputs": [
    {
     "name": "stdout",
     "output_type": "stream",
     "text": [
      "(0, 1, 2, 3, 'Geeks', 'For', 'Geeks')\n"
     ]
    }
   ],
   "source": [
    "tup1 = (0, 1, 2, 3)\n",
    "tup2 = ('Geeks', 'For', 'Geeks')\n",
    "\n",
    "tup3 = tup1 + tup2\n",
    "print(tup3)\n"
   ]
  },
  {
   "cell_type": "code",
   "execution_count": 138,
   "metadata": {},
   "outputs": [
    {
     "name": "stdout",
     "output_type": "stream",
     "text": [
      "{'e', 'k', 'o', 's', 'r', 'G', 'F'}\n"
     ]
    }
   ],
   "source": [
    "set1 = set(\"GeeksForGeeks\")\n",
    "print(set1)"
   ]
  },
  {
   "cell_type": "code",
   "execution_count": 140,
   "metadata": {},
   "outputs": [
    {
     "name": "stdout",
     "output_type": "stream",
     "text": [
      "{1, 2, 4, 5}\n",
      "Error: 10\n",
      "{1, 2, 5}\n",
      "{1, 2, 5}\n"
     ]
    }
   ],
   "source": [
    "# Using Remove Method\n",
    "set1 = {1, 2, 3, 4, 5}\n",
    "set1.remove(3)\n",
    "print(set1)  \n",
    "\n",
    "# Attempting to remove an element that does not exist\n",
    "try:\n",
    "    set1.remove(10)\n",
    "except KeyError as e:\n",
    "    print(\"Error:\", e)  \n",
    "\n",
    "# Using discard() Method\n",
    "set1.discard(4)\n",
    "print(set1)  \n",
    "\n",
    "# Attempting to discard an element that does not exist\n",
    "set1.discard(10)  # No error raised\n",
    "print(set1)  \n"
   ]
  },
  {
   "cell_type": "code",
   "execution_count": 161,
   "metadata": {},
   "outputs": [
    {
     "data": {
      "text/plain": [
       "3"
      ]
     },
     "execution_count": 161,
     "metadata": {},
     "output_type": "execute_result"
    }
   ],
   "source": [
    "a = [1, 2, 3, 4, 5]\n",
    "b = [1, 2, 3]\n",
    "\n",
    "def findUnion(a,b):\n",
    "    union=set(a) | set(b)\n",
    "    return len(union)\n",
    "    \n",
    "    \n",
    "findUnion(a,b)\n"
   ]
  },
  {
   "cell_type": "code",
   "execution_count": 162,
   "metadata": {},
   "outputs": [
    {
     "data": {
      "text/plain": [
       "[0, 2, 2, 0, 1]"
      ]
     },
     "execution_count": 162,
     "metadata": {},
     "output_type": "execute_result"
    }
   ],
   "source": [
    "def frequencyCheck(a):\n",
    "    n=len(a)\n",
    "    result =[0] * n\n",
    "    \n",
    "    for num in a:\n",
    "        if 1<=num <=n:\n",
    "            result [num-1] += 1\n",
    "    return result \n",
    "\n",
    "frequencyCheck([2, 3, 2, 3, 5])   "
   ]
  },
  {
   "cell_type": "code",
   "execution_count": 165,
   "metadata": {},
   "outputs": [
    {
     "data": {
      "text/plain": [
       "0"
      ]
     },
     "execution_count": 165,
     "metadata": {},
     "output_type": "execute_result"
    }
   ],
   "source": [
    "arr=[1, 1, 2, 2, 2, 2, 3]\n",
    "def occurance(arr,target):\n",
    "    count=0\n",
    "    for num in arr:\n",
    "        if num ==target:\n",
    "            count+=1\n",
    "    return count\n",
    "\n",
    "occurance(arr,4)  \n",
    "            \n",
    "        "
   ]
  },
  {
   "cell_type": "code",
   "execution_count": 186,
   "metadata": {},
   "outputs": [
    {
     "data": {
      "text/plain": [
       "'gee'"
      ]
     },
     "execution_count": 186,
     "metadata": {},
     "output_type": "execute_result"
    }
   ],
   "source": [
    "arr= [\"geeksforgeeks\", \"geeks\", \"geek\", \"geezer\"]\n",
    "def longestCommonPrefix(arr):\n",
    "    prefix=arr[0]\n",
    "    for x in arr[1:]:    \n",
    "        while not x.startswith(prefix):\n",
    "            prefix=prefix[:-1]\n",
    "            if not prefix:\n",
    "                return \"\"\n",
    "    return prefix\n",
    "\n",
    "longestCommonPrefix(arr)\n",
    "    "
   ]
  },
  {
   "cell_type": "code",
   "execution_count": 188,
   "metadata": {},
   "outputs": [
    {
     "data": {
      "text/plain": [
       "[180, 600, 360, 300, 900]"
      ]
     },
     "execution_count": 188,
     "metadata": {},
     "output_type": "execute_result"
    }
   ],
   "source": [
    "def productExceptSelf(arr):\n",
    "    n = len(arr)\n",
    "    res = [1] * n\n",
    "\n",
    "    # Step 1: Prefix product\n",
    "    prefix = 1\n",
    "    for i in range(n):\n",
    "        res[i] = prefix\n",
    "        prefix *= arr[i]\n",
    "\n",
    "    # Step 2: Suffix product\n",
    "    suffix = 1\n",
    "    for i in range(n - 1, -1, -1):\n",
    "        res[i] *= suffix\n",
    "        suffix *= arr[i]\n",
    "\n",
    "    # Optional: ensure 32-bit integer range\n",
    "    INT_MAX = 2**31 - 1\n",
    "    INT_MIN = -2**31\n",
    "    for i in range(n):\n",
    "        if res[i] > INT_MAX:\n",
    "            res[i] = INT_MAX\n",
    "        elif res[i] < INT_MIN:\n",
    "            res[i] = INT_MIN\n",
    "\n",
    "    return res\n",
    "\n",
    "productExceptSelf([10, 3, 5, 6, 2])\n"
   ]
  },
  {
   "cell_type": "code",
   "execution_count": 195,
   "metadata": {},
   "outputs": [
    {
     "data": {
      "text/plain": [
       "0"
      ]
     },
     "execution_count": 195,
     "metadata": {},
     "output_type": "execute_result"
    }
   ],
   "source": [
    "arr = [1,1,1]\n",
    "def transtionPoint(arr):\n",
    "    for x in range(len(arr)):\n",
    "        if arr[x]==1:\n",
    "            return x\n",
    "        \n",
    "    return -1\n",
    "        \n",
    "transtionPoint(arr)"
   ]
  },
  {
   "cell_type": "code",
   "execution_count": 201,
   "metadata": {},
   "outputs": [
    {
     "name": "stdout",
     "output_type": "stream",
     "text": [
      "[2, 1, 4, 3, 6, 5]\n"
     ]
    }
   ],
   "source": [
    "def convertToWaveArray(arr):\n",
    "    n=len(arr)\n",
    "    for x in range(0,n-1,2):\n",
    "        arr[x],arr[x+1]=arr[x+1],arr[x]\n",
    "    print(arr)\n",
    "\n",
    "convertToWaveArray([1, 2, 3, 4, 5, 6])\n",
    "        "
   ]
  },
  {
   "cell_type": "code",
   "execution_count": 205,
   "metadata": {},
   "outputs": [
    {
     "data": {
      "text/plain": [
       "[2, -1, 3, -4, 2, 2]"
      ]
     },
     "execution_count": 205,
     "metadata": {},
     "output_type": "execute_result"
    }
   ],
   "source": [
    "def rearrange(arr):\n",
    "        # code here\n",
    "        pos=[]\n",
    "        neg=[]\n",
    "        for num in arr:\n",
    "            if num >0:\n",
    "                pos.append(num)\n",
    "            else:\n",
    "                neg.append(num)\n",
    "        result=[]\n",
    "        i=j=0\n",
    "        turn =True\n",
    "        while i<len(pos)and j<len(neg):\n",
    "            if turn:\n",
    "                result.append(pos[i])\n",
    "                i+=1\n",
    "            else:\n",
    "                result.append(neg[j])\n",
    "                j+=1\n",
    "            turn= not turn\n",
    "        result.extend(pos[i:])\n",
    "        result.extend(neg[j:])\n",
    "        return result\n",
    "rearrange([-1,2,3,-4,2,2])"
   ]
  },
  {
   "cell_type": "code",
   "execution_count": 214,
   "metadata": {},
   "outputs": [
    {
     "data": {
      "text/plain": [
       "7"
      ]
     },
     "execution_count": 214,
     "metadata": {},
     "output_type": "execute_result"
    }
   ],
   "source": [
    "import heapq\n",
    "def kthSmallest(arr,target):\n",
    "    heapq.heapify(arr)\n",
    "    for _ in range(target-1):\n",
    "        heapq.heappop(arr)\n",
    "    return heapq.heappop(arr)\n",
    "\n",
    "kthSmallest([7, 10, 4, 3, 20, 15],3)\n"
   ]
  },
  {
   "cell_type": "code",
   "execution_count": 219,
   "metadata": {},
   "outputs": [
    {
     "data": {
      "text/plain": [
       "6"
      ]
     },
     "execution_count": 219,
     "metadata": {},
     "output_type": "execute_result"
    }
   ],
   "source": [
    "def smallestMissing(arr):\n",
    "    arr.sort()\n",
    "    smallest = 1\n",
    "    for num in arr:\n",
    "        if num == smallest:\n",
    "            smallest += 1\n",
    "    return smallest\n",
    "\n",
    "        \n",
    "    \n",
    "\n",
    "smallestMissing([1,4,2,3,5])"
   ]
  },
  {
   "cell_type": "code",
   "execution_count": 221,
   "metadata": {},
   "outputs": [],
   "source": [
    "#while left >= 0 and right < len(s) and s[left] == s[right]:\n"
   ]
  },
  {
   "cell_type": "code",
   "execution_count": 240,
   "metadata": {},
   "outputs": [
    {
     "data": {
      "text/plain": [
       "'racecar'"
      ]
     },
     "execution_count": 240,
     "metadata": {},
     "output_type": "execute_result"
    }
   ],
   "source": [
    "def longestPalindrome(s):\n",
    "    if not s or len(s) < 1:\n",
    "        return \"\"\n",
    "    \n",
    "    start = 0\n",
    "    end = 0\n",
    "\n",
    "    def expandAroundCenter(left: int, right: int):\n",
    "        while left>=0 and right <len(s) and s[left]==s[right]:\n",
    "            left -=1\n",
    "            right+=1\n",
    "        return left+1, right-1\n",
    "        \n",
    "    for i in range(len(s)):\n",
    "        l1,r1=expandAroundCenter(i,i)\n",
    "        l2,r2=expandAroundCenter(i,i+1)\n",
    "        if r1-l1>end-start:\n",
    "            start,end =l1,r1\n",
    "        if r2-l2> end-start:\n",
    "            start,end=l2,r2\n",
    "    return s[start:end+1]\n",
    "    \n",
    "longestPalindrome(\"racecar\")\n",
    "           \n"
   ]
  },
  {
   "cell_type": "code",
   "execution_count": 241,
   "metadata": {},
   "outputs": [
    {
     "data": {
      "text/plain": [
       "[-1, -3, -4, -2, -3, -4, 3, -2]"
      ]
     },
     "execution_count": 241,
     "metadata": {},
     "output_type": "execute_result"
    }
   ],
   "source": [
    "def segregateElements(arr):\n",
    "        # Your code goes here\n",
    "    n=len(arr)\n",
    "    temp=arr.copy()\n",
    "    count_index=0\n",
    "    for i in range(n):\n",
    "        if arr[i]>0:\n",
    "            arr[count_index]=temp[i]\n",
    "            count_index+=1\n",
    "        for i in range(n):\n",
    "            if arr[i]<0:\n",
    "                arr[count_index]=temp[i]\n",
    "                count_index+=1\n",
    "        return arr\n",
    "                \n",
    "segregateElements([-1,4,5,6,-3,-4,3,-2])\n"
   ]
  },
  {
   "cell_type": "code",
   "execution_count": 243,
   "metadata": {},
   "outputs": [
    {
     "data": {
      "text/plain": [
       "2"
      ]
     },
     "execution_count": 243,
     "metadata": {},
     "output_type": "execute_result"
    }
   ],
   "source": [
    "def countIntersection(a,b):\n",
    "    set_a=set(a)\n",
    "    set_b=set(b)\n",
    "    intersection=set_a&set_b\n",
    "    return len(intersection)\n",
    "\n",
    "countIntersection([1, 3, 4, 5, 7], [2, 3, 5, 6])"
   ]
  },
  {
   "cell_type": "code",
   "execution_count": 249,
   "metadata": {},
   "outputs": [
    {
     "data": {
      "text/plain": [
       "50"
      ]
     },
     "execution_count": 249,
     "metadata": {},
     "output_type": "execute_result"
    }
   ],
   "source": [
    "def findMximum(arr):\n",
    "    \t\t# code here\n",
    "\tmax_value=arr[0]\n",
    "\tfor i in arr:\n",
    "\t\tif i>max_value:\n",
    "\t\t    max_value=i\n",
    "\treturn max_value\n",
    "\n",
    "findMximum([10,20,50,10,5])\n",
    "\t\t"
   ]
  },
  {
   "cell_type": "code",
   "execution_count": 251,
   "metadata": {},
   "outputs": [
    {
     "data": {
      "text/plain": [
       "2"
      ]
     },
     "execution_count": 251,
     "metadata": {},
     "output_type": "execute_result"
    }
   ],
   "source": [
    "from collections import Counter\n",
    "def nonRepeatingElement(arr):\n",
    "    count=Counter(arr)\n",
    "    for num in arr:\n",
    "        if count[num]==1:\n",
    "            return num\n",
    "    return 0\n",
    "\n",
    "nonRepeatingElement([1,3,4,2,3,4,1,3,5])\n",
    "\n",
    "\n"
   ]
  },
  {
   "cell_type": "code",
   "execution_count": 254,
   "metadata": {},
   "outputs": [
    {
     "data": {
      "text/plain": [
       "5"
      ]
     },
     "execution_count": 254,
     "metadata": {},
     "output_type": "execute_result"
    }
   ],
   "source": [
    "from collections import Counter\n",
    "def countZeros(arr):\n",
    "    frq=Counter(arr)\n",
    "    return frq.get(0,0)\n",
    "\n",
    "countZeros([1,2,3,4,0,0,0,0,0])\n",
    "\n",
    "    "
   ]
  },
  {
   "cell_type": "code",
   "execution_count": 261,
   "metadata": {},
   "outputs": [
    {
     "data": {
      "text/plain": [
       "[0, 0, 0, 1, 1, 1, 1]"
      ]
     },
     "execution_count": 261,
     "metadata": {},
     "output_type": "execute_result"
    }
   ],
   "source": [
    "def segregateZoroOne(arr):\n",
    "    temp=[]\n",
    "    one=[]\n",
    "    for i in arr:\n",
    "        if i==0:\n",
    "          temp.append(i)\n",
    "        if i==1:\n",
    "            one.append(i)\n",
    "    return temp+one\n",
    "\n",
    "\n",
    "\n",
    "segregateZoroOne([1,1,1,0,0,0,1])\n",
    "              "
   ]
  },
  {
   "cell_type": "code",
   "execution_count": 272,
   "metadata": {},
   "outputs": [
    {
     "data": {
      "text/plain": [
       "['abcd',\n",
       " 'abcda',\n",
       " 'abcdab',\n",
       " 'abcdabc',\n",
       " 'abcdabcd',\n",
       " 'abcdabcde',\n",
       " 'abcdabcdef',\n",
       " 'abcdabcdefg',\n",
       " 'bcd',\n",
       " 'bcda',\n",
       " 'bcdab',\n",
       " 'bcdabc',\n",
       " 'bcdabcd',\n",
       " 'bcdabcde',\n",
       " 'bcdabcdef',\n",
       " 'bcdabcdefg',\n",
       " 'cd',\n",
       " 'cda',\n",
       " 'cdab',\n",
       " 'cdabc',\n",
       " 'cdabcd',\n",
       " 'cdabcde',\n",
       " 'cdabcdef',\n",
       " 'cdabcdefg',\n",
       " 'd',\n",
       " 'da',\n",
       " 'dab',\n",
       " 'dabc',\n",
       " 'dabcd',\n",
       " 'dabcde',\n",
       " 'dabcdef',\n",
       " 'dabcdefg',\n",
       " 'abcd',\n",
       " 'abcde',\n",
       " 'abcdef',\n",
       " 'abcdefg',\n",
       " 'bcd',\n",
       " 'bcde',\n",
       " 'bcdef',\n",
       " 'bcdefg',\n",
       " 'cd',\n",
       " 'cde',\n",
       " 'cdef',\n",
       " 'cdefg',\n",
       " 'd',\n",
       " 'de',\n",
       " 'def',\n",
       " 'defg']"
      ]
     },
     "execution_count": 272,
     "metadata": {},
     "output_type": "execute_result"
    }
   ],
   "source": [
    "#interview\n",
    "s=\"abcdabcdefg\"\n",
    "target=\"d\"\n",
    "#char is given find all the possible substring including abcdabcdefg\n",
    "def substring(s,target):\n",
    "    n=len(s)\n",
    "    result=[]\n",
    "    for i in range(n):\n",
    "        for j in range(i+1,n+1):\n",
    "            substr=s[i:j]\n",
    "            if target in substr:\n",
    "                result.append(substr)\n",
    "    return result\n",
    "    \n",
    "substring(s,target)\n",
    "\n",
    "\n",
    "\n"
   ]
  },
  {
   "cell_type": "code",
   "execution_count": 274,
   "metadata": {},
   "outputs": [],
   "source": [
    "arr=[2,1,5,1,3,2]\n",
    "k=3\n",
    "#divide arr into subarrays len of sub sum all the elements of substrings find subarray with having max of sum contigiuos"
   ]
  },
  {
   "cell_type": "code",
   "execution_count": 271,
   "metadata": {},
   "outputs": [
    {
     "data": {
      "text/plain": [
       "([5, 1, 3], 9)"
      ]
     },
     "execution_count": 271,
     "metadata": {},
     "output_type": "execute_result"
    }
   ],
   "source": [
    "def findSubarray(arr,k):\n",
    "    n=len(arr)\n",
    "    if n<k:\n",
    "        return None\n",
    "    max_sum=curr_sum=sum(arr[:k])\n",
    "    start_index=0\n",
    "    for i in range(k,n):\n",
    "        curr_sum+=arr[i]-arr[i-k]\n",
    "        if curr_sum>max_sum:\n",
    "            max_sum=curr_sum\n",
    "            start_index=i-k+1\n",
    "    return arr[start_index:start_index+k], max_sum\n",
    "findSubarray(arr,3)\n"
   ]
  },
  {
   "cell_type": "code",
   "execution_count": null,
   "metadata": {},
   "outputs": [],
   "source": []
  },
  {
   "cell_type": "code",
   "execution_count": null,
   "metadata": {},
   "outputs": [],
   "source": []
  },
  {
   "cell_type": "code",
   "execution_count": 279,
   "metadata": {},
   "outputs": [
    {
     "name": "stdout",
     "output_type": "stream",
     "text": [
      "['123-456-7890', '987-654-3210']\n"
     ]
    }
   ],
   "source": [
    "import re\n",
    "text = \"Contact us at 123-456-7890 or 987-654-3210.\"\n",
    "nubr=re.findall(r'\\b\\d{3}-\\d{3}-\\d{4}\\b',text)\n",
    "print(nubr)"
   ]
  },
  {
   "cell_type": "code",
   "execution_count": 282,
   "metadata": {},
   "outputs": [
    {
     "data": {
      "text/plain": [
       "2"
      ]
     },
     "execution_count": 282,
     "metadata": {},
     "output_type": "execute_result"
    }
   ],
   "source": [
    "def roataion(arr):\n",
    "    n=len(arr)\n",
    "    for i in range(n-1):\n",
    "        if arr[i]>arr[i+1]:\n",
    "            return i+1\n",
    "    return 0\n",
    "\n",
    "roataion([4,5,1,2,3])"
   ]
  },
  {
   "cell_type": "code",
   "execution_count": 286,
   "metadata": {},
   "outputs": [
    {
     "data": {
      "text/plain": [
       "[0, 1, 1, 2, 3, 5, 8, 13]"
      ]
     },
     "execution_count": 286,
     "metadata": {},
     "output_type": "execute_result"
    }
   ],
   "source": [
    "def fibonacciNumbers(n):\n",
    "    fib=[0,1]\n",
    "    for i in range(2,n):\n",
    "        next_number=fib[-1]+fib[-2]\n",
    "        fib.append(next_number)\n",
    "    return fib\n",
    "\n",
    "fibonacciNumbers(8)\n",
    "        \n",
    "    \n",
    "    \n"
   ]
  },
  {
   "cell_type": "code",
   "execution_count": 291,
   "metadata": {},
   "outputs": [
    {
     "name": "stdout",
     "output_type": "stream",
     "text": [
      "Not Weird\n"
     ]
    }
   ],
   "source": [
    "def checkCondtion(n):\n",
    "    if n%2!=0:\n",
    "        print(\"Weird\")\n",
    "    elif n%2==0 and range(2,5):\n",
    "        print(\"Not Weird\")\n",
    "    elif n%2==0 and range(6,20):\n",
    "        print(\"Not Weird\")\n",
    "    elif n%2==0 and n>20:\n",
    "        print(\"Not Weird\")\n",
    "        \n",
    "checkCondtion(24)"
   ]
  },
  {
   "cell_type": "code",
   "execution_count": 300,
   "metadata": {},
   "outputs": [
    {
     "name": "stdout",
     "output_type": "stream",
     "text": [
      "[6, 5, 10]\n",
      "[6, 5, 10]\n"
     ]
    }
   ],
   "source": [
    "def printList():\n",
    "    n= int(input())\n",
    "    for i in range(n):\n",
    "        list_arr = []\n",
    "        list_arr.insert(0,5)\n",
    "        list_arr.insert(1,10)\n",
    "        list_arr.insert(0,6)\n",
    "        print(list_arr)\n",
    "printList()"
   ]
  },
  {
   "cell_type": "code",
   "execution_count": 302,
   "metadata": {},
   "outputs": [
    {
     "name": "stdout",
     "output_type": "stream",
     "text": [
      "RTY\n"
     ]
    }
   ],
   "source": [
    "def swap_case():\n",
    "    s=input()\n",
    "    result =s.swapcase()    \n",
    "    print(result)\n",
    "swap_case()"
   ]
  },
  {
   "cell_type": "code",
   "execution_count": 309,
   "metadata": {},
   "outputs": [],
   "source": [
    "import pandas as pd"
   ]
  },
  {
   "cell_type": "code",
   "execution_count": 310,
   "metadata": {},
   "outputs": [],
   "source": [
    "dt = [{'column1' : 1 , 'column2' : 'str' , 'column3' : 'abc'} , {'column1' : 12, 'column2' : 'str12' , 'column3' : 'abc1111'}]"
   ]
  },
  {
   "cell_type": "code",
   "execution_count": 312,
   "metadata": {},
   "outputs": [],
   "source": [
    "df = pd.DataFrame(dt)"
   ]
  },
  {
   "cell_type": "code",
   "execution_count": 318,
   "metadata": {},
   "outputs": [
    {
     "data": {
      "text/plain": [
       "[{'column1': 1, 'column2': 'str', 'column3': 'abc'},\n",
       " {'column1': 12, 'column2': 'str12', 'column3': 'abc1111'}]"
      ]
     },
     "execution_count": 318,
     "metadata": {},
     "output_type": "execute_result"
    }
   ],
   "source": [
    "df.to_dict(orient = 'records')"
   ]
  },
  {
   "cell_type": "code",
   "execution_count": 321,
   "metadata": {},
   "outputs": [
    {
     "data": {
      "text/plain": [
       "True"
      ]
     },
     "execution_count": 321,
     "metadata": {},
     "output_type": "execute_result"
    }
   ],
   "source": [
    "isinstance(df.column1 , pd.Series)"
   ]
  }
 ],
 "metadata": {
  "kernelspec": {
   "display_name": "python-learning-vL-Vt3Db-py3.9",
   "language": "python",
   "name": "python3"
  },
  "language_info": {
   "codemirror_mode": {
    "name": "ipython",
    "version": 3
   },
   "file_extension": ".py",
   "mimetype": "text/x-python",
   "name": "python",
   "nbconvert_exporter": "python",
   "pygments_lexer": "ipython3",
   "version": "3.9.16"
  },
  "orig_nbformat": 4
 },
 "nbformat": 4,
 "nbformat_minor": 2
}
