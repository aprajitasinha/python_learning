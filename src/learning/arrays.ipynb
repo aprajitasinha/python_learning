{
 "cells": [
  {
   "cell_type": "code",
   "execution_count": 170,
   "metadata": {},
   "outputs": [
    {
     "data": {
      "text/plain": [
       "'Given an array arr[], check whether it is sorted in non-decreasing order. Return true if it is sorted otherwise false.\\n\\nExamples:\\n\\nInput: arr[] = [10, 20, 30, 40, 50]\\nOutput: true\\nExplanation: The given array is sorted.'"
      ]
     },
     "execution_count": 170,
     "metadata": {},
     "output_type": "execute_result"
    }
   ],
   "source": [
    "\"\"\"Given an array arr[], check whether it is sorted in non-decreasing order. Return true if it is sorted otherwise false.\n",
    "\n",
    "Examples:\n",
    "\n",
    "Input: arr[] = [10, 20, 30, 40, 50]\n",
    "Output: true\n",
    "Explanation: The given array is sorted.\"\"\"\n",
    "\n"
   ]
  },
  {
   "cell_type": "code",
   "execution_count": 171,
   "metadata": {},
   "outputs": [
    {
     "data": {
      "text/plain": [
       "False"
      ]
     },
     "execution_count": 171,
     "metadata": {},
     "output_type": "execute_result"
    }
   ],
   "source": [
    "def sorted_array(arr):\n",
    "    for i in range(len(arr)-1):\n",
    "        if arr[i]>arr[i+1]:\n",
    "         return False\n",
    "    return True\n",
    "\n",
    "sorted_array([50,40,50])\n"
   ]
  },
  {
   "cell_type": "code",
   "execution_count": 172,
   "metadata": {},
   "outputs": [
    {
     "data": {
      "text/plain": [
       "'Given an array arr. Your task is to find the minimum and maximum elements in the array.\\n\\nNote: Return a Pair that contains two elements the first one will be a minimum element and the second will be a maximum.\\n\\n'"
      ]
     },
     "execution_count": 172,
     "metadata": {},
     "output_type": "execute_result"
    }
   ],
   "source": [
    "\"\"\"Given an array arr. Your task is to find the minimum and maximum elements in the array.\n",
    "\n",
    "Note: Return a Pair that contains two elements the first one will be a minimum element and the second will be a maximum.\n",
    "\n",
    "\"\"\""
   ]
  },
  {
   "cell_type": "code",
   "execution_count": 173,
   "metadata": {},
   "outputs": [
    {
     "data": {
      "text/plain": [
       "(2, 9)"
      ]
     },
     "execution_count": 173,
     "metadata": {},
     "output_type": "execute_result"
    }
   ],
   "source": [
    "def find_min_max(arr):\n",
    "    if not arr:\n",
    "        return None\n",
    "    min_val=arr[0]\n",
    "    max_val=arr[0]\n",
    "    \n",
    "    for num in arr:\n",
    "        if num<min_val:\n",
    "            min_val=num\n",
    "        if num >max_val:\n",
    "            max_val=num\n",
    "    return(min_val, max_val)\n",
    "\n",
    "find_min_max([3,4,6,2,9])\n",
    "\n",
    "     "
   ]
  },
  {
   "cell_type": "code",
   "execution_count": 174,
   "metadata": {},
   "outputs": [
    {
     "data": {
      "text/plain": [
       "'Given an array arr, rotate the array by one position in clockwise direction.\\n\\nExamples:\\n\\nInput: arr[] = [1, 2, 3, 4, 5]\\nOutput: [5, 1, 2, 3, 4]\\nExplanation: If we rotate arr by one position in clockwise 5 come to the front and remaining those are shifted to the end.'"
      ]
     },
     "execution_count": 174,
     "metadata": {},
     "output_type": "execute_result"
    }
   ],
   "source": [
    "\"\"\"Given an array arr, rotate the array by one position in clockwise direction.\n",
    "\n",
    "Examples:\n",
    "\n",
    "Input: arr[] = [1, 2, 3, 4, 5]\n",
    "Output: [5, 1, 2, 3, 4]\n",
    "Explanation: If we rotate arr by one position in clockwise 5 come to the front and remaining those are shifted to the end.\"\"\"\n"
   ]
  },
  {
   "cell_type": "code",
   "execution_count": 175,
   "metadata": {},
   "outputs": [
    {
     "data": {
      "text/plain": [
       "[5, 1, 3, 4]"
      ]
     },
     "execution_count": 175,
     "metadata": {},
     "output_type": "execute_result"
    }
   ],
   "source": [
    "def rotate_arr(arr):\n",
    "    if not arr: \n",
    "        return []\n",
    "    return [arr[-1]]+ arr[:-1]\n",
    "    \n",
    "    \n",
    "    \n",
    "    \n",
    "rotate_arr([1,3,4,5])"
   ]
  },
  {
   "cell_type": "code",
   "execution_count": 176,
   "metadata": {},
   "outputs": [
    {
     "data": {
      "text/plain": [
       "'Given an array arr[], find the first repeating element. The element should occur more than once and the index of its first occurrence should be the smallest.\\n\\nNote:- The position you return should be according to 1-based indexing. \\n\\nExamples:\\n\\nInput: arr[] = [1, 5, 3, 4, 3, 5, 6]\\nOutput: 2\\nExplanation: 5 appears twice and its first appearance is at index 2 which is less than 3 whose first the occurring index is 3.\\n'"
      ]
     },
     "execution_count": 176,
     "metadata": {},
     "output_type": "execute_result"
    }
   ],
   "source": [
    "\"\"\"Given an array arr[], find the first repeating element. The element should occur more than once and the index of its first occurrence should be the smallest.\n",
    "\n",
    "Note:- The position you return should be according to 1-based indexing. \n",
    "\n",
    "Examples:\n",
    "\n",
    "Input: arr[] = [1, 5, 3, 4, 3, 5, 6]\n",
    "Output: 2\n",
    "Explanation: 5 appears twice and its first appearance is at index 2 which is less than 3 whose first the occurring index is 3.\n",
    "\"\"\""
   ]
  },
  {
   "cell_type": "code",
   "execution_count": 177,
   "metadata": {},
   "outputs": [
    {
     "data": {
      "text/plain": [
       "2"
      ]
     },
     "execution_count": 177,
     "metadata": {},
     "output_type": "execute_result"
    }
   ],
   "source": [
    "def first_repeating_element(arr):\n",
    "    seen ={}\n",
    "    min_index=float('inf')\n",
    "    \n",
    "    for i , num in  enumerate(arr):\n",
    "        if num in seen:\n",
    "            min_index=min(min_index,seen[num])\n",
    "        else:\n",
    "            seen[num]=i+1\n",
    "    return min_index if min_index !=float('inf')    else -1\n",
    "\n",
    "\n",
    "\n",
    "first_repeating_element([1,5,3,4,3,5,6])  \n",
    "        \n",
    "        "
   ]
  },
  {
   "cell_type": "code",
   "execution_count": 178,
   "metadata": {},
   "outputs": [
    {
     "data": {
      "text/plain": [
       "\"Given an array arr of positive integers. Reverse every sub-array group of size k.\\n\\nNote: If at any instance, k is greater or equal to the array size, then reverse the entire array. You shouldn't return any array, modify the given array in place.\""
      ]
     },
     "execution_count": 178,
     "metadata": {},
     "output_type": "execute_result"
    }
   ],
   "source": [
    "\"\"\"Given an array arr of positive integers. Reverse every sub-array group of size k.\n",
    "\n",
    "Note: If at any instance, k is greater or equal to the array size, then reverse the entire array. You shouldn't return any array, modify the given array in place.\"\"\""
   ]
  },
  {
   "cell_type": "code",
   "execution_count": 179,
   "metadata": {},
   "outputs": [
    {
     "name": "stdout",
     "output_type": "stream",
     "text": [
      "[4, 3, 1, 7, 6, 5]\n"
     ]
    }
   ],
   "source": [
    "def reverse_in_group(arr,k):\n",
    "    n=len(arr)\n",
    "    for i in range(0,n,k):\n",
    "        left=i\n",
    "        right= min(i+k-1,n-1)\n",
    "        \n",
    "        while left<right:\n",
    "            arr[left],arr[right]= arr[right],arr[left]\n",
    "            left +=1\n",
    "            right-=1\n",
    "    print(arr)\n",
    "            \n",
    "            \n",
    "reverse_in_group([1,3,4,5,6,7],3)\n",
    "            "
   ]
  },
  {
   "cell_type": "code",
   "execution_count": 180,
   "metadata": {},
   "outputs": [
    {
     "data": {
      "text/plain": [
       "'You are given an array arr[] of non-negative integers. Your task is to move all the zeros in the array to the right end while maintaining the relative order of the non-zero elements. The operation must be performed in place, meaning you should not use extra space for another array.'"
      ]
     },
     "execution_count": 180,
     "metadata": {},
     "output_type": "execute_result"
    }
   ],
   "source": [
    "\"\"\"You are given an array arr[] of non-negative integers. Your task is to move all the zeros in the array to the right end while maintaining the relative order of the non-zero elements. The operation must be performed in place, meaning you should not use extra space for another array.\"\"\""
   ]
  },
  {
   "cell_type": "code",
   "execution_count": 181,
   "metadata": {},
   "outputs": [
    {
     "name": "stdout",
     "output_type": "stream",
     "text": [
      "[1, 3, 4, 9, 7, 0]\n"
     ]
    }
   ],
   "source": [
    "def moveZerosToEnd(arr):\n",
    "    n = len(arr)\n",
    "    j = 0 \n",
    "    \n",
    "    for i in range(n):\n",
    "        if arr[i] != 0:\n",
    "            arr[i], arr[j] = arr[j], arr[i]  \n",
    "            j += 1  \n",
    "    print(arr)\n",
    "            \n",
    "moveZerosToEnd([1,3,4,9,0,7])"
   ]
  },
  {
   "cell_type": "code",
   "execution_count": 182,
   "metadata": {},
   "outputs": [
    {
     "data": {
      "text/plain": [
       "\"Given an array arr. Your task is to find the elements whose value is equal to that of its index value ( Consider 1-based indexing ).\\n\\nNote: There can be more than one element in the array which have the same value as its index. You need to include every such element's index. Follows 1-based indexing of the array.\\n\\nExamples:\\n\\nInput: arr[] = [15, 2, 45, 4 , 7]\\nOutput: [2, 4]\\nExplanation: Here, arr[2] = 2 exists here and arr[4] = 4 exists here.\\n\""
      ]
     },
     "execution_count": 182,
     "metadata": {},
     "output_type": "execute_result"
    }
   ],
   "source": [
    "\"\"\"Given an array arr. Your task is to find the elements whose value is equal to that of its index value ( Consider 1-based indexing ).\n",
    "\n",
    "Note: There can be more than one element in the array which have the same value as its index. You need to include every such element's index. Follows 1-based indexing of the array.\n",
    "\n",
    "Examples:\n",
    "\n",
    "Input: arr[] = [15, 2, 45, 4 , 7]\n",
    "Output: [2, 4]\n",
    "Explanation: Here, arr[2] = 2 exists here and arr[4] = 4 exists here.\n",
    "\"\"\""
   ]
  },
  {
   "cell_type": "code",
   "execution_count": 183,
   "metadata": {},
   "outputs": [
    {
     "data": {
      "text/plain": [
       "[1, 3, 5]"
      ]
     },
     "execution_count": 183,
     "metadata": {},
     "output_type": "execute_result"
    }
   ],
   "source": [
    "def valueEqualToIndex(arr):\n",
    "    result = []\n",
    "    \n",
    "    # Iterate over the array with index\n",
    "    for index, value in enumerate(arr):\n",
    "        if value == index + 1:  # 1-based index check\n",
    "            result.append(index + 1)  # Store the 1-based index\n",
    "    \n",
    "    return result\n",
    "\n",
    "valueEqualToIndex([1,4,3,5,5])"
   ]
  },
  {
   "cell_type": "code",
   "execution_count": 184,
   "metadata": {},
   "outputs": [
    {
     "data": {
      "text/plain": [
       "'Given an array arr[] of positive integers. Return true if all the array elements are palindrome otherwise, return false.\\n\\nExamples:\\n\\nInput: arr[] = [111, 222, 333, 444, 555]\\nOutput: true\\nExplanation:\\narr[0] = 111, which is a palindrome number.'"
      ]
     },
     "execution_count": 184,
     "metadata": {},
     "output_type": "execute_result"
    }
   ],
   "source": [
    "\"\"\"Given an array arr[] of positive integers. Return true if all the array elements are palindrome otherwise, return false.\n",
    "\n",
    "Examples:\n",
    "\n",
    "Input: arr[] = [111, 222, 333, 444, 555]\n",
    "Output: true\n",
    "Explanation:\n",
    "arr[0] = 111, which is a palindrome number.\"\"\"\n"
   ]
  },
  {
   "cell_type": "code",
   "execution_count": 185,
   "metadata": {},
   "outputs": [
    {
     "name": "stdout",
     "output_type": "stream",
     "text": [
      "True\n"
     ]
    }
   ],
   "source": [
    "def is_all_palindrome(arr):\n",
    "    for num in arr:\n",
    "        if str(num) != str(num)[::-1]:  # Check if number is not a palindrome\n",
    "            return False \n",
    "    return True  \n",
    "\n",
    "\n",
    "arr1 = [111, 222, 333, 444, 555]\n",
    "print(is_all_palindrome(arr1)) \n"
   ]
  },
  {
   "cell_type": "code",
   "execution_count": 186,
   "metadata": {},
   "outputs": [
    {
     "data": {
      "text/plain": [
       "'Given an integer array arr. For each element in the array, check whether the right adjacent element (on the next immediate position) of the array is smaller. If the next element is smaller, update the current index to that element. If not, then update to -1.\\n\\nNote: Update the array in itself.'"
      ]
     },
     "execution_count": 186,
     "metadata": {},
     "output_type": "execute_result"
    }
   ],
   "source": [
    "\"\"\"Given an integer array arr. For each element in the array, check whether the right adjacent element (on the next immediate position) of the array is smaller. If the next element is smaller, update the current index to that element. If not, then update to -1.\n",
    "\n",
    "Note: Update the array in itself.\"\"\"\n"
   ]
  },
  {
   "cell_type": "code",
   "execution_count": 187,
   "metadata": {},
   "outputs": [
    {
     "name": "stdout",
     "output_type": "stream",
     "text": [
      "[-1, -1, 3, 2, -1]\n"
     ]
    }
   ],
   "source": [
    "def updateArray(arr):\n",
    "        n = len(arr)\n",
    "        for i in range(n - 1):  \n",
    "            if arr[i + 1] < arr[i]:  \n",
    "                arr[i] = arr[i + 1]  # Update with next smaller element\n",
    "            else:\n",
    "                arr[i] = -1 \n",
    "        arr[-1] = -1\n",
    "        print(arr)\n",
    "\n",
    "updateArray([1,3,4,3,2])"
   ]
  },
  {
   "cell_type": "code",
   "execution_count": 188,
   "metadata": {},
   "outputs": [
    {
     "data": {
      "text/plain": [
       "'Given two arrays a[] and b[] of equal size, the task is to find whether the elements in the arrays are equal.\\n\\nTwo arrays are said to be equal if both contain the same set of elements, arrangements (or permutations) of elements may be different though.\\n\\nNote: If there are repetitions, then counts of repeated elements must also be the same for two arrays to be equal.\\n\\n'"
      ]
     },
     "execution_count": 188,
     "metadata": {},
     "output_type": "execute_result"
    }
   ],
   "source": [
    "\"\"\"Given two arrays a[] and b[] of equal size, the task is to find whether the elements in the arrays are equal.\n",
    "\n",
    "Two arrays are said to be equal if both contain the same set of elements, arrangements (or permutations) of elements may be different though.\n",
    "\n",
    "Note: If there are repetitions, then counts of repeated elements must also be the same for two arrays to be equal.\n",
    "\n",
    "\"\"\""
   ]
  },
  {
   "cell_type": "code",
   "execution_count": 189,
   "metadata": {},
   "outputs": [
    {
     "data": {
      "text/plain": [
       "True"
      ]
     },
     "execution_count": 189,
     "metadata": {},
     "output_type": "execute_result"
    }
   ],
   "source": [
    "from collections import Counter\n",
    "\n",
    "def areArrayEqual(a,b):\n",
    "    return Counter(a) == Counter (b)\n",
    "\n",
    "\n",
    "areArrayEqual([1,2,3,4,5],[1,2,3,4,5])"
   ]
  },
  {
   "cell_type": "code",
   "execution_count": 190,
   "metadata": {},
   "outputs": [
    {
     "data": {
      "text/plain": [
       "'You are given a string s. Your task is to determine if the string is a palindrome. A string is considered a palindrome if it reads the same forwards and backwards.\\n\\n'"
      ]
     },
     "execution_count": 190,
     "metadata": {},
     "output_type": "execute_result"
    }
   ],
   "source": [
    "\"\"\"You are given a string s. Your task is to determine if the string is a palindrome. A string is considered a palindrome if it reads the same forwards and backwards.\n",
    "\n",
    "\"\"\""
   ]
  },
  {
   "cell_type": "code",
   "execution_count": 191,
   "metadata": {},
   "outputs": [
    {
     "data": {
      "text/plain": [
       "True"
      ]
     },
     "execution_count": 191,
     "metadata": {},
     "output_type": "execute_result"
    }
   ],
   "source": [
    "def isPalindrome(s):\n",
    "    return s == s[::-1]\n",
    "\n",
    "isPalindrome(\"radar\")"
   ]
  },
  {
   "cell_type": "code",
   "execution_count": 192,
   "metadata": {},
   "outputs": [],
   "source": [
    "def isValid():\n",
    "    pass"
   ]
  },
  {
   "cell_type": "code",
   "execution_count": 193,
   "metadata": {},
   "outputs": [
    {
     "data": {
      "text/plain": [
       "'Given an array, arr of integers. Your task is to write a program to find the maximum value of ∑arr[i]*i, where i = 0, 1, 2,., n-1. You are allowed to rearrange the elements of the array.\\nNote: Since the output could be large, print the answer modulo 109+7.\\n\\n'"
      ]
     },
     "execution_count": 193,
     "metadata": {},
     "output_type": "execute_result"
    }
   ],
   "source": [
    "\"\"\"Given an array, arr of integers. Your task is to write a program to find the maximum value of ∑arr[i]*i, where i = 0, 1, 2,., n-1. You are allowed to rearrange the elements of the array.\n",
    "Note: Since the output could be large, print the answer modulo 109+7.\n",
    "\n",
    "\"\"\""
   ]
  },
  {
   "cell_type": "code",
   "execution_count": 194,
   "metadata": {},
   "outputs": [
    {
     "data": {
      "text/plain": [
       "23"
      ]
     },
     "execution_count": 194,
     "metadata": {},
     "output_type": "execute_result"
    }
   ],
   "source": [
    "def maxSum(arr):\n",
    "    MOD = 10**9 +7\n",
    "    arr.sort()\n",
    "    max_sum=0\n",
    "    \n",
    "    for i in range(len(arr)):\n",
    "        max_sum= (max_sum+ arr[i]*i) % MOD\n",
    "    return max_sum\n",
    "\n",
    "maxSum([5,3,2,1])"
   ]
  },
  {
   "cell_type": "code",
   "execution_count": 195,
   "metadata": {},
   "outputs": [
    {
     "data": {
      "text/plain": [
       "\"Given a sorted array arr. Return the size of the modified array which contains only distinct elements.\\nNote:\\n1. Don't use set or HashMap to solve the problem.\\n2. You must return the modified array size only where distinct elements are present and modify the original array such that all the distinct elements come at the beginning of the original array.\\n\\n\""
      ]
     },
     "execution_count": 195,
     "metadata": {},
     "output_type": "execute_result"
    }
   ],
   "source": [
    "\"\"\"Given a sorted array arr. Return the size of the modified array which contains only distinct elements.\n",
    "Note:\n",
    "1. Don't use set or HashMap to solve the problem.\n",
    "2. You must return the modified array size only where distinct elements are present and modify the original array such that all the distinct elements come at the beginning of the original array.\n",
    "\n",
    "\"\"\""
   ]
  },
  {
   "cell_type": "code",
   "execution_count": 196,
   "metadata": {},
   "outputs": [
    {
     "name": "stdout",
     "output_type": "stream",
     "text": [
      "[1, 2]\n"
     ]
    }
   ],
   "source": [
    "def removeDuplicates(arr):\n",
    "        if not arr:  \n",
    "            return 0\n",
    "\n",
    "        i = 0  # Unique element pointer\n",
    "\n",
    "        for j in range(1, len(arr)):  # Start checking from second element\n",
    "            if arr[j] != arr[i]:  # If a new unique element is found\n",
    "                i += 1  # Move pointer\n",
    "                arr[i] = arr[j]  # Replace element at i with new unique element\n",
    "\n",
    "        return i + 1\n",
    "  \n",
    "arr=[1,2,2,2,2]\n",
    "size=removeDuplicates(arr)\n",
    "print(arr[:size])\n"
   ]
  },
  {
   "cell_type": "code",
   "execution_count": 197,
   "metadata": {},
   "outputs": [
    {
     "data": {
      "text/plain": [
       "'You are given an array of integers arr[]. Your task is to reverse the given array.\\n\\nNote: Modify the array in place.\\n\\nExamples:\\n\\nInput: arr = [1, 4, 3, 2, 6, 5]\\nOutput: [5, 6, 2, 3, 4, 1]\\nExplanation: The elements of the array are 1 4 3 2 6 5. After reversing the array, the first element goes to the last position, the second element goes to the second last position and so on. Hence, the answer is 5 6 2 3 4 1.'"
      ]
     },
     "execution_count": 197,
     "metadata": {},
     "output_type": "execute_result"
    }
   ],
   "source": [
    "\"\"\"You are given an array of integers arr[]. Your task is to reverse the given array.\n",
    "\n",
    "Note: Modify the array in place.\n",
    "\n",
    "Examples:\n",
    "\n",
    "Input: arr = [1, 4, 3, 2, 6, 5]\n",
    "Output: [5, 6, 2, 3, 4, 1]\n",
    "Explanation: The elements of the array are 1 4 3 2 6 5. After reversing the array, the first element goes to the last position, the second element goes to the second last position and so on. Hence, the answer is 5 6 2 3 4 1.\"\"\""
   ]
  },
  {
   "cell_type": "code",
   "execution_count": 198,
   "metadata": {},
   "outputs": [
    {
     "name": "stdout",
     "output_type": "stream",
     "text": [
      "[3, 4, 2, 1]\n"
     ]
    }
   ],
   "source": [
    "def reversArray(arr):\n",
    "    reversed_array=arr[::-1]\n",
    "    print(reversed_array)\n",
    "\n",
    "reversArray([1,2,4,3])\n",
    "    "
   ]
  },
  {
   "cell_type": "code",
   "execution_count": 199,
   "metadata": {},
   "outputs": [
    {
     "data": {
      "text/plain": [
       "'Given an integer k and array arr. Your task is to return the position of the first occurrence of k in the given array and if element k is not present in the array then return -1.\\n\\nNote: 1-based indexing is followed here.\\n\\nExamples:\\n\\nInput: k = 16 , arr = [9, 7, 16, 16, 4]\\nOutput: 3\\nExplanation: The value 16 is found in the given array at positions 3 and 4, with position 3 being the first occurrence.'"
      ]
     },
     "execution_count": 199,
     "metadata": {},
     "output_type": "execute_result"
    }
   ],
   "source": [
    "\"\"\"Given an integer k and array arr. Your task is to return the position of the first occurrence of k in the given array and if element k is not present in the array then return -1.\n",
    "\n",
    "Note: 1-based indexing is followed here.\n",
    "\n",
    "Examples:\n",
    "\n",
    "Input: k = 16 , arr = [9, 7, 16, 16, 4]\n",
    "Output: 3\n",
    "Explanation: The value 16 is found in the given array at positions 3 and 4, with position 3 being the first occurrence.\"\"\""
   ]
  },
  {
   "cell_type": "code",
   "execution_count": 200,
   "metadata": {},
   "outputs": [
    {
     "data": {
      "text/plain": [
       "3"
      ]
     },
     "execution_count": 200,
     "metadata": {},
     "output_type": "execute_result"
    }
   ],
   "source": [
    "def firstOccurance(arr,k):\n",
    "    for i in range(len(arr)):\n",
    "        if arr[i] ==k:\n",
    "            return i+1\n",
    "    return -1\n",
    "\n",
    "firstOccurance([9,7,8,9],8)"
   ]
  },
  {
   "cell_type": "code",
   "execution_count": 201,
   "metadata": {},
   "outputs": [
    {
     "data": {
      "text/plain": [
       "'Given an array arr[] of positive integers and another integer target. Determine if there exists two distinct indices such that the sum of there elements is equals to target.'"
      ]
     },
     "execution_count": 201,
     "metadata": {},
     "output_type": "execute_result"
    }
   ],
   "source": [
    "\"\"\"Given an array arr[] of positive integers and another integer target. Determine if there exists two distinct indices such that the sum of there elements is equals to target.\"\"\""
   ]
  },
  {
   "cell_type": "code",
   "execution_count": 202,
   "metadata": {},
   "outputs": [
    {
     "data": {
      "text/plain": [
       "[1, 0, 1, 1, 0, 1, 1]"
      ]
     },
     "execution_count": 202,
     "metadata": {},
     "output_type": "execute_result"
    }
   ],
   "source": [
    "def countFrequency(arr):\n",
    "        if not arr:\n",
    "            return []\n",
    "        n = max(arr)\n",
    "        result = [0] * n  # Initialize result array with zeros\n",
    "\n",
    "        for num in arr:\n",
    "            result[num - 1] += 1  # Increment the count at index (num - 1)\n",
    "        \n",
    "        return result\n",
    "    \n",
    "countFrequency([1,3,4,6,7])"
   ]
  },
  {
   "cell_type": "code",
   "execution_count": 203,
   "metadata": {},
   "outputs": [
    {
     "data": {
      "text/plain": [
       "'Given two strings s1 and s2 consisting of lowercase characters. The task is to check whether two given strings are an anagram of each other or not. An anagram of a string is another string that contains the same characters, only the order of characters can be different. For example, \"act\" and \"tac\" are an anagram of each other. Strings s1 and s2 can only contain lowercase alphabets.\\n\\nNote: You can assume both the strings s1 & s2 are non-empty.\\n\\nExamples :\\n\\nInput: s1 = \"geeks\", s2 = \"kseeg\"\\nOutput: true\\nExplanation: Both the string have same characters with same frequency. So, they are anagrams.\\nInput: s1 = \"allergy\", s2 = \"allergic\"\\nOutput: false\\nExplanation: Characters in both the strings are not same, so they are not anagrams.\\n'"
      ]
     },
     "execution_count": 203,
     "metadata": {},
     "output_type": "execute_result"
    }
   ],
   "source": [
    "\"\"\"Given two strings s1 and s2 consisting of lowercase characters. The task is to check whether two given strings are an anagram of each other or not. An anagram of a string is another string that contains the same characters, only the order of characters can be different. For example, \"act\" and \"tac\" are an anagram of each other. Strings s1 and s2 can only contain lowercase alphabets.\n",
    "\n",
    "Note: You can assume both the strings s1 & s2 are non-empty.\n",
    "\n",
    "Examples :\n",
    "\n",
    "Input: s1 = \"geeks\", s2 = \"kseeg\"\n",
    "Output: true\n",
    "Explanation: Both the string have same characters with same frequency. So, they are anagrams.\n",
    "Input: s1 = \"allergy\", s2 = \"allergic\"\n",
    "Output: false\n",
    "Explanation: Characters in both the strings are not same, so they are not anagrams.\n",
    "\"\"\""
   ]
  },
  {
   "cell_type": "code",
   "execution_count": 204,
   "metadata": {},
   "outputs": [
    {
     "data": {
      "text/plain": [
       "True"
      ]
     },
     "execution_count": 204,
     "metadata": {},
     "output_type": "execute_result"
    }
   ],
   "source": [
    "def isAnagram(s1:str,s2:str)-> bool:\n",
    "    if len(s1) != len(s2):\n",
    "        return False\n",
    "    return sorted(s1) == sorted(s2)\n",
    "\n",
    "isAnagram(str(\"geeks\"),str(\"segke\"))"
   ]
  },
  {
   "cell_type": "code",
   "execution_count": 205,
   "metadata": {},
   "outputs": [
    {
     "data": {
      "text/plain": [
       "'Given a string s without spaces, the task is to remove all duplicate characters from it, keeping only the first occurrence.\\n\\nNote: The original order of characters must be kept the same. \\n\\nExamples :\\n\\nInput: s = \"zvvo\"\\nOutput: \"zvo\"\\nExplanation: Only keep the first occurrence'"
      ]
     },
     "execution_count": 205,
     "metadata": {},
     "output_type": "execute_result"
    }
   ],
   "source": [
    "\"\"\"Given a string s without spaces, the task is to remove all duplicate characters from it, keeping only the first occurrence.\n",
    "\n",
    "Note: The original order of characters must be kept the same. \n",
    "\n",
    "Examples :\n",
    "\n",
    "Input: s = \"zvvo\"\n",
    "Output: \"zvo\"\n",
    "Explanation: Only keep the first occurrence\"\"\""
   ]
  },
  {
   "cell_type": "code",
   "execution_count": 206,
   "metadata": {},
   "outputs": [
    {
     "name": "stdout",
     "output_type": "stream",
     "text": [
      "aprjit\n"
     ]
    }
   ],
   "source": [
    "def removeDuplicates(s: str) -> str:\n",
    "    seen = set()  # Track seen characters\n",
    "    result = []   # Store characters in order\n",
    "    \n",
    "    for char in s:\n",
    "        if char not in seen:\n",
    "            seen.add(char)\n",
    "            result.append(char)\n",
    "    \n",
    "    return \"\".join(result)\n",
    "\n",
    "print(removeDuplicates(\"aprajita\"))  "
   ]
  },
  {
   "cell_type": "code",
   "execution_count": 207,
   "metadata": {},
   "outputs": [
    {
     "data": {
      "text/plain": [
       "\"Given an increasing sorted rotated array arr of distinct integers. The array is right-rotated k times. Find the value of k.\\nLet's suppose we have an array arr = [2, 4, 6, 9], so if we rotate it by 2 times so that it will look like this:\\nAfter 1st Rotation : [9, 2, 4, 6]\\nAfter 2nd Rotation : [6, 9, 2, 4]\""
      ]
     },
     "execution_count": 207,
     "metadata": {},
     "output_type": "execute_result"
    }
   ],
   "source": [
    "\"\"\"Given an increasing sorted rotated array arr of distinct integers. The array is right-rotated k times. Find the value of k.\n",
    "Let's suppose we have an array arr = [2, 4, 6, 9], so if we rotate it by 2 times so that it will look like this:\n",
    "After 1st Rotation : [9, 2, 4, 6]\n",
    "After 2nd Rotation : [6, 9, 2, 4]\"\"\""
   ]
  },
  {
   "cell_type": "code",
   "execution_count": 208,
   "metadata": {},
   "outputs": [
    {
     "data": {
      "text/plain": [
       "4"
      ]
     },
     "execution_count": 208,
     "metadata": {},
     "output_type": "execute_result"
    }
   ],
   "source": [
    "def findKRotation( arr):\n",
    "        # code here\n",
    "        low, high = 0, len(arr) - 1\n",
    "\n",
    "        while low < high:\n",
    "            mid = (low + high) // 2\n",
    "\n",
    "            if arr[mid] > arr[high]: \n",
    "                low = mid + 1\n",
    "            else:  \n",
    "                 high = mid\n",
    "\n",
    "        return low \n",
    "\n",
    "findKRotation( [2,3,4,6,1])    "
   ]
  },
  {
   "cell_type": "code",
   "execution_count": 209,
   "metadata": {},
   "outputs": [
    {
     "data": {
      "text/plain": [
       "'Given an array, arr of positive integers. Find the third largest element in it. Return -1 if the third largest element is not found.\\n\\nExamples:\\n\\nInput: arr[] = [2, 4, 1, 3, 5]\\nOutput: 3'"
      ]
     },
     "execution_count": 209,
     "metadata": {},
     "output_type": "execute_result"
    }
   ],
   "source": [
    "\"\"\"Given an array, arr of positive integers. Find the third largest element in it. Return -1 if the third largest element is not found.\n",
    "\n",
    "Examples:\n",
    "\n",
    "Input: arr[] = [2, 4, 1, 3, 5]\n",
    "Output: 3\"\"\""
   ]
  },
  {
   "cell_type": "code",
   "execution_count": 210,
   "metadata": {},
   "outputs": [
    {
     "data": {
      "text/plain": [
       "2"
      ]
     },
     "execution_count": 210,
     "metadata": {},
     "output_type": "execute_result"
    }
   ],
   "source": [
    "def third_largest(arr):\n",
    "    unique_sorted = sorted(set(arr), reverse=True)\n",
    "    return unique_sorted[2] if len(unique_sorted) >= 3 else -1\n",
    "\n",
    "\n",
    "arr = [2, 4, 1, 5]\n",
    "third_largest(arr)"
   ]
  },
  {
   "cell_type": "code",
   "execution_count": 211,
   "metadata": {},
   "outputs": [
    {
     "data": {
      "text/plain": [
       "'Given a string s without spaces, the task is to remove all duplicate characters from it, keeping only the first occurrence.\\n\\nNote: The original order of characters must be kept the same. \\n\\nExamples :\\n\\nInput: s = \"zvvo\"\\nOutput: \"zvo\"\\nExplanation: Only keep the first occurrence'"
      ]
     },
     "execution_count": 211,
     "metadata": {},
     "output_type": "execute_result"
    }
   ],
   "source": [
    "\"\"\"Given a string s without spaces, the task is to remove all duplicate characters from it, keeping only the first occurrence.\n",
    "\n",
    "Note: The original order of characters must be kept the same. \n",
    "\n",
    "Examples :\n",
    "\n",
    "Input: s = \"zvvo\"\n",
    "Output: \"zvo\"\n",
    "Explanation: Only keep the first occurrence\"\"\"\n"
   ]
  },
  {
   "cell_type": "code",
   "execution_count": 212,
   "metadata": {},
   "outputs": [
    {
     "name": "stdout",
     "output_type": "stream",
     "text": [
      "zvo\n"
     ]
    }
   ],
   "source": [
    "def removeDuplicates(s):\n",
    "    seen = set()  \n",
    "    result = []  \n",
    "\n",
    "    for char in s:\n",
    "        if char not in seen:  \n",
    "            seen.add(char)\n",
    "            result.append(char)\n",
    "\n",
    "    return ''.join(result)  \n",
    "\n",
    "print(removeDuplicates(\"zvvo\"))\n"
   ]
  },
  {
   "cell_type": "code",
   "execution_count": 213,
   "metadata": {},
   "outputs": [
    {
     "data": {
      "text/plain": [
       "'Element with left side smaller and right side greater\\nDifficulty: EasyAccuracy: 21.83%Submissions: 136K+Points: 2Average Time: 20m\\nGiven an unsorted array of arr. Find the first element in an array such that all of its left elements are smaller and all right elements of its are greater than it.\\n\\nNote: Return -1 if there is no such element.\\n\\n'"
      ]
     },
     "execution_count": 213,
     "metadata": {},
     "output_type": "execute_result"
    }
   ],
   "source": [
    "\"\"\"Element with left side smaller and right side greater\n",
    "Difficulty: EasyAccuracy: 21.83%Submissions: 136K+Points: 2Average Time: 20m\n",
    "Given an unsorted array of arr. Find the first element in an array such that all of its left elements are smaller and all right elements of its are greater than it.\n",
    "\n",
    "Note: Return -1 if there is no such element.\n",
    "\n",
    "\"\"\""
   ]
  },
  {
   "cell_type": "code",
   "execution_count": 214,
   "metadata": {},
   "outputs": [
    {
     "data": {
      "text/plain": [
       "5"
      ]
     },
     "execution_count": 214,
     "metadata": {},
     "output_type": "execute_result"
    }
   ],
   "source": [
    "def findElement(arr):\n",
    "    n = len(arr)\n",
    "    if n < 3:\n",
    "        return -1\n",
    "    \n",
    "    prefix_max=[0]* n\n",
    "    suffix_min =[0] *n\n",
    "    \n",
    "    prefix_max[0] =float('-inf')\n",
    "    for i in range(1,n):\n",
    "        prefix_max[i] =max(prefix_max[i-1],arr[i-1])\n",
    "        \n",
    "    suffix_min[n-1]=float('inf')\n",
    "    for i in range(n-2, -1,-1):\n",
    "        suffix_min[i] =min(suffix_min[i+1],arr[i+1])\n",
    "        \n",
    "    for i in range(1,n-1):\n",
    "        if prefix_max[i]<arr[i] <suffix_min[i]:\n",
    "            return arr[i]\n",
    "    return -1\n",
    "\n",
    "findElement([3,5,6])"
   ]
  },
  {
   "cell_type": "code",
   "execution_count": 215,
   "metadata": {},
   "outputs": [
    {
     "data": {
      "text/plain": [
       "'Given a string in Roman number format (s), your task is to convert it to an integer. Various symbols and their values are given below.\\nNote: I = 1, V = 5, X = 10, L = 50, C = 100, D = 500, M = 1000\\n\\n'"
      ]
     },
     "execution_count": 215,
     "metadata": {},
     "output_type": "execute_result"
    }
   ],
   "source": [
    "\"\"\"Given a string in Roman number format (s), your task is to convert it to an integer. Various symbols and their values are given below.\n",
    "Note: I = 1, V = 5, X = 10, L = 50, C = 100, D = 500, M = 1000\n",
    "\n",
    "\"\"\""
   ]
  },
  {
   "cell_type": "code",
   "execution_count": 216,
   "metadata": {},
   "outputs": [
    {
     "data": {
      "text/plain": [
       "9"
      ]
     },
     "execution_count": 216,
     "metadata": {},
     "output_type": "execute_result"
    }
   ],
   "source": [
    "def romanToDecimal(s): \n",
    "        # code here\n",
    "        roman_values = {'I': 1, 'V': 5, 'X': 10, 'L': 50, 'C': 100, 'D': 500, 'M': 1000}\n",
    "        total=0\n",
    "        prev_value=0\n",
    "        for char in reversed(s):\n",
    "            current_value=roman_values[char]\n",
    "            if current_value < prev_value:\n",
    "                total -= current_value\n",
    "            else:\n",
    "                total += current_value\n",
    "                prev_value = current_value\n",
    "\n",
    "        return total\n",
    "\n",
    "romanToDecimal(\"IX\")"
   ]
  },
  {
   "cell_type": "code",
   "execution_count": 217,
   "metadata": {},
   "outputs": [
    {
     "name": "stdout",
     "output_type": "stream",
     "text": [
      "Hello, Alice!\n"
     ]
    }
   ],
   "source": [
    "def greet(name):\n",
    "    return f\"Hello, {name}!\"\n",
    "\n",
    "def process_function(func, value):\n",
    "    return func(value)\n",
    "\n",
    "# Passing the greet function as an argument\n",
    "result = process_function(greet, \"Alice\")\n",
    "print(result)  # Output: Hello, Alice!\n"
   ]
  },
  {
   "cell_type": "code",
   "execution_count": 218,
   "metadata": {},
   "outputs": [
    {
     "name": "stdout",
     "output_type": "stream",
     "text": [
      "36\n"
     ]
    }
   ],
   "source": [
    "def fun(func, arg):\n",
    "    return func(arg)\n",
    "\n",
    "def square(x):\n",
    "    return x**2\n",
    "\n",
    "res = fun(square,6)\n",
    "print(res)"
   ]
  },
  {
   "cell_type": "code",
   "execution_count": 219,
   "metadata": {},
   "outputs": [
    {
     "name": "stdout",
     "output_type": "stream",
     "text": [
      "2\n",
      "3\n",
      "5\n",
      "7\n",
      "11\n",
      "13\n",
      "17\n",
      "19\n",
      "23\n",
      "29\n"
     ]
    }
   ],
   "source": [
    "def fun(n):\n",
    "    x=2\n",
    "    count=0\n",
    "    while count<n:\n",
    "        for d in range(2, int(x**0.5)+1):\n",
    "            if x%d==0:\n",
    "                break\n",
    "        else:\n",
    "            print(x)\n",
    "            count +=1\n",
    "        x +=1\n",
    "        \n",
    "fun(10)\n",
    "            "
   ]
  },
  {
   "cell_type": "code",
   "execution_count": 228,
   "metadata": {},
   "outputs": [
    {
     "name": "stdout",
     "output_type": "stream",
     "text": [
      "NmaeAlice and Age 30. \n",
      "Name Liash Age 24.\n"
     ]
    }
   ],
   "source": [
    "class Person:\n",
    "    def __init__(self,name,age):\n",
    "        self.name=name\n",
    "        self.age=age\n",
    "        \n",
    "    def greet(self):\n",
    "        print (f\"Nmae{self.name} and Age {self.age}. \")\n",
    "    \n",
    "    def greeting(self):\n",
    "        print(f\"Name {self.name} Age {self.age}.\")  \n",
    "    \n",
    "p1 = Person(\"Alice\", 30)\n",
    "p1.greet()\n",
    "\n",
    "p2=Person(\"Liash\",24)\n",
    "p2.greeting()\n",
    "\n",
    "\n"
   ]
  },
  {
   "cell_type": "code",
   "execution_count": 232,
   "metadata": {},
   "outputs": [
    {
     "name": "stdout",
     "output_type": "stream",
     "text": [
      "1\n",
      "2\n",
      "3\n",
      "4\n",
      "5\n",
      "6\n",
      "7\n",
      "8\n",
      "9\n",
      "10\n"
     ]
    }
   ],
   "source": [
    "i = 0\n",
    "while i < 10:\n",
    "    pass  # Placeholder for future code\n",
    "    i += 1\n",
    "    print(i)\n",
    "for i in range(5):\n",
    "    pass  # Placeholder for future code\n"
   ]
  },
  {
   "cell_type": "code",
   "execution_count": 235,
   "metadata": {},
   "outputs": [
    {
     "data": {
      "text/plain": [
       "('Alice', 30)"
      ]
     },
     "execution_count": 235,
     "metadata": {},
     "output_type": "execute_result"
    }
   ],
   "source": [
    "def fun():\n",
    "    name = \"Alice\"\n",
    "    age = 30\n",
    "    return name, age\n",
    "\n",
    "fun()"
   ]
  },
  {
   "cell_type": "code",
   "execution_count": 237,
   "metadata": {},
   "outputs": [
    {
     "name": "stdout",
     "output_type": "stream",
     "text": [
      "[9, 27]\n"
     ]
    }
   ],
   "source": [
    "def fun(n):\n",
    "    return [n**2, n**3]\n",
    "\n",
    "res = fun(3)\n",
    "print(res)  "
   ]
  },
  {
   "cell_type": "code",
   "execution_count": 239,
   "metadata": {},
   "outputs": [
    {
     "name": "stdout",
     "output_type": "stream",
     "text": [
      "Message: Hello, World!\n"
     ]
    }
   ],
   "source": [
    "def fun1(msg):\n",
    "    def fun2():\n",
    "        return f\"Message: {msg}\"\n",
    "    return fun2\n",
    "\n",
    "\n",
    "# Getting the inner function\n",
    "fun3 = fun1(\"Hello, World!\")\n",
    "\n",
    "# Calling the inner function\n",
    "print(fun3()) "
   ]
  },
  {
   "cell_type": "code",
   "execution_count": 247,
   "metadata": {},
   "outputs": [
    {
     "name": "stdout",
     "output_type": "stream",
     "text": [
      "I love Geeksforgeeks\n"
     ]
    }
   ],
   "source": [
    "def f():\n",
    "    \n",
    "    # local variable\n",
    "    s = \"I love Geeksforgeeks\"\n",
    "    print(s)\n",
    "\n",
    "\n",
    "# Driver code\n",
    "f()"
   ]
  },
  {
   "cell_type": "code",
   "execution_count": 249,
   "metadata": {},
   "outputs": [
    {
     "name": "stdout",
     "output_type": "stream",
     "text": [
      "Inside Function GFG\n"
     ]
    }
   ],
   "source": [
    "def f():\n",
    "    s = 'GFG'\n",
    "    print(\"Inside Function\", s)\n",
    "\n",
    "\n",
    "# Global scope\n",
    "s = \"I love Geeksforgeeks\"\n",
    "f()"
   ]
  },
  {
   "cell_type": "code",
   "execution_count": 253,
   "metadata": {},
   "outputs": [
    {
     "name": "stdout",
     "output_type": "stream",
     "text": [
      "Python is great! GFG\n",
      "Look for Geeksforgeeks Python Section\n",
      "Look for Geeksforgeeks Python Section\n"
     ]
    }
   ],
   "source": [
    "def f():\n",
    "    global s\n",
    "    s += ' GFG'\n",
    "    print(s)\n",
    "    s = \"Look for Geeksforgeeks Python Section\"\n",
    "    print(s) \n",
    "\n",
    "# Global Scope\n",
    "s = \"Python is great!\" \n",
    "f()\n",
    "print(s)\n"
   ]
  },
  {
   "cell_type": "code",
   "execution_count": 258,
   "metadata": {},
   "outputs": [
    {
     "data": {
      "text/plain": [
       "120"
      ]
     },
     "execution_count": 258,
     "metadata": {},
     "output_type": "execute_result"
    }
   ],
   "source": [
    "def factorial(n):\n",
    "    if n ==1:\n",
    "        return 1\n",
    "    else:\n",
    "        return n* factorial(n-1)\n",
    "    \n",
    "factorial(5)"
   ]
  },
  {
   "cell_type": "code",
   "execution_count": 266,
   "metadata": {},
   "outputs": [
    {
     "name": "stdout",
     "output_type": "stream",
     "text": [
      "2\n"
     ]
    }
   ],
   "source": [
    "def fibonacci(n):\n",
    "    # Base cases\n",
    "    if n == 0:\n",
    "        return 0\n",
    "    elif n == 1:\n",
    "        return 1\n",
    "    # Recursive case\n",
    "    else:\n",
    "        return fibonacci(n-1) + fibonacci(n-2)\n",
    "\n",
    "# Example usage\n",
    "print(fibonacci(3))  "
   ]
  },
  {
   "cell_type": "code",
   "execution_count": null,
   "metadata": {},
   "outputs": [],
   "source": [
    "def tail_fact(n,acc=1):\n",
    "    # Base case\n",
    "    if n == 0:\n",
    "        return acc\n",
    "    # Tail recursive call with an accumulator\n",
    "    else:\n",
    "        return tail_fact(n-1, acc * n)\n",
    "\n",
    "def nontail_fact(n):\n",
    "    # Base case\n",
    "    if n == 1:\n",
    "        return 1\n",
    "    # Non-tail recursive call because the multiplication happens after the call\n",
    "    else:\n",
    "        return n * nontail_fact(n-1)\n",
    "\n",
    "# Example usage\n",
    "print(tail_fact(5))  \n",
    "print(nontail_fact(5))"
   ]
  }
 ],
 "metadata": {
  "kernelspec": {
   "display_name": "python-learning-vL-Vt3Db-py3.9",
   "language": "python",
   "name": "python3"
  },
  "language_info": {
   "codemirror_mode": {
    "name": "ipython",
    "version": 3
   },
   "file_extension": ".py",
   "mimetype": "text/x-python",
   "name": "python",
   "nbconvert_exporter": "python",
   "pygments_lexer": "ipython3",
   "version": "3.9.16"
  },
  "orig_nbformat": 4
 },
 "nbformat": 4,
 "nbformat_minor": 2
}
