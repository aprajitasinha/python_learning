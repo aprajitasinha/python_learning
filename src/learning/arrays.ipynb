{
 "cells": [
  {
   "cell_type": "code",
   "execution_count": null,
   "metadata": {},
   "outputs": [],
   "source": [
    "\"\"\"Given an array arr[], check whether it is sorted in non-decreasing order. Return true if it is sorted otherwise false.\n",
    "\n",
    "Examples:\n",
    "\n",
    "Input: arr[] = [10, 20, 30, 40, 50]\n",
    "Output: true\n",
    "Explanation: The given array is sorted.\"\"\"\n",
    "\n"
   ]
  },
  {
   "cell_type": "code",
   "execution_count": 2,
   "metadata": {},
   "outputs": [
    {
     "data": {
      "text/plain": [
       "False"
      ]
     },
     "execution_count": 2,
     "metadata": {},
     "output_type": "execute_result"
    }
   ],
   "source": [
    "def sorted_array(arr):\n",
    "    for i in range(len(arr)-1):\n",
    "        if arr[i]>arr[i+1]:\n",
    "         return False\n",
    "    return True\n",
    "\n",
    "sorted_array([50,40,50])\n"
   ]
  },
  {
   "cell_type": "code",
   "execution_count": 3,
   "metadata": {},
   "outputs": [
    {
     "data": {
      "text/plain": [
       "'Given an array arr. Your task is to find the minimum and maximum elements in the array.\\n\\nNote: Return a Pair that contains two elements the first one will be a minimum element and the second will be a maximum.\\n\\n'"
      ]
     },
     "execution_count": 3,
     "metadata": {},
     "output_type": "execute_result"
    }
   ],
   "source": [
    "\"\"\"Given an array arr. Your task is to find the minimum and maximum elements in the array.\n",
    "\n",
    "Note: Return a Pair that contains two elements the first one will be a minimum element and the second will be a maximum.\n",
    "\n",
    "\"\"\""
   ]
  },
  {
   "cell_type": "code",
   "execution_count": 5,
   "metadata": {},
   "outputs": [
    {
     "data": {
      "text/plain": [
       "(2, 9)"
      ]
     },
     "execution_count": 5,
     "metadata": {},
     "output_type": "execute_result"
    }
   ],
   "source": [
    "def find_min_max(arr):\n",
    "    if not arr:\n",
    "        return None\n",
    "    min_val=arr[0]\n",
    "    max_val=arr[0]\n",
    "    \n",
    "    for num in arr:\n",
    "        if num<min_val:\n",
    "            min_val=num\n",
    "        if num >max_val:\n",
    "            max_val=num\n",
    "    return(min_val, max_val)\n",
    "\n",
    "find_min_max([3,4,6,2,9])\n",
    "\n",
    "     "
   ]
  },
  {
   "cell_type": "code",
   "execution_count": 6,
   "metadata": {},
   "outputs": [
    {
     "data": {
      "text/plain": [
       "'Given an array arr, rotate the array by one position in clockwise direction.\\n\\nExamples:\\n\\nInput: arr[] = [1, 2, 3, 4, 5]\\nOutput: [5, 1, 2, 3, 4]\\nExplanation: If we rotate arr by one position in clockwise 5 come to the front and remaining those are shifted to the end.'"
      ]
     },
     "execution_count": 6,
     "metadata": {},
     "output_type": "execute_result"
    }
   ],
   "source": [
    "\"\"\"Given an array arr, rotate the array by one position in clockwise direction.\n",
    "\n",
    "Examples:\n",
    "\n",
    "Input: arr[] = [1, 2, 3, 4, 5]\n",
    "Output: [5, 1, 2, 3, 4]\n",
    "Explanation: If we rotate arr by one position in clockwise 5 come to the front and remaining those are shifted to the end.\"\"\"\n"
   ]
  },
  {
   "cell_type": "code",
   "execution_count": 15,
   "metadata": {},
   "outputs": [
    {
     "data": {
      "text/plain": [
       "[5, 1, 3, 4]"
      ]
     },
     "execution_count": 15,
     "metadata": {},
     "output_type": "execute_result"
    }
   ],
   "source": [
    "def rotate_arr(arr):\n",
    "    if not arr: \n",
    "        return []\n",
    "    return [arr[-1]]+ arr[:-1]\n",
    "    \n",
    "    \n",
    "    \n",
    "    \n",
    "rotate_arr([1,3,4,5])"
   ]
  },
  {
   "cell_type": "code",
   "execution_count": 16,
   "metadata": {},
   "outputs": [
    {
     "data": {
      "text/plain": [
       "'Given an array arr[], find the first repeating element. The element should occur more than once and the index of its first occurrence should be the smallest.\\n\\nNote:- The position you return should be according to 1-based indexing. \\n\\nExamples:\\n\\nInput: arr[] = [1, 5, 3, 4, 3, 5, 6]\\nOutput: 2\\nExplanation: 5 appears twice and its first appearance is at index 2 which is less than 3 whose first the occurring index is 3.\\n'"
      ]
     },
     "execution_count": 16,
     "metadata": {},
     "output_type": "execute_result"
    }
   ],
   "source": [
    "\"\"\"Given an array arr[], find the first repeating element. The element should occur more than once and the index of its first occurrence should be the smallest.\n",
    "\n",
    "Note:- The position you return should be according to 1-based indexing. \n",
    "\n",
    "Examples:\n",
    "\n",
    "Input: arr[] = [1, 5, 3, 4, 3, 5, 6]\n",
    "Output: 2\n",
    "Explanation: 5 appears twice and its first appearance is at index 2 which is less than 3 whose first the occurring index is 3.\n",
    "\"\"\""
   ]
  },
  {
   "cell_type": "code",
   "execution_count": 20,
   "metadata": {},
   "outputs": [
    {
     "data": {
      "text/plain": [
       "2"
      ]
     },
     "execution_count": 20,
     "metadata": {},
     "output_type": "execute_result"
    }
   ],
   "source": [
    "def first_repeating_element(arr):\n",
    "    seen ={}\n",
    "    min_index=float('inf')\n",
    "    \n",
    "    for i , num in  enumerate(arr):\n",
    "        if num in seen:\n",
    "            min_index=min(min_index,seen[num])\n",
    "        else:\n",
    "            seen[num]=i+1\n",
    "    return min_index if min_index !=float('inf')    else -1\n",
    "\n",
    "\n",
    "\n",
    "first_repeating_element([1,5,3,4,3,5,6])  \n",
    "        \n",
    "        "
   ]
  },
  {
   "cell_type": "code",
   "execution_count": 21,
   "metadata": {},
   "outputs": [
    {
     "data": {
      "text/plain": [
       "\"Given an array arr of positive integers. Reverse every sub-array group of size k.\\n\\nNote: If at any instance, k is greater or equal to the array size, then reverse the entire array. You shouldn't return any array, modify the given array in place.\""
      ]
     },
     "execution_count": 21,
     "metadata": {},
     "output_type": "execute_result"
    }
   ],
   "source": [
    "\"\"\"Given an array arr of positive integers. Reverse every sub-array group of size k.\n",
    "\n",
    "Note: If at any instance, k is greater or equal to the array size, then reverse the entire array. You shouldn't return any array, modify the given array in place.\"\"\""
   ]
  },
  {
   "cell_type": "code",
   "execution_count": 24,
   "metadata": {},
   "outputs": [
    {
     "name": "stdout",
     "output_type": "stream",
     "text": [
      "[4, 3, 1, 7, 6, 5]\n"
     ]
    }
   ],
   "source": [
    "def reverse_in_group(arr,k):\n",
    "    n=len(arr)\n",
    "    for i in range(0,n,k):\n",
    "        left=i\n",
    "        right= min(i+k-1,n-1)\n",
    "        \n",
    "        while left<right:\n",
    "            arr[left],arr[right]= arr[right],arr[left]\n",
    "            left +=1\n",
    "            right-=1\n",
    "    print(arr)\n",
    "            \n",
    "            \n",
    "reverse_in_group([1,3,4,5,6,7],3)\n",
    "            "
   ]
  },
  {
   "cell_type": "code",
   "execution_count": 25,
   "metadata": {},
   "outputs": [
    {
     "data": {
      "text/plain": [
       "'You are given an array arr[] of non-negative integers. Your task is to move all the zeros in the array to the right end while maintaining the relative order of the non-zero elements. The operation must be performed in place, meaning you should not use extra space for another array.'"
      ]
     },
     "execution_count": 25,
     "metadata": {},
     "output_type": "execute_result"
    }
   ],
   "source": [
    "\"\"\"You are given an array arr[] of non-negative integers. Your task is to move all the zeros in the array to the right end while maintaining the relative order of the non-zero elements. The operation must be performed in place, meaning you should not use extra space for another array.\"\"\""
   ]
  },
  {
   "cell_type": "code",
   "execution_count": null,
   "metadata": {},
   "outputs": [],
   "source": []
  }
 ],
 "metadata": {
  "kernelspec": {
   "display_name": "python-learning-vL-Vt3Db-py3.9",
   "language": "python",
   "name": "python3"
  },
  "language_info": {
   "codemirror_mode": {
    "name": "ipython",
    "version": 3
   },
   "file_extension": ".py",
   "mimetype": "text/x-python",
   "name": "python",
   "nbconvert_exporter": "python",
   "pygments_lexer": "ipython3",
   "version": "3.9.16"
  },
  "orig_nbformat": 4
 },
 "nbformat": 4,
 "nbformat_minor": 2
}
