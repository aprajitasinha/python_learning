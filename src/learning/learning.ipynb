{
 "cells": [
  {
   "cell_type": "code",
   "execution_count": 2,
   "metadata": {},
   "outputs": [
    {
     "name": "stdout",
     "output_type": "stream",
     "text": [
      "Hello World\n",
      "This is true\n",
      "I am tab indentation\n",
      "I have no indentation!!\n",
      "Alice 28 Hyderabad\n",
      "Amount: $150.00\n",
      "ABC@\n",
      "A-B-C\n",
      "Hello , My name is Aprajita and I am 28 years old\n",
      "The sum is 72\n"
     ]
    }
   ],
   "source": [
    "print(\"Hello World\")\n",
    "if 10 > 5:\n",
    "     print(\"This is true\")\n",
    "     print(\"I am tab indentation\")\n",
    "print(\"I have no indentation!!\")    \n",
    "\n",
    "#to print multiple variable \n",
    "s=\"Alice\"\n",
    "age=28\n",
    "city= \"Hyderabad\"\n",
    "print(s,age,city)\n",
    "\n",
    "#Output Formatiing\n",
    "amount =150\n",
    "print(\"Amount: ${:.2f}\".format(amount))\n",
    "\n",
    "#using sep and end parameter\n",
    "print(\"ABC\",end='@\\n')\n",
    "print('A','B','C' ,sep=\"-\")\n",
    "\n",
    "#using f-string\n",
    "name=\"Aprajita\"\n",
    "age=\"28\"\n",
    "print(f\"Hello , My name is {name} and I am {age} years old\")\n",
    "\n"
   ]
  },
  {
   "cell_type": "code",
   "execution_count": 8,
   "metadata": {},
   "outputs": [
    {
     "name": "stdout",
     "output_type": "stream",
     "text": [
      "The sum is 7\n"
     ]
    }
   ],
   "source": [
    "#using % operator\n",
    "# Taking input from the user\n",
    "num = int(input(\"Enter a value: \"))\n",
    "\n",
    "add = num + 5\n",
    "# Output\n",
    "print(\"The sum is %d\" %add)\n",
    "\n",
    "\n"
   ]
  },
  {
   "cell_type": "code",
   "execution_count": 16,
   "metadata": {},
   "outputs": [
    {
     "name": "stdout",
     "output_type": "stream",
     "text": [
      "Number of boy: 2\n",
      "Number of girsl 34\n",
      "number of Boys 2\n",
      "number of girsl 34\n",
      "number of stsudents 56\n"
     ]
    }
   ],
   "source": [
    "#taking multiple input in python\n",
    "x,y =input(\"Enter two variables:\").split()\n",
    "print(\"Number of boy:\",x)\n",
    "print (\"Number of girsl\",y)\n",
    "\n",
    "x,y,z =input(\"Enter three valiable:\").split()\n",
    "print(\"number of Boys\",x)\n",
    "print(\"number of girsl\",y)\n",
    "print(\"number of stsudents\",z)\n"
   ]
  },
  {
   "cell_type": "code",
   "execution_count": 25,
   "metadata": {},
   "outputs": [
    {
     "name": "stdout",
     "output_type": "stream",
     "text": [
      "You are adult\n"
     ]
    }
   ],
   "source": [
    "#Take Conditional Input from user in Python\n",
    "age_input=input(\"Enter your age :\")\n",
    "age=int(age_input)\n",
    "if age<0:\n",
    "    print(\"Please enetre a valid age\")\n",
    "elif age<18:\n",
    "    print(\"You ae a minor\")\n",
    "elif age >= 18 and age <65:\n",
    "    print(\"You are adult\")\n",
    "else:\n",
    "    print(\"you aare a senior citizen\")\n",
    "\n"
   ]
  },
  {
   "cell_type": "code",
   "execution_count": 28,
   "metadata": {},
   "outputs": [
    {
     "name": "stdout",
     "output_type": "stream",
     "text": [
      "22.0\n"
     ]
    }
   ],
   "source": [
    "\n",
    "#typecasting\n",
    "price =float(input(\"Price of each rose?:\"))\n",
    "print(price)\n",
    " "
   ]
  },
  {
   "cell_type": "code",
   "execution_count": 30,
   "metadata": {},
   "outputs": [
    {
     "name": "stdout",
     "output_type": "stream",
     "text": [
      "<class 'str'>\n",
      "<class 'int'>\n",
      "<class 'float'>\n",
      "<class 'tuple'>\n",
      "<class 'list'>\n",
      "<class 'dict'>\n"
     ]
    }
   ],
   "source": [
    "#find data type\n",
    "a=\"Alish\"\n",
    "b =10\n",
    "c=11.22\n",
    "d=(\"Geeks\", \"For\", \"geeks\")\n",
    "e=[\"Geeks\", \"for\" ,\"geeks\"]\n",
    "f={\"Geeks\":1 ,\"for\":2 ,\"geeks\":3}\n",
    "\n",
    "print(type(a))\n",
    "print(type(b))\n",
    "print(type(c))\n",
    "print(type(d))\n",
    "print(type(e))\n",
    "print(type(f))"
   ]
  },
  {
   "cell_type": "code",
   "execution_count": 36,
   "metadata": {},
   "outputs": [
    {
     "name": "stdout",
     "output_type": "stream",
     "text": [
      "100 100 100\n",
      "24\n",
      "4.0\n"
     ]
    }
   ],
   "source": [
    "a=b=c=100\n",
    "print(a,b,c)\n",
    "\n",
    "age=24\n",
    "n=str(age)\n",
    "print(n)\n",
    "v=4\n",
    "x=float(v)\n",
    "print(x)"
   ]
  },
  {
   "cell_type": "code",
   "execution_count": 41,
   "metadata": {},
   "outputs": [
    {
     "name": "stdout",
     "output_type": "stream",
     "text": [
      "I am local\n"
     ]
    }
   ],
   "source": [
    "#scope of variable\n",
    "def f():\n",
    "    a=\"I am local\"\n",
    "    print(a)\n",
    "f()\n"
   ]
  },
  {
   "cell_type": "code",
   "execution_count": 45,
   "metadata": {},
   "outputs": [
    {
     "name": "stdout",
     "output_type": "stream",
     "text": [
      "Modified\n",
      "I am gobal\n"
     ]
    }
   ],
   "source": [
    "#global variable\n",
    "a=\"I am gobal\"\n",
    "def function():\n",
    "    #global a\n",
    "    a=\"Modified\"\n",
    "    print(a)\n",
    "function()\n",
    "print(a)    "
   ]
  },
  {
   "cell_type": "code",
   "execution_count": 49,
   "metadata": {},
   "outputs": [
    {
     "name": "stdout",
     "output_type": "stream",
     "text": [
      "Sorry ! You are dividing by zero \n"
     ]
    }
   ],
   "source": [
    "# working of try() \n",
    "def divide(x, y):\n",
    "    try:\n",
    "        # Floor Division : Gives only Fractional Part as Answer\n",
    "        result = x // y\n",
    "        print(\"Yeah ! Your answer is :\", result)\n",
    "    except ZeroDivisionError:\n",
    "        print(\"Sorry ! You are dividing by zero \")\n",
    "\n",
    "# Look at parameters and note the working of Program\n",
    "divide(3, 0)"
   ]
  },
  {
   "cell_type": "code",
   "execution_count": 7,
   "metadata": {},
   "outputs": [
    {
     "name": "stdout",
     "output_type": "stream",
     "text": [
      "[1, 2, 3, [4, 5]]\n",
      "[1, 2, 3, [4, 5], 4, 5, 6]\n"
     ]
    }
   ],
   "source": [
    "list=[1,2,3,]\n",
    "list.append([4,5])\n",
    "print(list)\n",
    "list.extend([4,5,6])\n",
    "print(list)\n"
   ]
  },
  {
   "cell_type": "code",
   "execution_count": 14,
   "metadata": {},
   "outputs": [
    {
     "name": "stdout",
     "output_type": "stream",
     "text": [
      "['0:apple', '1:banana', '2:cherry', '3:guava']\n"
     ]
    }
   ],
   "source": [
    "fruits =[\"apple\",\"banana\",\"cherry\",\"guava\"]\n",
    "#for index, fruit in enumerate(fruits, start=1):\n",
    "fruit_list=[f\"{i}:{fruit}\" for i , fruit in enumerate(fruits)]\n",
    "print(fruit_list)"
   ]
  }
 ],
 "metadata": {
  "kernelspec": {
   "display_name": "python-learning-vL-Vt3Db-py3.9",
   "language": "python",
   "name": "python3"
  },
  "language_info": {
   "codemirror_mode": {
    "name": "ipython",
    "version": 3
   },
   "file_extension": ".py",
   "mimetype": "text/x-python",
   "name": "python",
   "nbconvert_exporter": "python",
   "pygments_lexer": "ipython3",
   "version": "3.9.16"
  },
  "orig_nbformat": 4
 },
 "nbformat": 4,
 "nbformat_minor": 2
}
