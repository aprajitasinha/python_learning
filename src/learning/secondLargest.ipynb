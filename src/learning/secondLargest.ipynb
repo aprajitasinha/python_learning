{
 "cells": [
  {
   "cell_type": "code",
   "execution_count": null,
   "metadata": {},
   "outputs": [],
   "source": [
    "\"\"\"Given an array of positive integers arr[], return the second largest element from the array. If the second largest element doesn't exist then return -1.\n",
    "\n",
    "Note: The second largest element should not be equal to the largest element.\n",
    "\n",
    "Examples:\n",
    "\n",
    "Input: arr[] = [12, 35, 1, 10, 34, 1]\n",
    "Output: 34\n",
    "Explanation: The largest element of the array is 35 and the second largest element is 34.\"\"\""
   ]
  },
  {
   "cell_type": "code",
   "execution_count": 2,
   "metadata": {},
   "outputs": [
    {
     "data": {
      "text/plain": [
       "9"
      ]
     },
     "execution_count": 2,
     "metadata": {},
     "output_type": "execute_result"
    }
   ],
   "source": [
    "def second_largest(arr):\n",
    "    if len(arr)<2:\n",
    "        return -1\n",
    "    first = float('-inf')\n",
    "    second= float('-inf')\n",
    "    for num in arr:\n",
    "        if num >first:\n",
    "            second=first\n",
    "            first=num\n",
    "        elif num>second and num <first:\n",
    "            second=num\n",
    "    return second if second!= float('-inf') else -1\n",
    "\n",
    "arr=[1,4,10,9]\n",
    "second_largest(arr)"
   ]
  }
 ],
 "metadata": {
  "kernelspec": {
   "display_name": "python-learning-vL-Vt3Db-py3.9",
   "language": "python",
   "name": "python3"
  },
  "language_info": {
   "codemirror_mode": {
    "name": "ipython",
    "version": 3
   },
   "file_extension": ".py",
   "mimetype": "text/x-python",
   "name": "python",
   "nbconvert_exporter": "python",
   "pygments_lexer": "ipython3",
   "version": "3.9.16"
  },
  "orig_nbformat": 4
 },
 "nbformat": 4,
 "nbformat_minor": 2
}
