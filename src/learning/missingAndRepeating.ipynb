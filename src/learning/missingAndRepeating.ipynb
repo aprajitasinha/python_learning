{
 "cells": [
  {
   "cell_type": "code",
   "execution_count": null,
   "metadata": {},
   "outputs": [],
   "source": [
    "\"\"\"Given an unsorted array arr of positive integers. One number a from the set [1, 2,....,n] is missing and one number b occurs twice in the array. Find numbers a and b.\n",
    "\n",
    "Note: The test cases are generated such that there always exists one missing and one repeating number within the range [1,n].\n",
    "\n",
    "\"\"\""
   ]
  },
  {
   "cell_type": "code",
   "execution_count": 10,
   "metadata": {},
   "outputs": [
    {
     "data": {
      "text/plain": [
       "[2, 4]"
      ]
     },
     "execution_count": 10,
     "metadata": {},
     "output_type": "execute_result"
    }
   ],
   "source": [
    "def find_missing_and_repeating(arr):\n",
    "    n=len(arr)\n",
    "    expected_sum=n*(n+1)//2\n",
    "    expected_sq_sum= n*(n+1) * (2*n+1)//6\n",
    "    \n",
    "    actual_sum=sum(arr)\n",
    "    actual_sq_sum=sum(x*x  for x in arr)\n",
    "    diff = actual_sum -expected_sum\n",
    "    sq_diff=actual_sq_sum-expected_sq_sum\n",
    "    sum_xy= sq_diff//diff\n",
    "    \n",
    "    missing= (sum_xy +diff)//2\n",
    "    repeating=sum_xy - missing\n",
    "    return [repeating,missing]\n",
    "\n",
    "arr= [2,2,3,5]\n",
    "find_missing_and_repeating(arr)"
   ]
  }
 ],
 "metadata": {
  "kernelspec": {
   "display_name": "python-learning-vL-Vt3Db-py3.9",
   "language": "python",
   "name": "python3"
  },
  "language_info": {
   "codemirror_mode": {
    "name": "ipython",
    "version": 3
   },
   "file_extension": ".py",
   "mimetype": "text/x-python",
   "name": "python",
   "nbconvert_exporter": "python",
   "pygments_lexer": "ipython3",
   "version": "3.9.16"
  },
  "orig_nbformat": 4
 },
 "nbformat": 4,
 "nbformat_minor": 2
}
